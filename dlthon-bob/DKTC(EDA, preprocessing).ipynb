{
  "cells": [
    {
      "cell_type": "markdown",
      "id": "a63262ad",
      "metadata": {
        "id": "a63262ad"
      },
      "source": [
        "# 데이터"
      ]
    },
    {
      "cell_type": "code",
      "execution_count": 49,
      "id": "cf7ba9f6",
      "metadata": {
        "id": "cf7ba9f6"
      },
      "outputs": [],
      "source": [
        "# 라이브러리 불러오기\n",
        "import os\n",
        "import matplotlib.pyplot as plt\n",
        "import numpy as np\n",
        "import pandas as pd\n",
        "import seaborn as sns\n",
        "from collections import Counter\n",
        "from konlpy.tag import Okt\n",
        "from sklearn.model_selection import train_test_split"
      ]
    },
    {
      "cell_type": "code",
      "source": [
        "from google.colab import drive\n",
        "drive.mount('/content/drive')"
      ],
      "metadata": {
        "id": "3Lq1FkfT8Lcb",
        "colab": {
          "base_uri": "https://localhost:8080/"
        },
        "outputId": "a17e52ce-591f-42c6-b52c-22919db10ad5"
      },
      "id": "3Lq1FkfT8Lcb",
      "execution_count": 1,
      "outputs": [
        {
          "output_type": "stream",
          "name": "stdout",
          "text": [
            "Mounted at /content/drive\n"
          ]
        }
      ]
    },
    {
      "cell_type": "code",
      "source": [
        "# 한글 폰트에 문제가 생겼을 때\n",
        "\n",
        "# 한글 폰트 설치\n",
        "!apt-get update -qq\n",
        "!apt-get install -qq fonts-nanum\n",
        "\n",
        "# 설치한 폰트를 matplotlib에서 사용할 수 있도록 설정\n",
        "import matplotlib.font_manager as fm\n",
        "import matplotlib.pyplot as plt\n",
        "\n",
        "# 나눔 폰트 경로 설정\n",
        "font_path = '/usr/share/fonts/truetype/nanum/NanumGothic.ttf'\n",
        "\n",
        "# 폰트 매니저에 폰트 추가\n",
        "fm.fontManager.addfont(font_path)\n",
        "plt.rc('font', family='NanumGothic')  # 폰트 설정"
      ],
      "metadata": {
        "id": "SlAOhRs09rt2"
      },
      "id": "SlAOhRs09rt2",
      "execution_count": 48,
      "outputs": []
    },
    {
      "cell_type": "markdown",
      "id": "482d4066",
      "metadata": {
        "id": "482d4066"
      },
      "source": [
        "## 데이터 업로드"
      ]
    },
    {
      "cell_type": "markdown",
      "id": "7ae4fc0d",
      "metadata": {
        "id": "7ae4fc0d"
      },
      "source": [
        "#### 학습 데이터 불러오기\n",
        "\n",
        "프롬프트로 생성된 '일반 대화' 합성 데이터와 원본 데이터가 합쳐진 파일"
      ]
    },
    {
      "cell_type": "code",
      "execution_count": 2,
      "id": "b13d6792",
      "metadata": {
        "id": "b13d6792"
      },
      "outputs": [],
      "source": [
        "# 경로를 적절히 수정해주세요.\n",
        "train_data_path =\"/content/drive/MyDrive/07. GoData/20. DKTC/conversations.csv\"\n",
        "train_data = pd.read_csv(train_data_path)"
      ]
    },
    {
      "cell_type": "code",
      "execution_count": 3,
      "id": "960aefbc",
      "metadata": {
        "id": "960aefbc",
        "outputId": "0a63c37c-ea2e-465c-830f-f36405289505",
        "colab": {
          "base_uri": "https://localhost:8080/",
          "height": 362
        }
      },
      "outputs": [
        {
          "output_type": "execute_result",
          "data": {
            "text/plain": [
              "       idx        class                                       conversation\n",
              "4740  4740        협박 대화  사모님 이 건물 이번 내진 평가에서 1등급 받은 건물입니다. 선택하시면 후회 없으실...\n",
              "2451  2451        갈취 대화  어이! 이리 와봐.\\n네? 무슨 일이세요?\\n시끄럽게 굴지 말고 가방 내놔.\\n왜 ...\n",
              "2677  2677  직장 내 괴롭힘 대화  땡땡씨는 이번 워크샵 가지마\\n네? 왜요?\\n일두 제대로 못하는 사람이 그런데 가서...\n",
              "244    244    기타 괴롭힘 대화  어이 아가씨. 좀 놀다가!\\n 그래그래. 이쁘구만 우리랑 좀 놀다가.\\n 아저씨들 ...\n",
              "1570  1570    기타 괴롭힘 대화  늙었으면 곱게 늙으세요 나이먹고 훈계질 하지마시고\\n이.고.고얀놈!!\\n어른한테 무...\n",
              "3874  3874        갈취 대화  그 건물 나한테 넘겨.\\n 뭐?\\n 나한테 말조심하는게 좋을걸? 내가 모를거라고 생...\n",
              "1867  1867        협박 대화  더 이상 살고 싶지가 않아. \\n여보 켁.이게 무슨.무슨 냄새야?\\n여보 우리 천국...\n",
              "3500  3500    기타 괴롭힘 대화  의사선생님 \\n네\\n저번에 다녀갔는데 대체 왜 아직도 안 낫죠?\\n예 원래 2주정도...\n",
              "3612  3612        갈취 대화  야 어제 만원이 비더라?\\n미안. 용돈 많이 못 받아서. 그래도 받자마자 다 가지고...\n",
              "1962  1962        협박 대화  알라신의 이름으로 네놈의 목을 잘라버릴 것이다.\\n살려주세요.\\n알라신을 믿겠다고 ..."
            ],
            "text/html": [
              "\n",
              "  <div id=\"df-2ee43f4e-0e38-4ac9-be7e-91691b01faf6\" class=\"colab-df-container\">\n",
              "    <div>\n",
              "<style scoped>\n",
              "    .dataframe tbody tr th:only-of-type {\n",
              "        vertical-align: middle;\n",
              "    }\n",
              "\n",
              "    .dataframe tbody tr th {\n",
              "        vertical-align: top;\n",
              "    }\n",
              "\n",
              "    .dataframe thead th {\n",
              "        text-align: right;\n",
              "    }\n",
              "</style>\n",
              "<table border=\"1\" class=\"dataframe\">\n",
              "  <thead>\n",
              "    <tr style=\"text-align: right;\">\n",
              "      <th></th>\n",
              "      <th>idx</th>\n",
              "      <th>class</th>\n",
              "      <th>conversation</th>\n",
              "    </tr>\n",
              "  </thead>\n",
              "  <tbody>\n",
              "    <tr>\n",
              "      <th>4740</th>\n",
              "      <td>4740</td>\n",
              "      <td>협박 대화</td>\n",
              "      <td>사모님 이 건물 이번 내진 평가에서 1등급 받은 건물입니다. 선택하시면 후회 없으실...</td>\n",
              "    </tr>\n",
              "    <tr>\n",
              "      <th>2451</th>\n",
              "      <td>2451</td>\n",
              "      <td>갈취 대화</td>\n",
              "      <td>어이! 이리 와봐.\\n네? 무슨 일이세요?\\n시끄럽게 굴지 말고 가방 내놔.\\n왜 ...</td>\n",
              "    </tr>\n",
              "    <tr>\n",
              "      <th>2677</th>\n",
              "      <td>2677</td>\n",
              "      <td>직장 내 괴롭힘 대화</td>\n",
              "      <td>땡땡씨는 이번 워크샵 가지마\\n네? 왜요?\\n일두 제대로 못하는 사람이 그런데 가서...</td>\n",
              "    </tr>\n",
              "    <tr>\n",
              "      <th>244</th>\n",
              "      <td>244</td>\n",
              "      <td>기타 괴롭힘 대화</td>\n",
              "      <td>어이 아가씨. 좀 놀다가!\\n 그래그래. 이쁘구만 우리랑 좀 놀다가.\\n 아저씨들 ...</td>\n",
              "    </tr>\n",
              "    <tr>\n",
              "      <th>1570</th>\n",
              "      <td>1570</td>\n",
              "      <td>기타 괴롭힘 대화</td>\n",
              "      <td>늙었으면 곱게 늙으세요 나이먹고 훈계질 하지마시고\\n이.고.고얀놈!!\\n어른한테 무...</td>\n",
              "    </tr>\n",
              "    <tr>\n",
              "      <th>3874</th>\n",
              "      <td>3874</td>\n",
              "      <td>갈취 대화</td>\n",
              "      <td>그 건물 나한테 넘겨.\\n 뭐?\\n 나한테 말조심하는게 좋을걸? 내가 모를거라고 생...</td>\n",
              "    </tr>\n",
              "    <tr>\n",
              "      <th>1867</th>\n",
              "      <td>1867</td>\n",
              "      <td>협박 대화</td>\n",
              "      <td>더 이상 살고 싶지가 않아. \\n여보 켁.이게 무슨.무슨 냄새야?\\n여보 우리 천국...</td>\n",
              "    </tr>\n",
              "    <tr>\n",
              "      <th>3500</th>\n",
              "      <td>3500</td>\n",
              "      <td>기타 괴롭힘 대화</td>\n",
              "      <td>의사선생님 \\n네\\n저번에 다녀갔는데 대체 왜 아직도 안 낫죠?\\n예 원래 2주정도...</td>\n",
              "    </tr>\n",
              "    <tr>\n",
              "      <th>3612</th>\n",
              "      <td>3612</td>\n",
              "      <td>갈취 대화</td>\n",
              "      <td>야 어제 만원이 비더라?\\n미안. 용돈 많이 못 받아서. 그래도 받자마자 다 가지고...</td>\n",
              "    </tr>\n",
              "    <tr>\n",
              "      <th>1962</th>\n",
              "      <td>1962</td>\n",
              "      <td>협박 대화</td>\n",
              "      <td>알라신의 이름으로 네놈의 목을 잘라버릴 것이다.\\n살려주세요.\\n알라신을 믿겠다고 ...</td>\n",
              "    </tr>\n",
              "  </tbody>\n",
              "</table>\n",
              "</div>\n",
              "    <div class=\"colab-df-buttons\">\n",
              "\n",
              "  <div class=\"colab-df-container\">\n",
              "    <button class=\"colab-df-convert\" onclick=\"convertToInteractive('df-2ee43f4e-0e38-4ac9-be7e-91691b01faf6')\"\n",
              "            title=\"Convert this dataframe to an interactive table.\"\n",
              "            style=\"display:none;\">\n",
              "\n",
              "  <svg xmlns=\"http://www.w3.org/2000/svg\" height=\"24px\" viewBox=\"0 -960 960 960\">\n",
              "    <path d=\"M120-120v-720h720v720H120Zm60-500h600v-160H180v160Zm220 220h160v-160H400v160Zm0 220h160v-160H400v160ZM180-400h160v-160H180v160Zm440 0h160v-160H620v160ZM180-180h160v-160H180v160Zm440 0h160v-160H620v160Z\"/>\n",
              "  </svg>\n",
              "    </button>\n",
              "\n",
              "  <style>\n",
              "    .colab-df-container {\n",
              "      display:flex;\n",
              "      gap: 12px;\n",
              "    }\n",
              "\n",
              "    .colab-df-convert {\n",
              "      background-color: #E8F0FE;\n",
              "      border: none;\n",
              "      border-radius: 50%;\n",
              "      cursor: pointer;\n",
              "      display: none;\n",
              "      fill: #1967D2;\n",
              "      height: 32px;\n",
              "      padding: 0 0 0 0;\n",
              "      width: 32px;\n",
              "    }\n",
              "\n",
              "    .colab-df-convert:hover {\n",
              "      background-color: #E2EBFA;\n",
              "      box-shadow: 0px 1px 2px rgba(60, 64, 67, 0.3), 0px 1px 3px 1px rgba(60, 64, 67, 0.15);\n",
              "      fill: #174EA6;\n",
              "    }\n",
              "\n",
              "    .colab-df-buttons div {\n",
              "      margin-bottom: 4px;\n",
              "    }\n",
              "\n",
              "    [theme=dark] .colab-df-convert {\n",
              "      background-color: #3B4455;\n",
              "      fill: #D2E3FC;\n",
              "    }\n",
              "\n",
              "    [theme=dark] .colab-df-convert:hover {\n",
              "      background-color: #434B5C;\n",
              "      box-shadow: 0px 1px 3px 1px rgba(0, 0, 0, 0.15);\n",
              "      filter: drop-shadow(0px 1px 2px rgba(0, 0, 0, 0.3));\n",
              "      fill: #FFFFFF;\n",
              "    }\n",
              "  </style>\n",
              "\n",
              "    <script>\n",
              "      const buttonEl =\n",
              "        document.querySelector('#df-2ee43f4e-0e38-4ac9-be7e-91691b01faf6 button.colab-df-convert');\n",
              "      buttonEl.style.display =\n",
              "        google.colab.kernel.accessAllowed ? 'block' : 'none';\n",
              "\n",
              "      async function convertToInteractive(key) {\n",
              "        const element = document.querySelector('#df-2ee43f4e-0e38-4ac9-be7e-91691b01faf6');\n",
              "        const dataTable =\n",
              "          await google.colab.kernel.invokeFunction('convertToInteractive',\n",
              "                                                    [key], {});\n",
              "        if (!dataTable) return;\n",
              "\n",
              "        const docLinkHtml = 'Like what you see? Visit the ' +\n",
              "          '<a target=\"_blank\" href=https://colab.research.google.com/notebooks/data_table.ipynb>data table notebook</a>'\n",
              "          + ' to learn more about interactive tables.';\n",
              "        element.innerHTML = '';\n",
              "        dataTable['output_type'] = 'display_data';\n",
              "        await google.colab.output.renderOutput(dataTable, element);\n",
              "        const docLink = document.createElement('div');\n",
              "        docLink.innerHTML = docLinkHtml;\n",
              "        element.appendChild(docLink);\n",
              "      }\n",
              "    </script>\n",
              "  </div>\n",
              "\n",
              "\n",
              "<div id=\"df-5a92a2b2-ae82-417a-80c5-2c0c6378910c\">\n",
              "  <button class=\"colab-df-quickchart\" onclick=\"quickchart('df-5a92a2b2-ae82-417a-80c5-2c0c6378910c')\"\n",
              "            title=\"Suggest charts\"\n",
              "            style=\"display:none;\">\n",
              "\n",
              "<svg xmlns=\"http://www.w3.org/2000/svg\" height=\"24px\"viewBox=\"0 0 24 24\"\n",
              "     width=\"24px\">\n",
              "    <g>\n",
              "        <path d=\"M19 3H5c-1.1 0-2 .9-2 2v14c0 1.1.9 2 2 2h14c1.1 0 2-.9 2-2V5c0-1.1-.9-2-2-2zM9 17H7v-7h2v7zm4 0h-2V7h2v10zm4 0h-2v-4h2v4z\"/>\n",
              "    </g>\n",
              "</svg>\n",
              "  </button>\n",
              "\n",
              "<style>\n",
              "  .colab-df-quickchart {\n",
              "      --bg-color: #E8F0FE;\n",
              "      --fill-color: #1967D2;\n",
              "      --hover-bg-color: #E2EBFA;\n",
              "      --hover-fill-color: #174EA6;\n",
              "      --disabled-fill-color: #AAA;\n",
              "      --disabled-bg-color: #DDD;\n",
              "  }\n",
              "\n",
              "  [theme=dark] .colab-df-quickchart {\n",
              "      --bg-color: #3B4455;\n",
              "      --fill-color: #D2E3FC;\n",
              "      --hover-bg-color: #434B5C;\n",
              "      --hover-fill-color: #FFFFFF;\n",
              "      --disabled-bg-color: #3B4455;\n",
              "      --disabled-fill-color: #666;\n",
              "  }\n",
              "\n",
              "  .colab-df-quickchart {\n",
              "    background-color: var(--bg-color);\n",
              "    border: none;\n",
              "    border-radius: 50%;\n",
              "    cursor: pointer;\n",
              "    display: none;\n",
              "    fill: var(--fill-color);\n",
              "    height: 32px;\n",
              "    padding: 0;\n",
              "    width: 32px;\n",
              "  }\n",
              "\n",
              "  .colab-df-quickchart:hover {\n",
              "    background-color: var(--hover-bg-color);\n",
              "    box-shadow: 0 1px 2px rgba(60, 64, 67, 0.3), 0 1px 3px 1px rgba(60, 64, 67, 0.15);\n",
              "    fill: var(--button-hover-fill-color);\n",
              "  }\n",
              "\n",
              "  .colab-df-quickchart-complete:disabled,\n",
              "  .colab-df-quickchart-complete:disabled:hover {\n",
              "    background-color: var(--disabled-bg-color);\n",
              "    fill: var(--disabled-fill-color);\n",
              "    box-shadow: none;\n",
              "  }\n",
              "\n",
              "  .colab-df-spinner {\n",
              "    border: 2px solid var(--fill-color);\n",
              "    border-color: transparent;\n",
              "    border-bottom-color: var(--fill-color);\n",
              "    animation:\n",
              "      spin 1s steps(1) infinite;\n",
              "  }\n",
              "\n",
              "  @keyframes spin {\n",
              "    0% {\n",
              "      border-color: transparent;\n",
              "      border-bottom-color: var(--fill-color);\n",
              "      border-left-color: var(--fill-color);\n",
              "    }\n",
              "    20% {\n",
              "      border-color: transparent;\n",
              "      border-left-color: var(--fill-color);\n",
              "      border-top-color: var(--fill-color);\n",
              "    }\n",
              "    30% {\n",
              "      border-color: transparent;\n",
              "      border-left-color: var(--fill-color);\n",
              "      border-top-color: var(--fill-color);\n",
              "      border-right-color: var(--fill-color);\n",
              "    }\n",
              "    40% {\n",
              "      border-color: transparent;\n",
              "      border-right-color: var(--fill-color);\n",
              "      border-top-color: var(--fill-color);\n",
              "    }\n",
              "    60% {\n",
              "      border-color: transparent;\n",
              "      border-right-color: var(--fill-color);\n",
              "    }\n",
              "    80% {\n",
              "      border-color: transparent;\n",
              "      border-right-color: var(--fill-color);\n",
              "      border-bottom-color: var(--fill-color);\n",
              "    }\n",
              "    90% {\n",
              "      border-color: transparent;\n",
              "      border-bottom-color: var(--fill-color);\n",
              "    }\n",
              "  }\n",
              "</style>\n",
              "\n",
              "  <script>\n",
              "    async function quickchart(key) {\n",
              "      const quickchartButtonEl =\n",
              "        document.querySelector('#' + key + ' button');\n",
              "      quickchartButtonEl.disabled = true;  // To prevent multiple clicks.\n",
              "      quickchartButtonEl.classList.add('colab-df-spinner');\n",
              "      try {\n",
              "        const charts = await google.colab.kernel.invokeFunction(\n",
              "            'suggestCharts', [key], {});\n",
              "      } catch (error) {\n",
              "        console.error('Error during call to suggestCharts:', error);\n",
              "      }\n",
              "      quickchartButtonEl.classList.remove('colab-df-spinner');\n",
              "      quickchartButtonEl.classList.add('colab-df-quickchart-complete');\n",
              "    }\n",
              "    (() => {\n",
              "      let quickchartButtonEl =\n",
              "        document.querySelector('#df-5a92a2b2-ae82-417a-80c5-2c0c6378910c button');\n",
              "      quickchartButtonEl.style.display =\n",
              "        google.colab.kernel.accessAllowed ? 'block' : 'none';\n",
              "    })();\n",
              "  </script>\n",
              "</div>\n",
              "\n",
              "    </div>\n",
              "  </div>\n"
            ],
            "application/vnd.google.colaboratory.intrinsic+json": {
              "type": "dataframe",
              "summary": "{\n  \"name\": \"train_data\",\n  \"rows\": 10,\n  \"fields\": [\n    {\n      \"column\": \"idx\",\n      \"properties\": {\n        \"dtype\": \"number\",\n        \"std\": 1316,\n        \"min\": 244,\n        \"max\": 4740,\n        \"num_unique_values\": 10,\n        \"samples\": [\n          3612,\n          2451,\n          3874\n        ],\n        \"semantic_type\": \"\",\n        \"description\": \"\"\n      }\n    },\n    {\n      \"column\": \"class\",\n      \"properties\": {\n        \"dtype\": \"category\",\n        \"num_unique_values\": 4,\n        \"samples\": [\n          \"\\uac08\\ucde8 \\ub300\\ud654\",\n          \"\\uae30\\ud0c0 \\uad34\\ub86d\\ud798 \\ub300\\ud654\",\n          \"\\ud611\\ubc15 \\ub300\\ud654\"\n        ],\n        \"semantic_type\": \"\",\n        \"description\": \"\"\n      }\n    },\n    {\n      \"column\": \"conversation\",\n      \"properties\": {\n        \"dtype\": \"string\",\n        \"num_unique_values\": 10,\n        \"samples\": [\n          \"\\uc57c \\uc5b4\\uc81c \\ub9cc\\uc6d0\\uc774 \\ube44\\ub354\\ub77c?\\n\\ubbf8\\uc548. \\uc6a9\\ub3c8 \\ub9ce\\uc774 \\ubabb \\ubc1b\\uc544\\uc11c. \\uadf8\\ub798\\ub3c4 \\ubc1b\\uc790\\ub9c8\\uc790 \\ub2e4 \\uac00\\uc9c0\\uace0 \\uc654\\uc5b4.\\n\\uc57c \\uc9d1\\ub3c4 \\uc798 \\uc0ac\\ub294 \\uc8fc\\uc81c\\uc5d0 \\uc6a9\\ub3c8\\uc774 \\uc65c\\uc774\\ub807\\uac8c \\uc9dc?\\n\\uc544\\ub0d0 \\uc6b0\\ub9ac\\uc9d1. \\ubabb \\uc0b4\\uc544\\n\\uc57c \\ub290\\uadf8\\uc9d1 \\ubabb\\uc0b4\\uba74 \\uc6b0\\ub9ac\\uc9d1\\uc740 \\uc309 \\uac70\\uc9c0\\ub77c\\ub294\\uac70\\ub0d0?\\n\\uc544.\\uc544\\ub2c8 \\uadf8\\ub7f0 \\ub73b\\uc774 \\uc544\\ub2c8\\ub77c \\uc9c4\\uc9dc\\ub85c \\ub3c8\\uc774 \\ubcc4\\ub85c \\uc5c6\\uc5b4 \\ub098\\ub3c4 \\ub9e8\\ub0a0 \\uc5c4\\ub9c8\\ud55c\\ud14c \\ubd80\\ud0c1\\ub4dc\\ub824\\n\\uc57c \\uadf8\\ub7fc \\uc774\\uc655 \\ubd80\\ud0c1\\ub4dc\\ub9ac\\ub294\\uac70 \\ub354 \\ubd80\\ud0c1\\ub4dc\\ub824 \\uc874\\ub098 \\ucabc\\uc794\\ud558\\uac8c \\uc774\\uac70\\uac00\\uc9c0\\uace0 \\ubb58\\ud558\\ub0d0?\\n\\uc544. \\uc5bc\\ub9c8\\ub098 \\ub354 \\ud544\\uc694\\ud55c\\ub370.?\\n\\uc624\\ub9cc\\uc6d0\\uc529 \\ub354 \\uac00\\uc838\\uc640\\n\\ubbf8\\uc548. \\uad6c\\ud574\\ubcfc\\uac8c\",\n          \"\\uc5b4\\uc774! \\uc774\\ub9ac \\uc640\\ubd10.\\n\\ub124? \\ubb34\\uc2a8 \\uc77c\\uc774\\uc138\\uc694?\\n\\uc2dc\\ub044\\ub7fd\\uac8c \\uad74\\uc9c0 \\ub9d0\\uace0 \\uac00\\ubc29 \\ub0b4\\ub194.\\n\\uc65c \\uc774\\ub7ec\\uc138\\uc694.\\n\\uc870\\uc6a9\\ud788 \\ud558\\uace0 \\ub0b4\\ub194! \\uc9c0\\uac11\\uc5d0 \\ubb50 \\uc774\\ub807\\uac8c \\ub4e0 \\uac8c \\uc5c6\\uc5b4.\\n\\uadf8\\uac8c \\ub2e4\\uc5d0\\uc694.\\n\\ud558\\uace0 \\uc788\\ub294 \\ubaa9\\uac78\\uc774 \\uadc0\\uac78\\uc774 \\ub2e4 \\ub0b4\\ub194 \\n\\uc548\\ub3fc\\uc694. \\uc190\\ub300\\uc9c0\\ub9c8\\uc138\\uc694.\\n\\uc6b0\\ub9ac\\uac00 \\ubb58 \\uc190\\uc744 \\ub314\\ub2e4\\uace0 \\uadf8\\ub798. \\uc870\\uc6a9\\ud788 \\ub0b4\\ub824\\ub193\\uace0 \\uac00.\\n\\uc65c \\uc774\\ub7ec\\uc138\\uc694 \\uc815\\ub9d0.\",\n          \"\\uadf8 \\uac74\\ubb3c \\ub098\\ud55c\\ud14c \\ub118\\uaca8.\\n \\ubb50?\\n \\ub098\\ud55c\\ud14c \\ub9d0\\uc870\\uc2ec\\ud558\\ub294\\uac8c \\uc88b\\uc744\\uac78? \\ub0b4\\uac00 \\ubaa8\\ub97c\\uac70\\ub77c\\uace0 \\uc0dd\\uac01\\ud574?\\n \\ubb34\\uc2a8 \\uc18c\\ub9ac\\uc57c?\\n \\ub2c8\\uac00 \\uc800\\uc9c0\\ub978 \\ub354\\ub7ec\\uc6b4 \\uc9d3\\ub4e4. \\ub108\\ub97c \\uc800\\ub807\\uac8c \\ubbff\\uace0 \\ub530\\ub974\\ub294 \\uc800 \\uc0ac\\ub78c\\ub4e4\\uc774 \\uc54c\\uac8c \\ub418\\uba74 \\uc5b4\\ub5bb\\uac8c \\ub420\\uae4c?\\n \\uc99d\\uac70 \\uc788\\uc5b4?\\n \\uc78a\\uc5c8\\uc5b4? \\ub0b4\\uac00 \\ud56d\\uc0c1 \\ub2c8 \\ub125\\ud0c0\\uc774\\ub97c \\ucc59\\uaca8\\uc92c\\ub358\\uac70? \\uc88b\\uc740\\uac8c \\ub9ce\\uc774 \\ub4e4\\uc5b4\\uc788\\ub358\\ub370. \\uc5b4\\uca5c \\uadf8\\ub807\\uac8c \\ubed4\\ubed4\\ud558\\uac8c \\uc6c3\\uc744 \\uc218\\uac00 \\uc788\\uc744\\uae4c? \\ub300\\ub2e8\\ud574.\\n \\uc6d0\\ud558\\ub294\\uac8c \\ubb50\\uc57c?\\n \\uadf8 \\uac74\\ubb3c \\ub098\\ud55c\\ud14c \\ub118\\uaca8. \\uadf8\\ub9ac\\uace0 \\uc774\\ud63c \\uc704\\uc790\\ub8cc\\ub85c \\uc7ac\\uc0b0 \\uc808\\ubc18. \\uc798 \\uc0dd\\uac01\\ud574\\ubd10. \\uc5b4\\ub290\\ucabd\\uc774 \\uc774\\ub4dd\\uc778\\uc9c0. \\uadf8\\ub7f0\\uac70 \\uc798\\ud558\\uc796\\uc544.\\n \\ub108!!\"\n        ],\n        \"semantic_type\": \"\",\n        \"description\": \"\"\n      }\n    }\n  ]\n}"
            }
          },
          "metadata": {},
          "execution_count": 3
        }
      ],
      "source": [
        "train_data.sample(10)"
      ]
    },
    {
      "cell_type": "code",
      "execution_count": 4,
      "id": "662ed8cb",
      "metadata": {
        "id": "662ed8cb",
        "outputId": "bf7af049-16d1-411f-e51b-7e2388e895c9",
        "colab": {
          "base_uri": "https://localhost:8080/"
        }
      },
      "outputs": [
        {
          "output_type": "stream",
          "name": "stdout",
          "text": [
            "<class 'pandas.core.frame.DataFrame'>\n",
            "RangeIndex: 4950 entries, 0 to 4949\n",
            "Data columns (total 3 columns):\n",
            " #   Column        Non-Null Count  Dtype \n",
            "---  ------        --------------  ----- \n",
            " 0   idx           4950 non-null   int64 \n",
            " 1   class         4950 non-null   object\n",
            " 2   conversation  4950 non-null   object\n",
            "dtypes: int64(1), object(2)\n",
            "memory usage: 116.1+ KB\n"
          ]
        }
      ],
      "source": [
        "train_data.info()"
      ]
    },
    {
      "cell_type": "markdown",
      "id": "daad0be9",
      "metadata": {
        "id": "daad0be9"
      },
      "source": [
        "## Augmentation"
      ]
    },
    {
      "cell_type": "markdown",
      "id": "48b08735",
      "metadata": {
        "id": "48b08735"
      },
      "source": [
        "## EDA"
      ]
    },
    {
      "cell_type": "code",
      "source": [
        "# Colab에서 한글 폰트 설정\n",
        "plt.rcParams['font.family'] = 'NanumBarunGothic'\n",
        "plt.rcParams['axes.unicode_minus'] = False  # 마이너스 기호 깨짐 방지"
      ],
      "metadata": {
        "id": "x5xH3IsO9Uzw"
      },
      "id": "x5xH3IsO9Uzw",
      "execution_count": 10,
      "outputs": []
    },
    {
      "cell_type": "code",
      "source": [
        "# 클래스 별 대화 확인해보기\n",
        "class_counts = train_data.groupby('class').size()\n",
        "class_counts"
      ],
      "metadata": {
        "colab": {
          "base_uri": "https://localhost:8080/"
        },
        "id": "6ilpz-Cj86KD",
        "outputId": "b72bbfd4-de19-4fe5-d443-2142e78dc73f"
      },
      "id": "6ilpz-Cj86KD",
      "execution_count": 7,
      "outputs": [
        {
          "output_type": "execute_result",
          "data": {
            "text/plain": [
              "class\n",
              "갈취 대화           981\n",
              "기타 괴롭힘 대화      1094\n",
              "일반 대화          1000\n",
              "직장 내 괴롭힘 대화     979\n",
              "협박 대화           896\n",
              "dtype: int64"
            ]
          },
          "metadata": {},
          "execution_count": 7
        }
      ]
    },
    {
      "cell_type": "code",
      "source": [
        "# 대화(X)와 레이블(y)로 나누기\n",
        "X_train = train_data['conversation']\n",
        "y_train = train_data['class']"
      ],
      "metadata": {
        "id": "kZRNBoKk8uLo"
      },
      "id": "kZRNBoKk8uLo",
      "execution_count": 6,
      "outputs": []
    },
    {
      "cell_type": "markdown",
      "id": "50394866",
      "metadata": {
        "id": "50394866"
      },
      "source": [
        "#### 길이 분포 확인"
      ]
    },
    {
      "cell_type": "code",
      "execution_count": 8,
      "id": "789c8471",
      "metadata": {
        "id": "789c8471",
        "colab": {
          "base_uri": "https://localhost:8080/"
        },
        "outputId": "edcddeab-5d34-48f1-d839-4bbf3a1af1f1"
      },
      "outputs": [
        {
          "output_type": "stream",
          "name": "stdout",
          "text": [
            "Data Information\n",
            "--------------------------------------------------\n",
            "Conversations : (4950,)\n",
            "Label : (4950,)\n",
            "Label Type: {'갈취 대화', '직장 내 괴롭힘 대화', '협박 대화', '기타 괴롭힘 대화', '일반 대화'}\n",
            "--------------------------------------------------\n",
            "The number of classes : 4\n",
            "--------------------------------------------------\n",
            "Max Length :874\n",
            "Average Length :232.0210101010101\n"
          ]
        }
      ],
      "source": [
        "# 길이 분포 확인하기\n",
        "print('Data Information')\n",
        "print('-'*50)\n",
        "print('Conversations :',X_train.shape)\n",
        "print('Label :',y_train.shape)\n",
        "print('Label Type:', set(y_train))\n",
        "print('-'*50)\n",
        "num_classes = 4\n",
        "print('The number of classes : {}'.format(num_classes))\n",
        "print('-'*50)\n",
        "print('Max Length :{}'.format(max(len(l) for l in X_train)))\n",
        "print('Average Length :{}'.format(sum(map(len, X_train))/len(X_train)))"
      ]
    },
    {
      "cell_type": "markdown",
      "id": "e7831dd6",
      "metadata": {
        "id": "e7831dd6"
      },
      "source": [
        "#### 클래스 별 분포 확인"
      ]
    },
    {
      "cell_type": "code",
      "execution_count": 21,
      "id": "99b138fb",
      "metadata": {
        "id": "99b138fb",
        "colab": {
          "base_uri": "https://localhost:8080/",
          "height": 535
        },
        "outputId": "99861275-04b9-473b-dc9c-93adea1ccc65"
      },
      "outputs": [
        {
          "output_type": "stream",
          "name": "stderr",
          "text": [
            "<ipython-input-21-e60d70d22ff9>:11: FutureWarning: \n",
            "\n",
            "Passing `palette` without assigning `hue` is deprecated and will be removed in v0.14.0. Assign the `x` variable to `hue` and set `legend=False` for the same effect.\n",
            "\n",
            "  sns.countplot(x=y_train, ax=axes[1], palette='pastel')\n"
          ]
        },
        {
          "output_type": "display_data",
          "data": {
            "text/plain": [
              "<Figure size 1500x500 with 2 Axes>"
            ],
            "image/png": "[encoded data removed]"
          },
          "metadata": {}
        }
      ],
      "source": [
        "# 두 서브플롯 생성하기\n",
        "fig, axes = plt.subplots(nrows=1, ncols=2, figsize=(15, 5))\n",
        "\n",
        "# 샘플 길이의 히스토그램\n",
        "axes[0].hist([len(s) for s in X_train], bins=50, color='skyblue')\n",
        "axes[0].set_xlabel('Length of samples')\n",
        "axes[0].set_ylabel('Number of samples')\n",
        "axes[0].set_title('Sample Length Distribution')\n",
        "\n",
        "# 클래스별 샘플 수 플롯\n",
        "sns.countplot(x=y_train, ax=axes[1], palette='pastel')\n",
        "axes[1].set_title('Class Distribution')\n",
        "\n",
        "# 레이아웃 조정하기\n",
        "plt.tight_layout()\n",
        "\n",
        "# 플롯 표시하기\n",
        "plt.show()"
      ]
    },
    {
      "cell_type": "markdown",
      "id": "083e9cfa",
      "metadata": {
        "id": "083e9cfa"
      },
      "source": [
        "#### 클래스 별 길이 분포 확인"
      ]
    },
    {
      "cell_type": "code",
      "execution_count": 22,
      "id": "3aea02f8",
      "metadata": {
        "id": "3aea02f8",
        "colab": {
          "base_uri": "https://localhost:8080/",
          "height": 869
        },
        "outputId": "7e8737ff-8668-4128-ffe2-2f19119cf183"
      },
      "outputs": [
        {
          "output_type": "display_data",
          "data": {
            "text/plain": [
              "<Figure size 1500x1000 with 4 Axes>"
            ],
            "image/png": "[encoded data removed]"
          },
          "metadata": {}
        }
      ],
      "source": [
        "# 서브플롯 생성하기\n",
        "fig, axes = plt.subplots(nrows=2, ncols=2, figsize=(15, 10))\n",
        "\n",
        "# 샘플 길이의 히스토그램 그리기\n",
        "\n",
        "# 협박 대화\n",
        "axes[0][0].hist([len(s) for s in train_data['conversation'][train_data['class']=='협박 대화']],\n",
        "                bins=50, color='skyblue')\n",
        "axes[0][0].set_xlabel('Length of samples')\n",
        "axes[0][0].set_ylabel('Number of samples')\n",
        "axes[0][0].set_title('협박 대화')\n",
        "\n",
        "# 갈취 대화\n",
        "axes[0][1].hist([len(s) for s in train_data['conversation'][train_data['class']=='갈취 대화']],\n",
        "                bins=50, color='salmon')\n",
        "axes[0][1].set_xlabel('Length of samples')\n",
        "axes[0][1].set_ylabel('Number of samples')\n",
        "axes[0][1].set_title('갈취 대화')\n",
        "\n",
        "# 직장 내 괴롭힘 대화\n",
        "axes[1][0].hist([len(s) for s in train_data['conversation'][train_data['class']=='직장 내 괴롭힘 대화']],\n",
        "                bins=50, color='lightgreen')\n",
        "axes[1][0].set_xlabel('Length of samples')\n",
        "axes[1][0].set_ylabel('Number of samples')\n",
        "axes[1][0].set_title('직장 내 괴롭힘 대화')\n",
        "\n",
        "# 기타 괴롭힘 대화\n",
        "axes[1][1].hist([len(s) for s in train_data['conversation'][train_data['class']=='기타 괴롭힘 대화']],\n",
        "                bins=50, color='orchid')\n",
        "axes[1][1].set_xlabel('Length of samples')\n",
        "axes[1][1].set_ylabel('Number of samples')\n",
        "axes[1][1].set_title('기타 괴롭힘 대화')\n",
        "\n",
        "plt.subplots_adjust(wspace=0.3, hspace=0.5)\n",
        "plt.show()"
      ]
    },
    {
      "cell_type": "markdown",
      "id": "1e11f330",
      "metadata": {
        "id": "1e11f330"
      },
      "source": [
        "#### 화자 별 특징 분석"
      ]
    },
    {
      "cell_type": "code",
      "source": [
        "# 불용어 리스트 불러오기\n",
        "\n",
        "# 경로를 적절히 수정해주세요.\n",
        "stopwords_path = \"/content/drive/MyDrive/07. GoData/20. DKTC/ko_stopwords.txt\"\n",
        "with open(stopwords_path, 'r', encoding='utf-8') as file:\n",
        "    stopwords = file.read().splitlines()"
      ],
      "metadata": {
        "id": "6l9T_DmoF3Ma"
      },
      "id": "6l9T_DmoF3Ma",
      "execution_count": 52,
      "outputs": []
    },
    {
      "cell_type": "code",
      "source": [
        "# A와 B의 대화를 담을 리스트 초기화하기\n",
        "A_conversations = []\n",
        "B_conversations = []"
      ],
      "metadata": {
        "id": "32O8COJDAIPQ"
      },
      "id": "32O8COJDAIPQ",
      "execution_count": 35,
      "outputs": []
    },
    {
      "cell_type": "code",
      "source": [
        "# 대화 열을 반복하면서 각 대화를 분할하기\n",
        "for conversation in train_data['conversation']:\n",
        "    try:\n",
        "        lines = conversation.split('\\n')\n",
        "        # 홀수 줄은 A, 짝수 줄은 B에 추가하기\n",
        "        A_conv = '\\n'.join([line for idx, line in enumerate(lines) if idx % 2 == 0])\n",
        "        B_conv = '\\n'.join([line for idx, line in enumerate(lines) if idx % 2 == 1])\n",
        "        A_conversations.append(A_conv)\n",
        "        B_conversations.append(B_conv)\n",
        "    except ValueError:\n",
        "        # 대화가 정확히 두 부분으로 나뉘지 않는 경우 처리하기\n",
        "        A_conversations.append(conversation)\n",
        "        B_conversations.append('')"
      ],
      "metadata": {
        "id": "v6Lrkm1vCNYq"
      },
      "id": "v6Lrkm1vCNYq",
      "execution_count": 36,
      "outputs": []
    },
    {
      "cell_type": "code",
      "source": [
        "# A와 B를 위한 새로운 데이터프레임 생성하기\n",
        "A_data = pd.DataFrame({'idx': train_data['idx'], 'class': train_data['class'], 'conversation': A_conversations})\n",
        "B_data = pd.DataFrame({'idx': train_data['idx'], 'class': train_data['class'], 'conversation': B_conversations})"
      ],
      "metadata": {
        "id": "DKZu5DEkCSdx"
      },
      "id": "DKZu5DEkCSdx",
      "execution_count": 37,
      "outputs": []
    },
    {
      "cell_type": "code",
      "source": [
        "# A의 head() 출력하기\n",
        "print(\"A 데이터셋의 첫 5개 행:\")\n",
        "print(A_data.head())"
      ],
      "metadata": {
        "colab": {
          "base_uri": "https://localhost:8080/"
        },
        "id": "CVyoSDyeCUMU",
        "outputId": "0ab01503-89ec-4b9e-c74c-cc7821fa31ac"
      },
      "id": "CVyoSDyeCUMU",
      "execution_count": 40,
      "outputs": [
        {
          "output_type": "stream",
          "name": "stdout",
          "text": [
            "A 데이터셋의 첫 5개 행:\n",
            "   idx        class                                       conversation\n",
            "0    0        일반 대화  학교 점심 뭐 나와?\\n학원 다녀?\\n친구들이랑 잘 지내?\\n교복은 어때?\\n교복은...\n",
            "1    1    기타 괴롭힘 대화  어이 거기 뒤뚱거리는 놈 \\n그래 너 여기 뒤뚱거리는 놈이 너밖에 더 있냐?\\n네 ...\n",
            "2    2        협박 대화  너 그따위로 운전하면 확 갈아마셔버린다.\\n 나와 이 자식아. 미안하단 말도 없는 ...\n",
            "3    3  직장 내 괴롭힘 대화  길동씨 이번에 이것좀 처리해요\\n팀에서 내가 니가가 어딨어?\\n이번 인사고과기간인거...\n",
            "4    4        일반 대화  비가 많이 오네.\\n날씨가 추워졌어.\\n바람이 많이 불어.\\n날씨가 추워졌어.\\n날...\n"
          ]
        }
      ]
    },
    {
      "cell_type": "code",
      "source": [
        "# B의 head() 출력하기\n",
        "print(\"B 데이터셋의 첫 5개 행:\")\n",
        "print(B_data.head())"
      ],
      "metadata": {
        "colab": {
          "base_uri": "https://localhost:8080/"
        },
        "id": "pd-QkkAPDnl4",
        "outputId": "dd539e0a-57f8-43e0-9de7-b03f3e2c49f5"
      },
      "id": "pd-QkkAPDnl4",
      "execution_count": 41,
      "outputs": [
        {
          "output_type": "stream",
          "name": "stdout",
          "text": [
            "B 데이터셋의 첫 5개 행:\n",
            "   idx        class                                       conversation\n",
            "0    0        일반 대화  주로 한식이 나와.\\n응, 영어 학원 다녀.\\n응, 다들 친절해.\\n생각보다 편해....\n",
            "1    1    기타 괴롭힘 대화    나?\\n놀리지마\\n그 따위로 말하지 말라고\\n나도 이름 있어\\n자꾸 그렇게 대꾸하지마\n",
            "2    2        협박 대화   뭐라구?\\n 이 새끼가 어디서.\\n 이런 쓰레기를 봤나\\n 꺼져 새꺄\\n 보자보자...\n",
            "3    3  직장 내 괴롭힘 대화  이거 제가 한게 아닌데요\\n그래도 이건 제가 쓴게 아닌데 \\n네? 아니 이건 제가 ...\n",
            "4    4        일반 대화  우산 가져왔어?\\n맞아, 이제 겨울이야.\\n모자 날아갈 뻔했어.\\n맞아, 이제 겨울...\n"
          ]
        }
      ]
    },
    {
      "cell_type": "code",
      "source": [
        "# konlpy 다운받기\n",
        "!pip install konlpy"
      ],
      "metadata": {
        "colab": {
          "base_uri": "https://localhost:8080/"
        },
        "id": "e_gSrhdMDfOo",
        "outputId": "30fedad1-bedb-40ab-8163-dda4a6fee11f"
      },
      "id": "e_gSrhdMDfOo",
      "execution_count": 39,
      "outputs": [
        {
          "output_type": "stream",
          "name": "stdout",
          "text": [
            "Collecting konlpy\n",
            "  Downloading konlpy-0.6.0-py2.py3-none-any.whl (19.4 MB)\n",
            "\u001b[2K     \u001b[90m━━━━━━━━━━━━━━━━━━━━━━━━━━━━━━━━━━━━━━━━\u001b[0m \u001b[32m19.4/19.4 MB\u001b[0m \u001b[31m35.4 MB/s\u001b[0m eta \u001b[36m0:00:00\u001b[0m\n",
            "\u001b[?25hCollecting JPype1>=0.7.0 (from konlpy)\n",
            "  Downloading JPype1-1.5.0-cp310-cp310-manylinux_2_17_x86_64.manylinux2014_x86_64.whl (488 kB)\n",
            "\u001b[2K     \u001b[90m━━━━━━━━━━━━━━━━━━━━━━━━━━━━━━━━━━━━━━━━\u001b[0m \u001b[32m488.6/488.6 kB\u001b[0m \u001b[31m44.9 MB/s\u001b[0m eta \u001b[36m0:00:00\u001b[0m\n",
            "\u001b[?25hRequirement already satisfied: lxml>=4.1.0 in /usr/local/lib/python3.10/dist-packages (from konlpy) (4.9.4)\n",
            "Requirement already satisfied: numpy>=1.6 in /usr/local/lib/python3.10/dist-packages (from konlpy) (1.25.2)\n",
            "Requirement already satisfied: packaging in /usr/local/lib/python3.10/dist-packages (from JPype1>=0.7.0->konlpy) (24.1)\n",
            "Installing collected packages: JPype1, konlpy\n",
            "Successfully installed JPype1-1.5.0 konlpy-0.6.0\n"
          ]
        }
      ]
    },
    {
      "cell_type": "code",
      "source": [
        "# Okt 형태소 분석기 초기화하기\n",
        "# Okt 형태소 분석기 객체 생성하기\n",
        "okt = Okt()"
      ],
      "metadata": {
        "id": "5LUnQIZiDZXt"
      },
      "id": "5LUnQIZiDZXt",
      "execution_count": 42,
      "outputs": []
    },
    {
      "cell_type": "code",
      "source": [
        "# 가장 많이 나오는 단어 추출하는 함수\n",
        "def get_top_words(dataframe, class_name, top_n=10):\n",
        "    # 특정 클래스의 대화만 추출하기\n",
        "    class_data = dataframe[dataframe['class'] == class_name]['conversation']\n",
        "    words = []\n",
        "\n",
        "    for conversation in class_data:\n",
        "        words.extend([word for word in okt.nouns(conversation) if word not in stopwords])\n",
        "\n",
        "    # 가장 많이 등장하는 단어 top_n 추출하기\n",
        "    counter = Counter(words)\n",
        "    common_words = counter.most_common(top_n)\n",
        "    return common_words"
      ],
      "metadata": {
        "id": "77pLm0cWDvb7"
      },
      "id": "77pLm0cWDvb7",
      "execution_count": 53,
      "outputs": []
    },
    {
      "cell_type": "code",
      "source": [
        "# 가장 많이 나오는 단어 시각화하는 함수\n",
        "def plot_top_words(common_words_A, common_words_B, class_name):\n",
        "    words_A, counts_A = zip(*common_words_A)\n",
        "    words_B, counts_B = zip(*common_words_B)\n",
        "\n",
        "    fig, axes = plt.subplots(nrows=1, ncols=2, figsize=(18, 8))\n",
        "\n",
        "    axes[0].bar(words_A, counts_A, color=plt.cm.Paired.colors)\n",
        "    axes[0].set_title(f'Top {len(words_A)} Words in Class {class_name} (A)')\n",
        "    axes[0].set_xlabel('Words')\n",
        "    axes[0].set_ylabel('Counts')\n",
        "\n",
        "    axes[1].bar(words_B, counts_B, color=plt.cm.Paired.colors)\n",
        "    axes[1].set_title(f'Top {len(words_B)} Words in Class {class_name} (B)')\n",
        "    axes[1].set_xlabel('Words')\n",
        "    axes[1].set_ylabel('Counts')\n",
        "\n",
        "    plt.show()"
      ],
      "metadata": {
        "id": "drOzXlWsD17K"
      },
      "id": "drOzXlWsD17K",
      "execution_count": 54,
      "outputs": []
    },
    {
      "cell_type": "code",
      "source": [
        "# 클래스 목록 추출하기\n",
        "classes = train_data['class'].unique()"
      ],
      "metadata": {
        "id": "6KKtBnM5D31j"
      },
      "id": "6KKtBnM5D31j",
      "execution_count": 55,
      "outputs": []
    },
    {
      "cell_type": "code",
      "source": [
        "# 각 클래스별로 시각화\n",
        "for class_name in classes:\n",
        "    print(f\"Class: {class_name}\")\n",
        "    print(\"A 데이터셋의 상위 10개 단어:\")\n",
        "    top_words_A = get_top_words(A_data, class_name)\n",
        "    print(top_words_A)\n",
        "\n",
        "    print(\"\\nB 데이터셋의 상위 10개 단어:\")\n",
        "    top_words_B = get_top_words(B_data, class_name)\n",
        "    print(top_words_B)\n",
        "\n",
        "    plot_top_words(top_words_A, top_words_B, class_name)"
      ],
      "metadata": {
        "colab": {
          "base_uri": "https://localhost:8080/",
          "height": 1000
        },
        "id": "K5YMvwcKD59L",
        "outputId": "83ff7139-8c33-40ec-ff98-1601879af26a"
      },
      "id": "K5YMvwcKD59L",
      "execution_count": 56,
      "outputs": [
        {
          "output_type": "stream",
          "name": "stdout",
          "text": [
            "Class: 일반 대화\n",
            "A 데이터셋의 상위 10개 단어:\n",
            "[('뭐', 1782), ('친구', 1071), ('해', 952), ('영화', 943), ('여행', 909), ('자주', 646), ('거', 640), ('운동', 601), ('가족', 599), ('주말', 508)]\n",
            "\n",
            "B 데이터셋의 상위 10개 단어:\n",
            "[('주로', 934), ('정말', 709), ('해', 621), ('영화', 618), ('주말', 522), ('친구', 369), ('집', 337), ('게', 326), ('이야기', 311), ('매일', 285)]\n"
          ]
        },
        {
          "output_type": "display_data",
          "data": {
            "text/plain": [
              "<Figure size 1800x800 with 2 Axes>"
            ],
            "image/png": "[encoded data removed]"
          },
          "metadata": {}
        },
        {
          "output_type": "stream",
          "name": "stdout",
          "text": [
            "Class: 기타 괴롭힘 대화\n",
            "A 데이터셋의 상위 10개 단어:\n",
            "[('내', 461), ('말', 387), ('뭐', 348), ('거', 335), ('니', 312), ('진짜', 259), ('그냥', 200), ('애', 177), ('안', 159), ('새끼', 151)]\n",
            "\n",
            "B 데이터셋의 상위 10개 단어:\n",
            "[('내', 418), ('말', 385), ('뭐', 259), ('진짜', 220), ('거', 190), ('니', 141), ('안', 126), ('제발', 125), ('그냥', 120), ('지금', 120)]\n"
          ]
        },
        {
          "output_type": "display_data",
          "data": {
            "text/plain": [
              "<Figure size 1800x800 with 2 Axes>"
            ],
            "image/png": "[encoded data removed]"
          },
          "metadata": {}
        },
        {
          "output_type": "stream",
          "name": "stdout",
          "text": [
            "Class: 협박 대화\n",
            "A 데이터셋의 상위 10개 단어:\n",
            "[('내', 850), ('말', 462), ('니', 407), ('지금', 267), ('거', 238), ('진짜', 190), ('알', 190), ('사람', 180), ('안', 175), ('뭐', 166)]\n",
            "\n",
            "B 데이터셋의 상위 10개 단어:\n",
            "[('내', 461), ('제발', 354), ('말', 260), ('뭐', 178), ('니', 173), ('진짜', 154), ('거', 154), ('정말', 142), ('지금', 132), ('더', 128)]\n"
          ]
        },
        {
          "output_type": "display_data",
          "data": {
            "text/plain": [
              "<Figure size 1800x800 with 2 Axes>"
            ],
            "image/png": "[encoded data removed]"
          },
          "metadata": {}
        },
        {
          "output_type": "stream",
          "name": "stdout",
          "text": [
            "Class: 직장 내 괴롭힘 대화\n",
            "A 데이터셋의 상위 10개 단어:\n",
            "[('내', 571), ('말', 408), ('뭐', 367), ('거', 350), ('대리', 325), ('회사', 314), ('김', 239), ('오늘', 234), ('지금', 234), ('사람', 193)]\n",
            "\n",
            "B 데이터셋의 상위 10개 단어:\n",
            "[('부장', 203), ('말', 173), ('지금', 144), ('회사', 141), ('말씀', 141), ('거', 138), ('내', 136), ('대리', 132), ('과장', 125), ('뭐', 120)]\n"
          ]
        },
        {
          "output_type": "display_data",
          "data": {
            "text/plain": [
              "<Figure size 1800x800 with 2 Axes>"
            ],
            "image/png": "[encoded data removed]"
          },
          "metadata": {}
        },
        {
          "output_type": "stream",
          "name": "stdout",
          "text": [
            "Class: 갈취 대화\n",
            "A 데이터셋의 상위 10개 단어:\n",
            "[('돈', 876), ('내', 684), ('거', 448), ('말', 314), ('니', 236), ('지금', 232), ('뭐', 228), ('그냥', 186), ('줄', 182), ('진짜', 180)]\n",
            "\n",
            "B 데이터셋의 상위 10개 단어:\n",
            "[('돈', 606), ('거', 292), ('진짜', 283), ('내', 278), ('제발', 197), ('말', 174), ('뭐', 129), ('정말', 128), ('안', 121), ('지금', 118)]\n"
          ]
        },
        {
          "output_type": "display_data",
          "data": {
            "text/plain": [
              "<Figure size 1800x800 with 2 Axes>"
            ],
            "image/png": "[encoded data removed]"
          },
          "metadata": {}
        }
      ]
    },
    {
      "cell_type": "markdown",
      "id": "a2dc1dd9",
      "metadata": {
        "id": "a2dc1dd9"
      },
      "source": [
        "## 전처리"
      ]
    },
    {
      "cell_type": "markdown",
      "id": "01b2fd43",
      "metadata": {
        "id": "01b2fd43"
      },
      "source": [
        "### 기본 전처리"
      ]
    },
    {
      "cell_type": "markdown",
      "source": [
        "중복값 여부 찾아보기"
      ],
      "metadata": {
        "id": "OYxUovemAv20"
      },
      "id": "OYxUovemAv20"
    },
    {
      "cell_type": "code",
      "source": [
        "# 중복값 찾기\n",
        "duplicates = train_data[train_data.duplicated()]\n",
        "duplicates"
      ],
      "metadata": {
        "colab": {
          "base_uri": "https://localhost:8080/",
          "height": 89
        },
        "id": "cB1L0F_TAi_C",
        "outputId": "b61694e1-9aab-493d-92b0-2d51a5c1a8a8"
      },
      "id": "cB1L0F_TAi_C",
      "execution_count": 24,
      "outputs": [
        {
          "output_type": "execute_result",
          "data": {
            "text/plain": [
              "Empty DataFrame\n",
              "Columns: [idx, class, conversation]\n",
              "Index: []"
            ],
            "text/html": [
              "\n",
              "  <div id=\"df-39a5f5b6-0067-41c8-947a-467dcbdf372d\" class=\"colab-df-container\">\n",
              "    <div>\n",
              "<style scoped>\n",
              "    .dataframe tbody tr th:only-of-type {\n",
              "        vertical-align: middle;\n",
              "    }\n",
              "\n",
              "    .dataframe tbody tr th {\n",
              "        vertical-align: top;\n",
              "    }\n",
              "\n",
              "    .dataframe thead th {\n",
              "        text-align: right;\n",
              "    }\n",
              "</style>\n",
              "<table border=\"1\" class=\"dataframe\">\n",
              "  <thead>\n",
              "    <tr style=\"text-align: right;\">\n",
              "      <th></th>\n",
              "      <th>idx</th>\n",
              "      <th>class</th>\n",
              "      <th>conversation</th>\n",
              "    </tr>\n",
              "  </thead>\n",
              "  <tbody>\n",
              "  </tbody>\n",
              "</table>\n",
              "</div>\n",
              "    <div class=\"colab-df-buttons\">\n",
              "\n",
              "  <div class=\"colab-df-container\">\n",
              "    <button class=\"colab-df-convert\" onclick=\"convertToInteractive('df-39a5f5b6-0067-41c8-947a-467dcbdf372d')\"\n",
              "            title=\"Convert this dataframe to an interactive table.\"\n",
              "            style=\"display:none;\">\n",
              "\n",
              "  <svg xmlns=\"http://www.w3.org/2000/svg\" height=\"24px\" viewBox=\"0 -960 960 960\">\n",
              "    <path d=\"M120-120v-720h720v720H120Zm60-500h600v-160H180v160Zm220 220h160v-160H400v160Zm0 220h160v-160H400v160ZM180-400h160v-160H180v160Zm440 0h160v-160H620v160ZM180-180h160v-160H180v160Zm440 0h160v-160H620v160Z\"/>\n",
              "  </svg>\n",
              "    </button>\n",
              "\n",
              "  <style>\n",
              "    .colab-df-container {\n",
              "      display:flex;\n",
              "      gap: 12px;\n",
              "    }\n",
              "\n",
              "    .colab-df-convert {\n",
              "      background-color: #E8F0FE;\n",
              "      border: none;\n",
              "      border-radius: 50%;\n",
              "      cursor: pointer;\n",
              "      display: none;\n",
              "      fill: #1967D2;\n",
              "      height: 32px;\n",
              "      padding: 0 0 0 0;\n",
              "      width: 32px;\n",
              "    }\n",
              "\n",
              "    .colab-df-convert:hover {\n",
              "      background-color: #E2EBFA;\n",
              "      box-shadow: 0px 1px 2px rgba(60, 64, 67, 0.3), 0px 1px 3px 1px rgba(60, 64, 67, 0.15);\n",
              "      fill: #174EA6;\n",
              "    }\n",
              "\n",
              "    .colab-df-buttons div {\n",
              "      margin-bottom: 4px;\n",
              "    }\n",
              "\n",
              "    [theme=dark] .colab-df-convert {\n",
              "      background-color: #3B4455;\n",
              "      fill: #D2E3FC;\n",
              "    }\n",
              "\n",
              "    [theme=dark] .colab-df-convert:hover {\n",
              "      background-color: #434B5C;\n",
              "      box-shadow: 0px 1px 3px 1px rgba(0, 0, 0, 0.15);\n",
              "      filter: drop-shadow(0px 1px 2px rgba(0, 0, 0, 0.3));\n",
              "      fill: #FFFFFF;\n",
              "    }\n",
              "  </style>\n",
              "\n",
              "    <script>\n",
              "      const buttonEl =\n",
              "        document.querySelector('#df-39a5f5b6-0067-41c8-947a-467dcbdf372d button.colab-df-convert');\n",
              "      buttonEl.style.display =\n",
              "        google.colab.kernel.accessAllowed ? 'block' : 'none';\n",
              "\n",
              "      async function convertToInteractive(key) {\n",
              "        const element = document.querySelector('#df-39a5f5b6-0067-41c8-947a-467dcbdf372d');\n",
              "        const dataTable =\n",
              "          await google.colab.kernel.invokeFunction('convertToInteractive',\n",
              "                                                    [key], {});\n",
              "        if (!dataTable) return;\n",
              "\n",
              "        const docLinkHtml = 'Like what you see? Visit the ' +\n",
              "          '<a target=\"_blank\" href=https://colab.research.google.com/notebooks/data_table.ipynb>data table notebook</a>'\n",
              "          + ' to learn more about interactive tables.';\n",
              "        element.innerHTML = '';\n",
              "        dataTable['output_type'] = 'display_data';\n",
              "        await google.colab.output.renderOutput(dataTable, element);\n",
              "        const docLink = document.createElement('div');\n",
              "        docLink.innerHTML = docLinkHtml;\n",
              "        element.appendChild(docLink);\n",
              "      }\n",
              "    </script>\n",
              "  </div>\n",
              "\n",
              "\n",
              "  <div id=\"id_7b227455-8bef-4dd9-929c-ab53047d8431\">\n",
              "    <style>\n",
              "      .colab-df-generate {\n",
              "        background-color: #E8F0FE;\n",
              "        border: none;\n",
              "        border-radius: 50%;\n",
              "        cursor: pointer;\n",
              "        display: none;\n",
              "        fill: #1967D2;\n",
              "        height: 32px;\n",
              "        padding: 0 0 0 0;\n",
              "        width: 32px;\n",
              "      }\n",
              "\n",
              "      .colab-df-generate:hover {\n",
              "        background-color: #E2EBFA;\n",
              "        box-shadow: 0px 1px 2px rgba(60, 64, 67, 0.3), 0px 1px 3px 1px rgba(60, 64, 67, 0.15);\n",
              "        fill: #174EA6;\n",
              "      }\n",
              "\n",
              "      [theme=dark] .colab-df-generate {\n",
              "        background-color: #3B4455;\n",
              "        fill: #D2E3FC;\n",
              "      }\n",
              "\n",
              "      [theme=dark] .colab-df-generate:hover {\n",
              "        background-color: #434B5C;\n",
              "        box-shadow: 0px 1px 3px 1px rgba(0, 0, 0, 0.15);\n",
              "        filter: drop-shadow(0px 1px 2px rgba(0, 0, 0, 0.3));\n",
              "        fill: #FFFFFF;\n",
              "      }\n",
              "    </style>\n",
              "    <button class=\"colab-df-generate\" onclick=\"generateWithVariable('duplicates')\"\n",
              "            title=\"Generate code using this dataframe.\"\n",
              "            style=\"display:none;\">\n",
              "\n",
              "  <svg xmlns=\"http://www.w3.org/2000/svg\" height=\"24px\"viewBox=\"0 0 24 24\"\n",
              "       width=\"24px\">\n",
              "    <path d=\"M7,19H8.4L18.45,9,17,7.55,7,17.6ZM5,21V16.75L18.45,3.32a2,2,0,0,1,2.83,0l1.4,1.43a1.91,1.91,0,0,1,.58,1.4,1.91,1.91,0,0,1-.58,1.4L9.25,21ZM18.45,9,17,7.55Zm-12,3A5.31,5.31,0,0,0,4.9,8.1,5.31,5.31,0,0,0,1,6.5,5.31,5.31,0,0,0,4.9,4.9,5.31,5.31,0,0,0,6.5,1,5.31,5.31,0,0,0,8.1,4.9,5.31,5.31,0,0,0,12,6.5,5.46,5.46,0,0,0,6.5,12Z\"/>\n",
              "  </svg>\n",
              "    </button>\n",
              "    <script>\n",
              "      (() => {\n",
              "      const buttonEl =\n",
              "        document.querySelector('#id_7b227455-8bef-4dd9-929c-ab53047d8431 button.colab-df-generate');\n",
              "      buttonEl.style.display =\n",
              "        google.colab.kernel.accessAllowed ? 'block' : 'none';\n",
              "\n",
              "      buttonEl.onclick = () => {\n",
              "        google.colab.notebook.generateWithVariable('duplicates');\n",
              "      }\n",
              "      })();\n",
              "    </script>\n",
              "  </div>\n",
              "\n",
              "    </div>\n",
              "  </div>\n"
            ],
            "application/vnd.google.colaboratory.intrinsic+json": {
              "type": "dataframe",
              "variable_name": "duplicates",
              "repr_error": "Out of range float values are not JSON compliant: nan"
            }
          },
          "metadata": {},
          "execution_count": 24
        }
      ]
    },
    {
      "cell_type": "markdown",
      "source": [
        "결측치 여부 확인하기"
      ],
      "metadata": {
        "id": "j0pOinZUARe5"
      },
      "id": "j0pOinZUARe5"
    },
    {
      "cell_type": "code",
      "source": [
        "# 결측치 여부 확인하기\n",
        "train_data.isnull().sum()"
      ],
      "metadata": {
        "colab": {
          "base_uri": "https://localhost:8080/"
        },
        "id": "f5JBxYdiAMVC",
        "outputId": "e600fe25-72c4-47c4-e687-cacd5a91e6f9"
      },
      "id": "f5JBxYdiAMVC",
      "execution_count": 23,
      "outputs": [
        {
          "output_type": "execute_result",
          "data": {
            "text/plain": [
              "idx             0\n",
              "class           0\n",
              "conversation    0\n",
              "dtype: int64"
            ]
          },
          "metadata": {},
          "execution_count": 23
        }
      ]
    },
    {
      "cell_type": "markdown",
      "source": [
        "클래스 컬럼 인코딩하기"
      ],
      "metadata": {
        "id": "5StEP_y9HGHC"
      },
      "id": "5StEP_y9HGHC"
    },
    {
      "cell_type": "code",
      "source": [
        "# 'class'를 'type'으로 매핑하는 딕셔너리 생성하기\n",
        "class_to_type = {\n",
        "    '협박 대화': 0,\n",
        "    '갈취 대화': 1,\n",
        "    '직장 내 괴롭힘 대화': 2,\n",
        "    '기타 괴롭힘 대화': 3,\n",
        "    '일반 대화': 4\n",
        "}"
      ],
      "metadata": {
        "id": "GjX684X4HDdT"
      },
      "id": "GjX684X4HDdT",
      "execution_count": 57,
      "outputs": []
    },
    {
      "cell_type": "code",
      "source": [
        "# 'class' 열을 기반으로 새로운 'type' 열 추가하기\n",
        "train_data['type'] = train_data['class'].map(class_to_type)"
      ],
      "metadata": {
        "id": "xRYGA8ftH-4V"
      },
      "id": "xRYGA8ftH-4V",
      "execution_count": 58,
      "outputs": []
    },
    {
      "cell_type": "code",
      "source": [
        "# type 열 추가했는지 확인하기\n",
        "train_data.head()"
      ],
      "metadata": {
        "colab": {
          "base_uri": "https://localhost:8080/",
          "height": 206
        },
        "id": "EtcFaPyJIHGk",
        "outputId": "d67bb466-6612-4dd5-e289-4031489f5299"
      },
      "id": "EtcFaPyJIHGk",
      "execution_count": 59,
      "outputs": [
        {
          "output_type": "execute_result",
          "data": {
            "text/plain": [
              "   idx        class                                       conversation  type\n",
              "0    0        일반 대화  학교 점심 뭐 나와?\\n주로 한식이 나와.\\n학원 다녀?\\n응, 영어 학원 다녀.\\...     4\n",
              "1    1    기타 괴롭힘 대화  어이 거기 뒤뚱거리는 놈 \\n나?\\n그래 너 여기 뒤뚱거리는 놈이 너밖에 더 있냐?...     3\n",
              "2    2        협박 대화  너 그따위로 운전하면 확 갈아마셔버린다.\\n 뭐라구?\\n 나와 이 자식아. 미안하단...     0\n",
              "3    3  직장 내 괴롭힘 대화  길동씨 이번에 이것좀 처리해요\\n이거 제가 한게 아닌데요\\n팀에서 내가 니가가 어딨...     2\n",
              "4    4        일반 대화  비가 많이 오네.\\n우산 가져왔어?\\n날씨가 추워졌어.\\n맞아, 이제 겨울이야.\\n...     4"
            ],
            "text/html": [
              "\n",
              "  <div id=\"df-a7e3be44-39cf-496b-8550-73bfc24ddbc1\" class=\"colab-df-container\">\n",
              "    <div>\n",
              "<style scoped>\n",
              "    .dataframe tbody tr th:only-of-type {\n",
              "        vertical-align: middle;\n",
              "    }\n",
              "\n",
              "    .dataframe tbody tr th {\n",
              "        vertical-align: top;\n",
              "    }\n",
              "\n",
              "    .dataframe thead th {\n",
              "        text-align: right;\n",
              "    }\n",
              "</style>\n",
              "<table border=\"1\" class=\"dataframe\">\n",
              "  <thead>\n",
              "    <tr style=\"text-align: right;\">\n",
              "      <th></th>\n",
              "      <th>idx</th>\n",
              "      <th>class</th>\n",
              "      <th>conversation</th>\n",
              "      <th>type</th>\n",
              "    </tr>\n",
              "  </thead>\n",
              "  <tbody>\n",
              "    <tr>\n",
              "      <th>0</th>\n",
              "      <td>0</td>\n",
              "      <td>일반 대화</td>\n",
              "      <td>학교 점심 뭐 나와?\\n주로 한식이 나와.\\n학원 다녀?\\n응, 영어 학원 다녀.\\...</td>\n",
              "      <td>4</td>\n",
              "    </tr>\n",
              "    <tr>\n",
              "      <th>1</th>\n",
              "      <td>1</td>\n",
              "      <td>기타 괴롭힘 대화</td>\n",
              "      <td>어이 거기 뒤뚱거리는 놈 \\n나?\\n그래 너 여기 뒤뚱거리는 놈이 너밖에 더 있냐?...</td>\n",
              "      <td>3</td>\n",
              "    </tr>\n",
              "    <tr>\n",
              "      <th>2</th>\n",
              "      <td>2</td>\n",
              "      <td>협박 대화</td>\n",
              "      <td>너 그따위로 운전하면 확 갈아마셔버린다.\\n 뭐라구?\\n 나와 이 자식아. 미안하단...</td>\n",
              "      <td>0</td>\n",
              "    </tr>\n",
              "    <tr>\n",
              "      <th>3</th>\n",
              "      <td>3</td>\n",
              "      <td>직장 내 괴롭힘 대화</td>\n",
              "      <td>길동씨 이번에 이것좀 처리해요\\n이거 제가 한게 아닌데요\\n팀에서 내가 니가가 어딨...</td>\n",
              "      <td>2</td>\n",
              "    </tr>\n",
              "    <tr>\n",
              "      <th>4</th>\n",
              "      <td>4</td>\n",
              "      <td>일반 대화</td>\n",
              "      <td>비가 많이 오네.\\n우산 가져왔어?\\n날씨가 추워졌어.\\n맞아, 이제 겨울이야.\\n...</td>\n",
              "      <td>4</td>\n",
              "    </tr>\n",
              "  </tbody>\n",
              "</table>\n",
              "</div>\n",
              "    <div class=\"colab-df-buttons\">\n",
              "\n",
              "  <div class=\"colab-df-container\">\n",
              "    <button class=\"colab-df-convert\" onclick=\"convertToInteractive('df-a7e3be44-39cf-496b-8550-73bfc24ddbc1')\"\n",
              "            title=\"Convert this dataframe to an interactive table.\"\n",
              "            style=\"display:none;\">\n",
              "\n",
              "  <svg xmlns=\"http://www.w3.org/2000/svg\" height=\"24px\" viewBox=\"0 -960 960 960\">\n",
              "    <path d=\"M120-120v-720h720v720H120Zm60-500h600v-160H180v160Zm220 220h160v-160H400v160Zm0 220h160v-160H400v160ZM180-400h160v-160H180v160Zm440 0h160v-160H620v160ZM180-180h160v-160H180v160Zm440 0h160v-160H620v160Z\"/>\n",
              "  </svg>\n",
              "    </button>\n",
              "\n",
              "  <style>\n",
              "    .colab-df-container {\n",
              "      display:flex;\n",
              "      gap: 12px;\n",
              "    }\n",
              "\n",
              "    .colab-df-convert {\n",
              "      background-color: #E8F0FE;\n",
              "      border: none;\n",
              "      border-radius: 50%;\n",
              "      cursor: pointer;\n",
              "      display: none;\n",
              "      fill: #1967D2;\n",
              "      height: 32px;\n",
              "      padding: 0 0 0 0;\n",
              "      width: 32px;\n",
              "    }\n",
              "\n",
              "    .colab-df-convert:hover {\n",
              "      background-color: #E2EBFA;\n",
              "      box-shadow: 0px 1px 2px rgba(60, 64, 67, 0.3), 0px 1px 3px 1px rgba(60, 64, 67, 0.15);\n",
              "      fill: #174EA6;\n",
              "    }\n",
              "\n",
              "    .colab-df-buttons div {\n",
              "      margin-bottom: 4px;\n",
              "    }\n",
              "\n",
              "    [theme=dark] .colab-df-convert {\n",
              "      background-color: #3B4455;\n",
              "      fill: #D2E3FC;\n",
              "    }\n",
              "\n",
              "    [theme=dark] .colab-df-convert:hover {\n",
              "      background-color: #434B5C;\n",
              "      box-shadow: 0px 1px 3px 1px rgba(0, 0, 0, 0.15);\n",
              "      filter: drop-shadow(0px 1px 2px rgba(0, 0, 0, 0.3));\n",
              "      fill: #FFFFFF;\n",
              "    }\n",
              "  </style>\n",
              "\n",
              "    <script>\n",
              "      const buttonEl =\n",
              "        document.querySelector('#df-a7e3be44-39cf-496b-8550-73bfc24ddbc1 button.colab-df-convert');\n",
              "      buttonEl.style.display =\n",
              "        google.colab.kernel.accessAllowed ? 'block' : 'none';\n",
              "\n",
              "      async function convertToInteractive(key) {\n",
              "        const element = document.querySelector('#df-a7e3be44-39cf-496b-8550-73bfc24ddbc1');\n",
              "        const dataTable =\n",
              "          await google.colab.kernel.invokeFunction('convertToInteractive',\n",
              "                                                    [key], {});\n",
              "        if (!dataTable) return;\n",
              "\n",
              "        const docLinkHtml = 'Like what you see? Visit the ' +\n",
              "          '<a target=\"_blank\" href=https://colab.research.google.com/notebooks/data_table.ipynb>data table notebook</a>'\n",
              "          + ' to learn more about interactive tables.';\n",
              "        element.innerHTML = '';\n",
              "        dataTable['output_type'] = 'display_data';\n",
              "        await google.colab.output.renderOutput(dataTable, element);\n",
              "        const docLink = document.createElement('div');\n",
              "        docLink.innerHTML = docLinkHtml;\n",
              "        element.appendChild(docLink);\n",
              "      }\n",
              "    </script>\n",
              "  </div>\n",
              "\n",
              "\n",
              "<div id=\"df-67a59268-8db8-4b58-a54f-4c7a04a02c95\">\n",
              "  <button class=\"colab-df-quickchart\" onclick=\"quickchart('df-67a59268-8db8-4b58-a54f-4c7a04a02c95')\"\n",
              "            title=\"Suggest charts\"\n",
              "            style=\"display:none;\">\n",
              "\n",
              "<svg xmlns=\"http://www.w3.org/2000/svg\" height=\"24px\"viewBox=\"0 0 24 24\"\n",
              "     width=\"24px\">\n",
              "    <g>\n",
              "        <path d=\"M19 3H5c-1.1 0-2 .9-2 2v14c0 1.1.9 2 2 2h14c1.1 0 2-.9 2-2V5c0-1.1-.9-2-2-2zM9 17H7v-7h2v7zm4 0h-2V7h2v10zm4 0h-2v-4h2v4z\"/>\n",
              "    </g>\n",
              "</svg>\n",
              "  </button>\n",
              "\n",
              "<style>\n",
              "  .colab-df-quickchart {\n",
              "      --bg-color: #E8F0FE;\n",
              "      --fill-color: #1967D2;\n",
              "      --hover-bg-color: #E2EBFA;\n",
              "      --hover-fill-color: #174EA6;\n",
              "      --disabled-fill-color: #AAA;\n",
              "      --disabled-bg-color: #DDD;\n",
              "  }\n",
              "\n",
              "  [theme=dark] .colab-df-quickchart {\n",
              "      --bg-color: #3B4455;\n",
              "      --fill-color: #D2E3FC;\n",
              "      --hover-bg-color: #434B5C;\n",
              "      --hover-fill-color: #FFFFFF;\n",
              "      --disabled-bg-color: #3B4455;\n",
              "      --disabled-fill-color: #666;\n",
              "  }\n",
              "\n",
              "  .colab-df-quickchart {\n",
              "    background-color: var(--bg-color);\n",
              "    border: none;\n",
              "    border-radius: 50%;\n",
              "    cursor: pointer;\n",
              "    display: none;\n",
              "    fill: var(--fill-color);\n",
              "    height: 32px;\n",
              "    padding: 0;\n",
              "    width: 32px;\n",
              "  }\n",
              "\n",
              "  .colab-df-quickchart:hover {\n",
              "    background-color: var(--hover-bg-color);\n",
              "    box-shadow: 0 1px 2px rgba(60, 64, 67, 0.3), 0 1px 3px 1px rgba(60, 64, 67, 0.15);\n",
              "    fill: var(--button-hover-fill-color);\n",
              "  }\n",
              "\n",
              "  .colab-df-quickchart-complete:disabled,\n",
              "  .colab-df-quickchart-complete:disabled:hover {\n",
              "    background-color: var(--disabled-bg-color);\n",
              "    fill: var(--disabled-fill-color);\n",
              "    box-shadow: none;\n",
              "  }\n",
              "\n",
              "  .colab-df-spinner {\n",
              "    border: 2px solid var(--fill-color);\n",
              "    border-color: transparent;\n",
              "    border-bottom-color: var(--fill-color);\n",
              "    animation:\n",
              "      spin 1s steps(1) infinite;\n",
              "  }\n",
              "\n",
              "  @keyframes spin {\n",
              "    0% {\n",
              "      border-color: transparent;\n",
              "      border-bottom-color: var(--fill-color);\n",
              "      border-left-color: var(--fill-color);\n",
              "    }\n",
              "    20% {\n",
              "      border-color: transparent;\n",
              "      border-left-color: var(--fill-color);\n",
              "      border-top-color: var(--fill-color);\n",
              "    }\n",
              "    30% {\n",
              "      border-color: transparent;\n",
              "      border-left-color: var(--fill-color);\n",
              "      border-top-color: var(--fill-color);\n",
              "      border-right-color: var(--fill-color);\n",
              "    }\n",
              "    40% {\n",
              "      border-color: transparent;\n",
              "      border-right-color: var(--fill-color);\n",
              "      border-top-color: var(--fill-color);\n",
              "    }\n",
              "    60% {\n",
              "      border-color: transparent;\n",
              "      border-right-color: var(--fill-color);\n",
              "    }\n",
              "    80% {\n",
              "      border-color: transparent;\n",
              "      border-right-color: var(--fill-color);\n",
              "      border-bottom-color: var(--fill-color);\n",
              "    }\n",
              "    90% {\n",
              "      border-color: transparent;\n",
              "      border-bottom-color: var(--fill-color);\n",
              "    }\n",
              "  }\n",
              "</style>\n",
              "\n",
              "  <script>\n",
              "    async function quickchart(key) {\n",
              "      const quickchartButtonEl =\n",
              "        document.querySelector('#' + key + ' button');\n",
              "      quickchartButtonEl.disabled = true;  // To prevent multiple clicks.\n",
              "      quickchartButtonEl.classList.add('colab-df-spinner');\n",
              "      try {\n",
              "        const charts = await google.colab.kernel.invokeFunction(\n",
              "            'suggestCharts', [key], {});\n",
              "      } catch (error) {\n",
              "        console.error('Error during call to suggestCharts:', error);\n",
              "      }\n",
              "      quickchartButtonEl.classList.remove('colab-df-spinner');\n",
              "      quickchartButtonEl.classList.add('colab-df-quickchart-complete');\n",
              "    }\n",
              "    (() => {\n",
              "      let quickchartButtonEl =\n",
              "        document.querySelector('#df-67a59268-8db8-4b58-a54f-4c7a04a02c95 button');\n",
              "      quickchartButtonEl.style.display =\n",
              "        google.colab.kernel.accessAllowed ? 'block' : 'none';\n",
              "    })();\n",
              "  </script>\n",
              "</div>\n",
              "\n",
              "    </div>\n",
              "  </div>\n"
            ],
            "application/vnd.google.colaboratory.intrinsic+json": {
              "type": "dataframe",
              "variable_name": "train_data",
              "summary": "{\n  \"name\": \"train_data\",\n  \"rows\": 4950,\n  \"fields\": [\n    {\n      \"column\": \"idx\",\n      \"properties\": {\n        \"dtype\": \"number\",\n        \"std\": 1429,\n        \"min\": 0,\n        \"max\": 4949,\n        \"num_unique_values\": 4950,\n        \"samples\": [\n          230,\n          4855,\n          1954\n        ],\n        \"semantic_type\": \"\",\n        \"description\": \"\"\n      }\n    },\n    {\n      \"column\": \"class\",\n      \"properties\": {\n        \"dtype\": \"category\",\n        \"num_unique_values\": 5,\n        \"samples\": [\n          \"\\uae30\\ud0c0 \\uad34\\ub86d\\ud798 \\ub300\\ud654\",\n          \"\\uac08\\ucde8 \\ub300\\ud654\",\n          \"\\ud611\\ubc15 \\ub300\\ud654\"\n        ],\n        \"semantic_type\": \"\",\n        \"description\": \"\"\n      }\n    },\n    {\n      \"column\": \"conversation\",\n      \"properties\": {\n        \"dtype\": \"string\",\n        \"num_unique_values\": 4846,\n        \"samples\": [\n          \"\\uc57c?\\ub108 \\ubed4\\ubed4\\ud558\\uac8c \\uc5bc\\uad74\\ub4e4\\uace0 \\ub2e4\\ub2cc\\ub2e4?\\n.\\n\\ub108\\uac00 \\ub0b4 \\ub3d9\\uc0dd \\ucc28\\ub85c \\uce58\\uc5b4\\uc11c \\ub2e4\\ub9ac \\ubcd1\\uc2e0\\ub9cc\\ub4e4\\uc5b4 \\ub193\\uace0\\uc120 \\uc774 \\ub3d9\\ub124\\ub97c \\uba40\\uca61\\ud788 \\uac78\\uc5b4\\uc11c \\ub3cc\\uc544\\ub2e4\\ub140?\\n\\uadf8\\uac74 \\uc0ac\\uace0\\uc600\\uc5b4.\\n\\uc0ac\\uace0? \\uc0ac\\uace0 \\uc88b\\uc544\\ud558\\uc2dc\\ub124? \\ub108 \\uadf8\\ub54c \\uc220\\uccd0\\uba39\\uace0 \\ub3cc\\uc544\\ub2e4\\ub154\\uc796\\uc544! \\uadfc\\ub370 \\ubd80\\ubaa8\\ub2d8 \\ube7d\\uc73c\\ub85c \\uc720\\uce58\\uc7a5\\ub3c4 \\uc548 \\uac14\\ub354\\ub77c?\\n\\ub300\\ub0ae\\uc5d0 \\ub9dd\\uce58 \\ub4e4\\uace0 \\ubb50\\ud558\\ub294 \\uc9d3\\uc774\\uc57c?\\n\\ub124 \\ub2e4\\ub9ac\\ub3c4 \\ub0b4 \\ub3d9\\uc0dd\\ucc98\\ub7fc \\ub9cc\\ub4e4\\uc5b4\\uc918? \\ub2e4\\ub9ac \\ud558\\ub098 \\ubd80\\uc154\\ubc84\\uaca0\\ub2e4\\uace0\\n\\uadf8 \\ub9dd\\uce58 \\ub0b4\\ub824\\ub194.\\n\\ud558\\ub098\\uac00\\uc9c0\\uace0 \\ub418\\uaca0\\uc5b4? \\ub458\\ub2e4 \\ubd84\\uc9c0\\ub974\\uace0 \\uc0ac\\uc9c0\\ub97c \\uc808\\ub2e8\\ub0b4\\uaca0\\uc5b4\\n\\uc0ac.\\uc0b4\\ub824\\uc918.\",\n          \"\\uc5ed\\uc2dc \\uac00\\uc871\\uc774 \\uc788\\uc5b4\\uc57c \\uc624\\ub294\\uac74\\uac00?\\n \\uc6b0\\ub9ac \\uac00\\uc871\\uc744 \\uc778\\uc9c8\\ub85c \\uc7a1\\uc544? \\uc0ac\\ub78c\\uc774\\uc57c?\\n\\ub2f9\\uc5f0\\ud558\\uc9c0 \\uc5bc\\uad74\\ubcf4\\uae30 \\uaf64\\ub098 \\ud798\\ub4e0\\ub370 \\uc774\\ub807\\uac8c\\ub77c\\ub3c4 \\ubcfc \\uc218 \\uc788\\uc5b4\\uc11c \\uc5bc\\ub9c8\\ub098 \\uc88b\\uc544.\\n\\ub2f9\\uc7a5 \\uc6b0\\ub9ac\\uac00\\uc871 \\uc0b4\\ub824\\uc918\\n\\uc0b4\\ub824\\uc904\\uac8c \\uc0b4\\ub824\\uc8fc\\ub294 \\ub300\\uc2e0\\uc5d0 \\ud55c \\uba85\\uc5d0 \\ub2c8 \\uc7a5\\uae30 \\ud558\\ub098 \\uc5b4\\ub54c?\\n\\uc815\\ub9d0 \\uc544\\uc9c1\\ub3c4 \\uc815\\uc2e0\\uc744 \\ubabb\\ucc28\\ub838\\uad6c\\ub098 \\uadf8\\ub7ec\\ub2c8\\uae4c \\ub0b4\\uac00 \\uc5ec\\uae30\\uc11c \\ub098\\uac04\\uac70\\uc57c.\\n\\uac00\\uc871\\ub4e4\\uc774 \\uc8fd\\ub294\\uac78 \\ub208\\uc73c\\ub85c \\uc9c0\\ucf1c\\ubcfc\\uac70\\uc57c?\\n\\uc808\\ub300 \\uc548\\ub3fc. \\uac74\\ub4e4\\uba74 \\ub108\\ub128 \\ub0b4 \\uc190\\uc5d0 \\uc8fd\\uc5b4.\\n\\uc544\\uc774\\uace0. \\uadf8\\ub7fc \\ub2c8 \\uc7a5\\uae30 \\uac00\\uc838\\uac00\\uac8c \\ub9c8 \\ucde8\\uc8fc\\uc0ac\\ubd80\\ud130 \\ub9de\\uc790.\\n\\ud480\\uc5b4\\uc8fc\\ub294 \\uc870\\uac74\\uc774\\uc57c.\",\n          \"1\\uc5b5 \\uc900\\ube44\\ud574\\ub77c\\n \\ub204\\uad6c\\uc57c?\\n \\ub108 \\uc9c0\\ub09c \\ub2ec\\uc5d0 \\ud55c \\uac70 \\ub2e4 \\uc54c\\uace0 \\uc788\\ub2e4 \\uc0ac\\uc9c4\\ub3c4 \\uc788\\uc5b4\\n \\ubb54\\uc18c\\ub9ac\\uc57c?\\n \\uadf8\\ub798? \\ubaa8\\ub978\\ucc99 \\ud558\\uaca0\\ub2e4?\\n \\ub2f9\\uc2e0 \\ubb50\\uc57c?\\n \\uc0ac\\uc9c4 \\uc788\\ub2e4\\uace0 \\ub9d0\\ud588\\ub2e4. 1\\uc2dc\\uac04 \\uc548\\uc5d0 1\\uc5b5 \\uc900\\ube44\\uc548\\ud558\\uba74 \\ub2c8 \\ub9c8\\ub204\\ub77c\\uc640 \\ud68c\\uc0ac\\uc5d0 \\uc81c\\ubcf4\\ud55c\\ub2e4\\n \\ub3c4\\ub300\\uccb4 \\uc65c \\uc774\\ub7ec\\uc138\\uc694?\\n \\uae34 \\ub9d0 \\uc548\\ud560\\ud14c\\ub2c8 1\\uc2dc\\uac04 \\ud6c4\\uc5d0 \\ub180\\uc774\\ud130\\uc5d0\\uc11c \\ubcf4\\uc790\\n \\uc5ec\\ubcf4\\uc138\\uc694? \\uc5ec\\ubcf4\\uc138\\uc694?\"\n        ],\n        \"semantic_type\": \"\",\n        \"description\": \"\"\n      }\n    },\n    {\n      \"column\": \"type\",\n      \"properties\": {\n        \"dtype\": \"number\",\n        \"std\": 1,\n        \"min\": 0,\n        \"max\": 4,\n        \"num_unique_values\": 5,\n        \"samples\": [\n          3,\n          1,\n          0\n        ],\n        \"semantic_type\": \"\",\n        \"description\": \"\"\n      }\n    }\n  ]\n}"
            }
          },
          "metadata": {},
          "execution_count": 59
        }
      ]
    },
    {
      "cell_type": "code",
      "source": [
        "# 기존 idx 컬럼 삭제하기\n",
        "new_train_data = train_data.drop('idx', axis=1)"
      ],
      "metadata": {
        "id": "A1jo-6qkHstg"
      },
      "id": "A1jo-6qkHstg",
      "execution_count": 60,
      "outputs": []
    },
    {
      "cell_type": "code",
      "source": [
        "# idx 컬럼 삭제했는지 확인하기\n",
        "new_train_data.head()"
      ],
      "metadata": {
        "colab": {
          "base_uri": "https://localhost:8080/",
          "height": 206
        },
        "id": "0zCEDWu5ITQ8",
        "outputId": "ec264e20-8379-4290-e449-118db5abc46e"
      },
      "id": "0zCEDWu5ITQ8",
      "execution_count": 61,
      "outputs": [
        {
          "output_type": "execute_result",
          "data": {
            "text/plain": [
              "         class                                       conversation  type\n",
              "0        일반 대화  학교 점심 뭐 나와?\\n주로 한식이 나와.\\n학원 다녀?\\n응, 영어 학원 다녀.\\...     4\n",
              "1    기타 괴롭힘 대화  어이 거기 뒤뚱거리는 놈 \\n나?\\n그래 너 여기 뒤뚱거리는 놈이 너밖에 더 있냐?...     3\n",
              "2        협박 대화  너 그따위로 운전하면 확 갈아마셔버린다.\\n 뭐라구?\\n 나와 이 자식아. 미안하단...     0\n",
              "3  직장 내 괴롭힘 대화  길동씨 이번에 이것좀 처리해요\\n이거 제가 한게 아닌데요\\n팀에서 내가 니가가 어딨...     2\n",
              "4        일반 대화  비가 많이 오네.\\n우산 가져왔어?\\n날씨가 추워졌어.\\n맞아, 이제 겨울이야.\\n...     4"
            ],
            "text/html": [
              "\n",
              "  <div id=\"df-0779667b-835c-45f7-b419-74b21f1090d3\" class=\"colab-df-container\">\n",
              "    <div>\n",
              "<style scoped>\n",
              "    .dataframe tbody tr th:only-of-type {\n",
              "        vertical-align: middle;\n",
              "    }\n",
              "\n",
              "    .dataframe tbody tr th {\n",
              "        vertical-align: top;\n",
              "    }\n",
              "\n",
              "    .dataframe thead th {\n",
              "        text-align: right;\n",
              "    }\n",
              "</style>\n",
              "<table border=\"1\" class=\"dataframe\">\n",
              "  <thead>\n",
              "    <tr style=\"text-align: right;\">\n",
              "      <th></th>\n",
              "      <th>class</th>\n",
              "      <th>conversation</th>\n",
              "      <th>type</th>\n",
              "    </tr>\n",
              "  </thead>\n",
              "  <tbody>\n",
              "    <tr>\n",
              "      <th>0</th>\n",
              "      <td>일반 대화</td>\n",
              "      <td>학교 점심 뭐 나와?\\n주로 한식이 나와.\\n학원 다녀?\\n응, 영어 학원 다녀.\\...</td>\n",
              "      <td>4</td>\n",
              "    </tr>\n",
              "    <tr>\n",
              "      <th>1</th>\n",
              "      <td>기타 괴롭힘 대화</td>\n",
              "      <td>어이 거기 뒤뚱거리는 놈 \\n나?\\n그래 너 여기 뒤뚱거리는 놈이 너밖에 더 있냐?...</td>\n",
              "      <td>3</td>\n",
              "    </tr>\n",
              "    <tr>\n",
              "      <th>2</th>\n",
              "      <td>협박 대화</td>\n",
              "      <td>너 그따위로 운전하면 확 갈아마셔버린다.\\n 뭐라구?\\n 나와 이 자식아. 미안하단...</td>\n",
              "      <td>0</td>\n",
              "    </tr>\n",
              "    <tr>\n",
              "      <th>3</th>\n",
              "      <td>직장 내 괴롭힘 대화</td>\n",
              "      <td>길동씨 이번에 이것좀 처리해요\\n이거 제가 한게 아닌데요\\n팀에서 내가 니가가 어딨...</td>\n",
              "      <td>2</td>\n",
              "    </tr>\n",
              "    <tr>\n",
              "      <th>4</th>\n",
              "      <td>일반 대화</td>\n",
              "      <td>비가 많이 오네.\\n우산 가져왔어?\\n날씨가 추워졌어.\\n맞아, 이제 겨울이야.\\n...</td>\n",
              "      <td>4</td>\n",
              "    </tr>\n",
              "  </tbody>\n",
              "</table>\n",
              "</div>\n",
              "    <div class=\"colab-df-buttons\">\n",
              "\n",
              "  <div class=\"colab-df-container\">\n",
              "    <button class=\"colab-df-convert\" onclick=\"convertToInteractive('df-0779667b-835c-45f7-b419-74b21f1090d3')\"\n",
              "            title=\"Convert this dataframe to an interactive table.\"\n",
              "            style=\"display:none;\">\n",
              "\n",
              "  <svg xmlns=\"http://www.w3.org/2000/svg\" height=\"24px\" viewBox=\"0 -960 960 960\">\n",
              "    <path d=\"M120-120v-720h720v720H120Zm60-500h600v-160H180v160Zm220 220h160v-160H400v160Zm0 220h160v-160H400v160ZM180-400h160v-160H180v160Zm440 0h160v-160H620v160ZM180-180h160v-160H180v160Zm440 0h160v-160H620v160Z\"/>\n",
              "  </svg>\n",
              "    </button>\n",
              "\n",
              "  <style>\n",
              "    .colab-df-container {\n",
              "      display:flex;\n",
              "      gap: 12px;\n",
              "    }\n",
              "\n",
              "    .colab-df-convert {\n",
              "      background-color: #E8F0FE;\n",
              "      border: none;\n",
              "      border-radius: 50%;\n",
              "      cursor: pointer;\n",
              "      display: none;\n",
              "      fill: #1967D2;\n",
              "      height: 32px;\n",
              "      padding: 0 0 0 0;\n",
              "      width: 32px;\n",
              "    }\n",
              "\n",
              "    .colab-df-convert:hover {\n",
              "      background-color: #E2EBFA;\n",
              "      box-shadow: 0px 1px 2px rgba(60, 64, 67, 0.3), 0px 1px 3px 1px rgba(60, 64, 67, 0.15);\n",
              "      fill: #174EA6;\n",
              "    }\n",
              "\n",
              "    .colab-df-buttons div {\n",
              "      margin-bottom: 4px;\n",
              "    }\n",
              "\n",
              "    [theme=dark] .colab-df-convert {\n",
              "      background-color: #3B4455;\n",
              "      fill: #D2E3FC;\n",
              "    }\n",
              "\n",
              "    [theme=dark] .colab-df-convert:hover {\n",
              "      background-color: #434B5C;\n",
              "      box-shadow: 0px 1px 3px 1px rgba(0, 0, 0, 0.15);\n",
              "      filter: drop-shadow(0px 1px 2px rgba(0, 0, 0, 0.3));\n",
              "      fill: #FFFFFF;\n",
              "    }\n",
              "  </style>\n",
              "\n",
              "    <script>\n",
              "      const buttonEl =\n",
              "        document.querySelector('#df-0779667b-835c-45f7-b419-74b21f1090d3 button.colab-df-convert');\n",
              "      buttonEl.style.display =\n",
              "        google.colab.kernel.accessAllowed ? 'block' : 'none';\n",
              "\n",
              "      async function convertToInteractive(key) {\n",
              "        const element = document.querySelector('#df-0779667b-835c-45f7-b419-74b21f1090d3');\n",
              "        const dataTable =\n",
              "          await google.colab.kernel.invokeFunction('convertToInteractive',\n",
              "                                                    [key], {});\n",
              "        if (!dataTable) return;\n",
              "\n",
              "        const docLinkHtml = 'Like what you see? Visit the ' +\n",
              "          '<a target=\"_blank\" href=https://colab.research.google.com/notebooks/data_table.ipynb>data table notebook</a>'\n",
              "          + ' to learn more about interactive tables.';\n",
              "        element.innerHTML = '';\n",
              "        dataTable['output_type'] = 'display_data';\n",
              "        await google.colab.output.renderOutput(dataTable, element);\n",
              "        const docLink = document.createElement('div');\n",
              "        docLink.innerHTML = docLinkHtml;\n",
              "        element.appendChild(docLink);\n",
              "      }\n",
              "    </script>\n",
              "  </div>\n",
              "\n",
              "\n",
              "<div id=\"df-de271ccf-def0-46a2-832c-3602f6076d76\">\n",
              "  <button class=\"colab-df-quickchart\" onclick=\"quickchart('df-de271ccf-def0-46a2-832c-3602f6076d76')\"\n",
              "            title=\"Suggest charts\"\n",
              "            style=\"display:none;\">\n",
              "\n",
              "<svg xmlns=\"http://www.w3.org/2000/svg\" height=\"24px\"viewBox=\"0 0 24 24\"\n",
              "     width=\"24px\">\n",
              "    <g>\n",
              "        <path d=\"M19 3H5c-1.1 0-2 .9-2 2v14c0 1.1.9 2 2 2h14c1.1 0 2-.9 2-2V5c0-1.1-.9-2-2-2zM9 17H7v-7h2v7zm4 0h-2V7h2v10zm4 0h-2v-4h2v4z\"/>\n",
              "    </g>\n",
              "</svg>\n",
              "  </button>\n",
              "\n",
              "<style>\n",
              "  .colab-df-quickchart {\n",
              "      --bg-color: #E8F0FE;\n",
              "      --fill-color: #1967D2;\n",
              "      --hover-bg-color: #E2EBFA;\n",
              "      --hover-fill-color: #174EA6;\n",
              "      --disabled-fill-color: #AAA;\n",
              "      --disabled-bg-color: #DDD;\n",
              "  }\n",
              "\n",
              "  [theme=dark] .colab-df-quickchart {\n",
              "      --bg-color: #3B4455;\n",
              "      --fill-color: #D2E3FC;\n",
              "      --hover-bg-color: #434B5C;\n",
              "      --hover-fill-color: #FFFFFF;\n",
              "      --disabled-bg-color: #3B4455;\n",
              "      --disabled-fill-color: #666;\n",
              "  }\n",
              "\n",
              "  .colab-df-quickchart {\n",
              "    background-color: var(--bg-color);\n",
              "    border: none;\n",
              "    border-radius: 50%;\n",
              "    cursor: pointer;\n",
              "    display: none;\n",
              "    fill: var(--fill-color);\n",
              "    height: 32px;\n",
              "    padding: 0;\n",
              "    width: 32px;\n",
              "  }\n",
              "\n",
              "  .colab-df-quickchart:hover {\n",
              "    background-color: var(--hover-bg-color);\n",
              "    box-shadow: 0 1px 2px rgba(60, 64, 67, 0.3), 0 1px 3px 1px rgba(60, 64, 67, 0.15);\n",
              "    fill: var(--button-hover-fill-color);\n",
              "  }\n",
              "\n",
              "  .colab-df-quickchart-complete:disabled,\n",
              "  .colab-df-quickchart-complete:disabled:hover {\n",
              "    background-color: var(--disabled-bg-color);\n",
              "    fill: var(--disabled-fill-color);\n",
              "    box-shadow: none;\n",
              "  }\n",
              "\n",
              "  .colab-df-spinner {\n",
              "    border: 2px solid var(--fill-color);\n",
              "    border-color: transparent;\n",
              "    border-bottom-color: var(--fill-color);\n",
              "    animation:\n",
              "      spin 1s steps(1) infinite;\n",
              "  }\n",
              "\n",
              "  @keyframes spin {\n",
              "    0% {\n",
              "      border-color: transparent;\n",
              "      border-bottom-color: var(--fill-color);\n",
              "      border-left-color: var(--fill-color);\n",
              "    }\n",
              "    20% {\n",
              "      border-color: transparent;\n",
              "      border-left-color: var(--fill-color);\n",
              "      border-top-color: var(--fill-color);\n",
              "    }\n",
              "    30% {\n",
              "      border-color: transparent;\n",
              "      border-left-color: var(--fill-color);\n",
              "      border-top-color: var(--fill-color);\n",
              "      border-right-color: var(--fill-color);\n",
              "    }\n",
              "    40% {\n",
              "      border-color: transparent;\n",
              "      border-right-color: var(--fill-color);\n",
              "      border-top-color: var(--fill-color);\n",
              "    }\n",
              "    60% {\n",
              "      border-color: transparent;\n",
              "      border-right-color: var(--fill-color);\n",
              "    }\n",
              "    80% {\n",
              "      border-color: transparent;\n",
              "      border-right-color: var(--fill-color);\n",
              "      border-bottom-color: var(--fill-color);\n",
              "    }\n",
              "    90% {\n",
              "      border-color: transparent;\n",
              "      border-bottom-color: var(--fill-color);\n",
              "    }\n",
              "  }\n",
              "</style>\n",
              "\n",
              "  <script>\n",
              "    async function quickchart(key) {\n",
              "      const quickchartButtonEl =\n",
              "        document.querySelector('#' + key + ' button');\n",
              "      quickchartButtonEl.disabled = true;  // To prevent multiple clicks.\n",
              "      quickchartButtonEl.classList.add('colab-df-spinner');\n",
              "      try {\n",
              "        const charts = await google.colab.kernel.invokeFunction(\n",
              "            'suggestCharts', [key], {});\n",
              "      } catch (error) {\n",
              "        console.error('Error during call to suggestCharts:', error);\n",
              "      }\n",
              "      quickchartButtonEl.classList.remove('colab-df-spinner');\n",
              "      quickchartButtonEl.classList.add('colab-df-quickchart-complete');\n",
              "    }\n",
              "    (() => {\n",
              "      let quickchartButtonEl =\n",
              "        document.querySelector('#df-de271ccf-def0-46a2-832c-3602f6076d76 button');\n",
              "      quickchartButtonEl.style.display =\n",
              "        google.colab.kernel.accessAllowed ? 'block' : 'none';\n",
              "    })();\n",
              "  </script>\n",
              "</div>\n",
              "\n",
              "    </div>\n",
              "  </div>\n"
            ],
            "application/vnd.google.colaboratory.intrinsic+json": {
              "type": "dataframe",
              "variable_name": "new_train_data",
              "summary": "{\n  \"name\": \"new_train_data\",\n  \"rows\": 4950,\n  \"fields\": [\n    {\n      \"column\": \"class\",\n      \"properties\": {\n        \"dtype\": \"category\",\n        \"num_unique_values\": 5,\n        \"samples\": [\n          \"\\uae30\\ud0c0 \\uad34\\ub86d\\ud798 \\ub300\\ud654\",\n          \"\\uac08\\ucde8 \\ub300\\ud654\",\n          \"\\ud611\\ubc15 \\ub300\\ud654\"\n        ],\n        \"semantic_type\": \"\",\n        \"description\": \"\"\n      }\n    },\n    {\n      \"column\": \"conversation\",\n      \"properties\": {\n        \"dtype\": \"string\",\n        \"num_unique_values\": 4846,\n        \"samples\": [\n          \"\\uc57c?\\ub108 \\ubed4\\ubed4\\ud558\\uac8c \\uc5bc\\uad74\\ub4e4\\uace0 \\ub2e4\\ub2cc\\ub2e4?\\n.\\n\\ub108\\uac00 \\ub0b4 \\ub3d9\\uc0dd \\ucc28\\ub85c \\uce58\\uc5b4\\uc11c \\ub2e4\\ub9ac \\ubcd1\\uc2e0\\ub9cc\\ub4e4\\uc5b4 \\ub193\\uace0\\uc120 \\uc774 \\ub3d9\\ub124\\ub97c \\uba40\\uca61\\ud788 \\uac78\\uc5b4\\uc11c \\ub3cc\\uc544\\ub2e4\\ub140?\\n\\uadf8\\uac74 \\uc0ac\\uace0\\uc600\\uc5b4.\\n\\uc0ac\\uace0? \\uc0ac\\uace0 \\uc88b\\uc544\\ud558\\uc2dc\\ub124? \\ub108 \\uadf8\\ub54c \\uc220\\uccd0\\uba39\\uace0 \\ub3cc\\uc544\\ub2e4\\ub154\\uc796\\uc544! \\uadfc\\ub370 \\ubd80\\ubaa8\\ub2d8 \\ube7d\\uc73c\\ub85c \\uc720\\uce58\\uc7a5\\ub3c4 \\uc548 \\uac14\\ub354\\ub77c?\\n\\ub300\\ub0ae\\uc5d0 \\ub9dd\\uce58 \\ub4e4\\uace0 \\ubb50\\ud558\\ub294 \\uc9d3\\uc774\\uc57c?\\n\\ub124 \\ub2e4\\ub9ac\\ub3c4 \\ub0b4 \\ub3d9\\uc0dd\\ucc98\\ub7fc \\ub9cc\\ub4e4\\uc5b4\\uc918? \\ub2e4\\ub9ac \\ud558\\ub098 \\ubd80\\uc154\\ubc84\\uaca0\\ub2e4\\uace0\\n\\uadf8 \\ub9dd\\uce58 \\ub0b4\\ub824\\ub194.\\n\\ud558\\ub098\\uac00\\uc9c0\\uace0 \\ub418\\uaca0\\uc5b4? \\ub458\\ub2e4 \\ubd84\\uc9c0\\ub974\\uace0 \\uc0ac\\uc9c0\\ub97c \\uc808\\ub2e8\\ub0b4\\uaca0\\uc5b4\\n\\uc0ac.\\uc0b4\\ub824\\uc918.\",\n          \"\\uc5ed\\uc2dc \\uac00\\uc871\\uc774 \\uc788\\uc5b4\\uc57c \\uc624\\ub294\\uac74\\uac00?\\n \\uc6b0\\ub9ac \\uac00\\uc871\\uc744 \\uc778\\uc9c8\\ub85c \\uc7a1\\uc544? \\uc0ac\\ub78c\\uc774\\uc57c?\\n\\ub2f9\\uc5f0\\ud558\\uc9c0 \\uc5bc\\uad74\\ubcf4\\uae30 \\uaf64\\ub098 \\ud798\\ub4e0\\ub370 \\uc774\\ub807\\uac8c\\ub77c\\ub3c4 \\ubcfc \\uc218 \\uc788\\uc5b4\\uc11c \\uc5bc\\ub9c8\\ub098 \\uc88b\\uc544.\\n\\ub2f9\\uc7a5 \\uc6b0\\ub9ac\\uac00\\uc871 \\uc0b4\\ub824\\uc918\\n\\uc0b4\\ub824\\uc904\\uac8c \\uc0b4\\ub824\\uc8fc\\ub294 \\ub300\\uc2e0\\uc5d0 \\ud55c \\uba85\\uc5d0 \\ub2c8 \\uc7a5\\uae30 \\ud558\\ub098 \\uc5b4\\ub54c?\\n\\uc815\\ub9d0 \\uc544\\uc9c1\\ub3c4 \\uc815\\uc2e0\\uc744 \\ubabb\\ucc28\\ub838\\uad6c\\ub098 \\uadf8\\ub7ec\\ub2c8\\uae4c \\ub0b4\\uac00 \\uc5ec\\uae30\\uc11c \\ub098\\uac04\\uac70\\uc57c.\\n\\uac00\\uc871\\ub4e4\\uc774 \\uc8fd\\ub294\\uac78 \\ub208\\uc73c\\ub85c \\uc9c0\\ucf1c\\ubcfc\\uac70\\uc57c?\\n\\uc808\\ub300 \\uc548\\ub3fc. \\uac74\\ub4e4\\uba74 \\ub108\\ub128 \\ub0b4 \\uc190\\uc5d0 \\uc8fd\\uc5b4.\\n\\uc544\\uc774\\uace0. \\uadf8\\ub7fc \\ub2c8 \\uc7a5\\uae30 \\uac00\\uc838\\uac00\\uac8c \\ub9c8 \\ucde8\\uc8fc\\uc0ac\\ubd80\\ud130 \\ub9de\\uc790.\\n\\ud480\\uc5b4\\uc8fc\\ub294 \\uc870\\uac74\\uc774\\uc57c.\",\n          \"1\\uc5b5 \\uc900\\ube44\\ud574\\ub77c\\n \\ub204\\uad6c\\uc57c?\\n \\ub108 \\uc9c0\\ub09c \\ub2ec\\uc5d0 \\ud55c \\uac70 \\ub2e4 \\uc54c\\uace0 \\uc788\\ub2e4 \\uc0ac\\uc9c4\\ub3c4 \\uc788\\uc5b4\\n \\ubb54\\uc18c\\ub9ac\\uc57c?\\n \\uadf8\\ub798? \\ubaa8\\ub978\\ucc99 \\ud558\\uaca0\\ub2e4?\\n \\ub2f9\\uc2e0 \\ubb50\\uc57c?\\n \\uc0ac\\uc9c4 \\uc788\\ub2e4\\uace0 \\ub9d0\\ud588\\ub2e4. 1\\uc2dc\\uac04 \\uc548\\uc5d0 1\\uc5b5 \\uc900\\ube44\\uc548\\ud558\\uba74 \\ub2c8 \\ub9c8\\ub204\\ub77c\\uc640 \\ud68c\\uc0ac\\uc5d0 \\uc81c\\ubcf4\\ud55c\\ub2e4\\n \\ub3c4\\ub300\\uccb4 \\uc65c \\uc774\\ub7ec\\uc138\\uc694?\\n \\uae34 \\ub9d0 \\uc548\\ud560\\ud14c\\ub2c8 1\\uc2dc\\uac04 \\ud6c4\\uc5d0 \\ub180\\uc774\\ud130\\uc5d0\\uc11c \\ubcf4\\uc790\\n \\uc5ec\\ubcf4\\uc138\\uc694? \\uc5ec\\ubcf4\\uc138\\uc694?\"\n        ],\n        \"semantic_type\": \"\",\n        \"description\": \"\"\n      }\n    },\n    {\n      \"column\": \"type\",\n      \"properties\": {\n        \"dtype\": \"number\",\n        \"std\": 1,\n        \"min\": 0,\n        \"max\": 4,\n        \"num_unique_values\": 5,\n        \"samples\": [\n          3,\n          1,\n          0\n        ],\n        \"semantic_type\": \"\",\n        \"description\": \"\"\n      }\n    }\n  ]\n}"
            }
          },
          "metadata": {},
          "execution_count": 61
        }
      ]
    },
    {
      "cell_type": "code",
      "source": [
        "# new_train_data를 train_data에 덮어 씌우기\n",
        "# train_data = new_train_data"
      ],
      "metadata": {
        "id": "bPud0R2yIasN"
      },
      "id": "bPud0R2yIasN",
      "execution_count": null,
      "outputs": []
    },
    {
      "cell_type": "markdown",
      "id": "62e949ca",
      "metadata": {
        "id": "62e949ca"
      },
      "source": [
        "### 기타 전처리"
      ]
    },
    {
      "cell_type": "markdown",
      "id": "f2e6fa92",
      "metadata": {
        "id": "f2e6fa92"
      },
      "source": [
        "### 토큰화"
      ]
    },
    {
      "cell_type": "markdown",
      "id": "e970c394",
      "metadata": {
        "id": "e970c394"
      },
      "source": [
        "## 전처리 후 분석"
      ]
    },
    {
      "cell_type": "markdown",
      "id": "0b636ead",
      "metadata": {
        "id": "0b636ead"
      },
      "source": [
        "## 데이터 분할"
      ]
    }
  ],
  "metadata": {
    "kernelspec": {
      "display_name": "Python 3 (ipykernel)",
      "language": "python",
      "name": "python3"
    },
    "language_info": {
      "codemirror_mode": {
        "name": "ipython",
        "version": 3
      },
      "file_extension": ".py",
      "mimetype": "text/x-python",
      "name": "python",
      "nbconvert_exporter": "python",
      "pygments_lexer": "ipython3",
      "version": "3.9.7"
    },
    "colab": {
      "provenance": []
    }
  },
  "nbformat": 4,
  "nbformat_minor": 5
}