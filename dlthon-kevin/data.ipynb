{
 "cells": [
  {
   "cell_type": "markdown",
   "id": "ca864585",
   "metadata": {},
   "source": [
    "# 데이터"
   ]
  },
  {
   "cell_type": "markdown",
   "id": "c701b00d",
   "metadata": {},
   "source": [
    "## 데이터 업로드"
   ]
  },
  {
   "cell_type": "markdown",
   "id": "5bdf4356",
   "metadata": {},
   "source": [
    "제공된 학습 데이터 불러오기"
   ]
  },
  {
   "cell_type": "code",
   "execution_count": null,
   "id": "344110c5",
   "metadata": {},
   "outputs": [],
   "source": [
    "import os\n",
    "import pandas as pd\n",
    "\n",
    "train_data_path =\"/aiffel/aiffel/dktc/data/train.csv\"\n",
    "train_data = pd.read_csv(train_data_path)"
   ]
  },
  {
   "cell_type": "markdown",
   "id": "6a65ea20",
   "metadata": {},
   "source": [
    "일반대화 합성 데이터 불러오기"
   ]
  },
  {
   "cell_type": "code",
   "execution_count": null,
   "id": "0895911d",
   "metadata": {},
   "outputs": [],
   "source": []
  },
  {
   "cell_type": "markdown",
   "id": "9f7f787c",
   "metadata": {},
   "source": [
    "데이터 합치기"
   ]
  },
  {
   "cell_type": "code",
   "execution_count": null,
   "id": "13c46857",
   "metadata": {},
   "outputs": [],
   "source": [
    "##"
   ]
  },
  {
   "cell_type": "markdown",
   "id": "7d3c36fc",
   "metadata": {},
   "source": [
    "## EDA"
   ]
  },
  {
   "cell_type": "markdown",
   "id": "cf338d29",
   "metadata": {},
   "source": [
    "## 전처리"
   ]
  },
  {
   "cell_type": "markdown",
   "id": "4f2fd67d",
   "metadata": {},
   "source": [
    "### 기본 전처리"
   ]
  },
  {
   "cell_type": "markdown",
   "id": "dbee6640",
   "metadata": {},
   "source": [
    "### 기타 전처리"
   ]
  },
  {
   "cell_type": "markdown",
   "id": "f888bb14",
   "metadata": {},
   "source": [
    "### 토큰화"
   ]
  },
  {
   "cell_type": "markdown",
   "id": "766431b6",
   "metadata": {},
   "source": [
    "## 전처리 후 분석"
   ]
  },
  {
   "cell_type": "markdown",
   "id": "ee5d35ea",
   "metadata": {},
   "source": [
    "## 데이터 분할"
   ]
  }
 ],
 "metadata": {
  "kernelspec": {
   "display_name": "Python 3 (ipykernel)",
   "language": "python",
   "name": "python3"
  },
  "language_info": {
   "codemirror_mode": {
    "name": "ipython",
    "version": 3
   },
   "file_extension": ".py",
   "mimetype": "text/x-python",
   "name": "python",
   "nbconvert_exporter": "python",
   "pygments_lexer": "ipython3",
   "version": "3.9.7"
  }
 },
 "nbformat": 4,
 "nbformat_minor": 5
}
