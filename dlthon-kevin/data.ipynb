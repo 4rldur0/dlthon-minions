{
 "cells": [
  {
   "cell_type": "markdown",
   "id": "82a6990b",
   "metadata": {
    "id": "a63262ad"
   },
   "source": [
    "# 데이터"
   ]
  },
  {
   "cell_type": "code",
   "execution_count": 1,
   "id": "b41808c8",
   "metadata": {
    "id": "cf7ba9f6"
   },
   "outputs": [],
   "source": [
    "# 라이브러리 불러오기\n",
    "import os\n",
    "import numpy as np\n",
    "import pandas as pd\n",
    "import matplotlib.pyplot as plt\n",
    "import seaborn as sns\n",
    "import tensorflow as tf\n",
    "from tensorflow import keras\n",
    "\n",
    "import re\n",
    "from collections import Counter\n",
    "import sentencepiece as spm\n",
    "from konlpy.tag import Okt\n",
    "from konlpy.tag import Mecab\n",
    "import csv \n",
    "from tensorflow.keras.preprocessing.sequence import pad_sequences\n",
    "from sklearn.model_selection import train_test_split"
   ]
  },
  {
   "cell_type": "code",
   "execution_count": null,
   "id": "2209284a",
   "metadata": {
    "id": "SlAOhRs09rt2"
   },
   "outputs": [],
   "source": [
    "# 한글 폰트에 문제가 생겼을 때\n",
    "\n",
    "# 한글 폰트 설치\n",
    "!apt-get update -qq\n",
    "!apt-get install -qq fonts-nanum\n",
    "\n",
    "# 설치한 폰트를 matplotlib에서 사용할 수 있도록 설정\n",
    "import matplotlib.font_manager as fm\n",
    "import matplotlib.pyplot as plt\n",
    "\n",
    "# 나눔 폰트 경로 설정\n",
    "font_path = '/usr/share/fonts/truetype/nanum/NanumGothic.ttf'\n",
    "\n",
    "# 폰트 매니저에 폰트 추가\n",
    "fm.fontManager.addfont(font_path)\n",
    "plt.rc('font', family='NanumGothic')  # 폰트 설정"
   ]
  },
  {
   "cell_type": "markdown",
   "id": "bc46fa93",
   "metadata": {
    "id": "482d4066"
   },
   "source": [
    "## 데이터 업로드"
   ]
  },
  {
   "cell_type": "markdown",
   "id": "192be849",
   "metadata": {
    "id": "7ae4fc0d"
   },
   "source": [
    "#### 학습 데이터 불러오기\n",
    "\n",
    "프롬프트로 생성된 '일반 대화' 합성 데이터와 원본 데이터가 합쳐진 파일"
   ]
  },
  {
   "cell_type": "code",
   "execution_count": 2,
   "id": "18db126a",
   "metadata": {
    "id": "b13d6792"
   },
   "outputs": [],
   "source": [
    "train_data_path =\"../data/conversations.csv\"\n",
    "train_data = pd.read_csv(train_data_path)\n",
    "# 원본 데이터 저장\n",
    "origin_data = train_data"
   ]
  },
  {
   "cell_type": "code",
   "execution_count": null,
   "id": "223e0bc5",
   "metadata": {
    "colab": {
     "base_uri": "https://localhost:8080/",
     "height": 362
    },
    "id": "960aefbc",
    "outputId": "0a63c37c-ea2e-465c-830f-f36405289505"
   },
   "outputs": [],
   "source": [
    "train_data.sample(10)"
   ]
  },
  {
   "cell_type": "code",
   "execution_count": null,
   "id": "4de6f1f4",
   "metadata": {
    "colab": {
     "base_uri": "https://localhost:8080/"
    },
    "id": "662ed8cb",
    "outputId": "bf7af049-16d1-411f-e51b-7e2388e895c9"
   },
   "outputs": [],
   "source": [
    "train_data.info()"
   ]
  },
  {
   "cell_type": "markdown",
   "id": "3da99b09",
   "metadata": {
    "id": "daad0be9"
   },
   "source": [
    "## Augmentation"
   ]
  },
  {
   "cell_type": "markdown",
   "id": "c4145103",
   "metadata": {
    "id": "48b08735"
   },
   "source": [
    "## EDA\n",
    "### 문장 기준 분석"
   ]
  },
  {
   "cell_type": "code",
   "execution_count": 3,
   "id": "1994e37c",
   "metadata": {
    "colab": {
     "base_uri": "https://localhost:8080/"
    },
    "id": "6ilpz-Cj86KD",
    "outputId": "b72bbfd4-de19-4fe5-d443-2142e78dc73f"
   },
   "outputs": [
    {
     "data": {
      "text/plain": [
       "class\n",
       "갈취 대화           981\n",
       "기타 괴롭힘 대화      1094\n",
       "일반 대화          1000\n",
       "직장 내 괴롭힘 대화     979\n",
       "협박 대화           896\n",
       "dtype: int64"
      ]
     },
     "execution_count": 3,
     "metadata": {},
     "output_type": "execute_result"
    }
   ],
   "source": [
    "# 클래스 별 대화 확인해보기\n",
    "class_counts = train_data.groupby('class').size()\n",
    "class_counts"
   ]
  },
  {
   "cell_type": "code",
   "execution_count": 4,
   "id": "995a6e34",
   "metadata": {
    "id": "kZRNBoKk8uLo"
   },
   "outputs": [],
   "source": [
    "# 대화(X)와 레이블(y)로 나누기\n",
    "X_train = train_data['conversation']\n",
    "y_train = train_data['class']"
   ]
  },
  {
   "cell_type": "markdown",
   "id": "62f29769",
   "metadata": {
    "id": "50394866"
   },
   "source": [
    "#### 길이 분포 확인"
   ]
  },
  {
   "cell_type": "code",
   "execution_count": 5,
   "id": "6d251d90",
   "metadata": {
    "colab": {
     "base_uri": "https://localhost:8080/"
    },
    "id": "789c8471",
    "outputId": "edcddeab-5d34-48f1-d839-4bbf3a1af1f1"
   },
   "outputs": [
    {
     "name": "stdout",
     "output_type": "stream",
     "text": [
      "Data Information\n",
      "--------------------------------------------------\n",
      "Conversations : (4950,)\n",
      "Label : (4950,)\n",
      "Label Type: {'일반 대화', '협박 대화', '갈취 대화', '기타 괴롭힘 대화', '직장 내 괴롭힘 대화'}\n",
      "--------------------------------------------------\n",
      "The number of classes : 4\n",
      "--------------------------------------------------\n",
      "Max Length :874\n",
      "Average Length :232.0210101010101\n"
     ]
    }
   ],
   "source": [
    "# 길이 분포 확인하기\n",
    "print('Data Information')\n",
    "print('-'*50)\n",
    "print('Conversations :',X_train.shape)\n",
    "print('Label :',y_train.shape)\n",
    "print('Label Type:', set(y_train))\n",
    "print('-'*50)\n",
    "num_classes = 4\n",
    "print('The number of classes : {}'.format(num_classes))\n",
    "print('-'*50)\n",
    "print('Max Length :{}'.format(max(len(l) for l in X_train)))\n",
    "print('Average Length :{}'.format(sum(map(len, X_train))/len(X_train)))"
   ]
  },
  {
   "cell_type": "markdown",
   "id": "9ab293f3",
   "metadata": {
    "id": "e7831dd6"
   },
   "source": [
    "#### 클래스 별 분포 확인"
   ]
  },
  {
   "cell_type": "code",
   "execution_count": 6,
   "id": "9f1a02f3",
   "metadata": {
    "colab": {
     "base_uri": "https://localhost:8080/",
     "height": 456
    },
    "id": "99b138fb",
    "outputId": "99861275-04b9-473b-dc9c-93adea1ccc65"
   },
   "outputs": [
    {
     "name": "stderr",
     "output_type": "stream",
     "text": [
      "/opt/conda/lib/python3.9/site-packages/matplotlib/backends/backend_agg.py:240: RuntimeWarning: Glyph 51068 missing from current font.\n",
      "  font.set_text(s, 0.0, flags=flags)\n",
      "/opt/conda/lib/python3.9/site-packages/matplotlib/backends/backend_agg.py:240: RuntimeWarning: Glyph 48152 missing from current font.\n",
      "  font.set_text(s, 0.0, flags=flags)\n",
      "/opt/conda/lib/python3.9/site-packages/matplotlib/backends/backend_agg.py:240: RuntimeWarning: Glyph 45824 missing from current font.\n",
      "  font.set_text(s, 0.0, flags=flags)\n",
      "/opt/conda/lib/python3.9/site-packages/matplotlib/backends/backend_agg.py:240: RuntimeWarning: Glyph 54868 missing from current font.\n",
      "  font.set_text(s, 0.0, flags=flags)\n",
      "/opt/conda/lib/python3.9/site-packages/matplotlib/backends/backend_agg.py:240: RuntimeWarning: Glyph 44592 missing from current font.\n",
      "  font.set_text(s, 0.0, flags=flags)\n",
      "/opt/conda/lib/python3.9/site-packages/matplotlib/backends/backend_agg.py:240: RuntimeWarning: Glyph 53440 missing from current font.\n",
      "  font.set_text(s, 0.0, flags=flags)\n",
      "/opt/conda/lib/python3.9/site-packages/matplotlib/backends/backend_agg.py:240: RuntimeWarning: Glyph 44340 missing from current font.\n",
      "  font.set_text(s, 0.0, flags=flags)\n",
      "/opt/conda/lib/python3.9/site-packages/matplotlib/backends/backend_agg.py:240: RuntimeWarning: Glyph 47213 missing from current font.\n",
      "  font.set_text(s, 0.0, flags=flags)\n",
      "/opt/conda/lib/python3.9/site-packages/matplotlib/backends/backend_agg.py:240: RuntimeWarning: Glyph 55192 missing from current font.\n",
      "  font.set_text(s, 0.0, flags=flags)\n",
      "/opt/conda/lib/python3.9/site-packages/matplotlib/backends/backend_agg.py:240: RuntimeWarning: Glyph 54801 missing from current font.\n",
      "  font.set_text(s, 0.0, flags=flags)\n",
      "/opt/conda/lib/python3.9/site-packages/matplotlib/backends/backend_agg.py:240: RuntimeWarning: Glyph 48149 missing from current font.\n",
      "  font.set_text(s, 0.0, flags=flags)\n",
      "/opt/conda/lib/python3.9/site-packages/matplotlib/backends/backend_agg.py:240: RuntimeWarning: Glyph 51649 missing from current font.\n",
      "  font.set_text(s, 0.0, flags=flags)\n",
      "/opt/conda/lib/python3.9/site-packages/matplotlib/backends/backend_agg.py:240: RuntimeWarning: Glyph 51109 missing from current font.\n",
      "  font.set_text(s, 0.0, flags=flags)\n",
      "/opt/conda/lib/python3.9/site-packages/matplotlib/backends/backend_agg.py:240: RuntimeWarning: Glyph 45236 missing from current font.\n",
      "  font.set_text(s, 0.0, flags=flags)\n",
      "/opt/conda/lib/python3.9/site-packages/matplotlib/backends/backend_agg.py:240: RuntimeWarning: Glyph 44040 missing from current font.\n",
      "  font.set_text(s, 0.0, flags=flags)\n",
      "/opt/conda/lib/python3.9/site-packages/matplotlib/backends/backend_agg.py:240: RuntimeWarning: Glyph 52712 missing from current font.\n",
      "  font.set_text(s, 0.0, flags=flags)\n",
      "/opt/conda/lib/python3.9/site-packages/matplotlib/backends/backend_agg.py:203: RuntimeWarning: Glyph 51068 missing from current font.\n",
      "  font.set_text(s, 0, flags=flags)\n",
      "/opt/conda/lib/python3.9/site-packages/matplotlib/backends/backend_agg.py:203: RuntimeWarning: Glyph 48152 missing from current font.\n",
      "  font.set_text(s, 0, flags=flags)\n",
      "/opt/conda/lib/python3.9/site-packages/matplotlib/backends/backend_agg.py:203: RuntimeWarning: Glyph 45824 missing from current font.\n",
      "  font.set_text(s, 0, flags=flags)\n",
      "/opt/conda/lib/python3.9/site-packages/matplotlib/backends/backend_agg.py:203: RuntimeWarning: Glyph 54868 missing from current font.\n",
      "  font.set_text(s, 0, flags=flags)\n",
      "/opt/conda/lib/python3.9/site-packages/matplotlib/backends/backend_agg.py:203: RuntimeWarning: Glyph 44592 missing from current font.\n",
      "  font.set_text(s, 0, flags=flags)\n",
      "/opt/conda/lib/python3.9/site-packages/matplotlib/backends/backend_agg.py:203: RuntimeWarning: Glyph 53440 missing from current font.\n",
      "  font.set_text(s, 0, flags=flags)\n",
      "/opt/conda/lib/python3.9/site-packages/matplotlib/backends/backend_agg.py:203: RuntimeWarning: Glyph 44340 missing from current font.\n",
      "  font.set_text(s, 0, flags=flags)\n",
      "/opt/conda/lib/python3.9/site-packages/matplotlib/backends/backend_agg.py:203: RuntimeWarning: Glyph 47213 missing from current font.\n",
      "  font.set_text(s, 0, flags=flags)\n",
      "/opt/conda/lib/python3.9/site-packages/matplotlib/backends/backend_agg.py:203: RuntimeWarning: Glyph 55192 missing from current font.\n",
      "  font.set_text(s, 0, flags=flags)\n",
      "/opt/conda/lib/python3.9/site-packages/matplotlib/backends/backend_agg.py:203: RuntimeWarning: Glyph 54801 missing from current font.\n",
      "  font.set_text(s, 0, flags=flags)\n",
      "/opt/conda/lib/python3.9/site-packages/matplotlib/backends/backend_agg.py:203: RuntimeWarning: Glyph 48149 missing from current font.\n",
      "  font.set_text(s, 0, flags=flags)\n",
      "/opt/conda/lib/python3.9/site-packages/matplotlib/backends/backend_agg.py:203: RuntimeWarning: Glyph 51649 missing from current font.\n",
      "  font.set_text(s, 0, flags=flags)\n",
      "/opt/conda/lib/python3.9/site-packages/matplotlib/backends/backend_agg.py:203: RuntimeWarning: Glyph 51109 missing from current font.\n",
      "  font.set_text(s, 0, flags=flags)\n",
      "/opt/conda/lib/python3.9/site-packages/matplotlib/backends/backend_agg.py:203: RuntimeWarning: Glyph 45236 missing from current font.\n",
      "  font.set_text(s, 0, flags=flags)\n",
      "/opt/conda/lib/python3.9/site-packages/matplotlib/backends/backend_agg.py:203: RuntimeWarning: Glyph 44040 missing from current font.\n",
      "  font.set_text(s, 0, flags=flags)\n",
      "/opt/conda/lib/python3.9/site-packages/matplotlib/backends/backend_agg.py:203: RuntimeWarning: Glyph 52712 missing from current font.\n",
      "  font.set_text(s, 0, flags=flags)\n"
     ]
    },
    {
     "data": {
      "image/png": "[encoded data removed]",
      "text/plain": [
       "<Figure size 1080x360 with 2 Axes>"
      ]
     },
     "metadata": {
      "needs_background": "light"
     },
     "output_type": "display_data"
    }
   ],
   "source": [
    "# 두 서브플롯 생성하기\n",
    "fig, axes = plt.subplots(nrows=1, ncols=2, figsize=(15, 5))\n",
    "\n",
    "# 샘플 길이의 히스토그램\n",
    "axes[0].hist([len(s) for s in X_train], bins=50, color='skyblue')\n",
    "axes[0].set_xlabel('Length of samples')\n",
    "axes[0].set_ylabel('Number of samples')\n",
    "axes[0].set_title('Sample Length Distribution')\n",
    "\n",
    "# 클래스별 샘플 수 플롯\n",
    "sns.countplot(x=y_train, ax=axes[1], palette='pastel')\n",
    "axes[1].set_title('Class Distribution')\n",
    "\n",
    "# 레이아웃 조정하기\n",
    "plt.tight_layout()\n",
    "\n",
    "# 플롯 표시하기\n",
    "plt.show()"
   ]
  },
  {
   "cell_type": "markdown",
   "id": "bb7ff8a9",
   "metadata": {
    "id": "083e9cfa"
   },
   "source": [
    "#### 클래스 별 길이 분포 확인"
   ]
  },
  {
   "cell_type": "code",
   "execution_count": 7,
   "id": "93eb8902",
   "metadata": {
    "colab": {
     "base_uri": "https://localhost:8080/",
     "height": 707
    },
    "id": "3aea02f8",
    "outputId": "7e8737ff-8668-4128-ffe2-2f19119cf183"
   },
   "outputs": [
    {
     "data": {
      "image/png": "[encoded data removed]",
      "text/plain": [
       "<Figure size 1080x720 with 4 Axes>"
      ]
     },
     "metadata": {
      "needs_background": "light"
     },
     "output_type": "display_data"
    }
   ],
   "source": [
    "# 서브플롯 생성하기\n",
    "fig, axes = plt.subplots(nrows=2, ncols=2, figsize=(15, 10))\n",
    "\n",
    "# 샘플 길이의 히스토그램 그리기\n",
    "\n",
    "# 협박 대화\n",
    "axes[0][0].hist([len(s) for s in train_data['conversation'][train_data['class']=='협박 대화']],\n",
    "                bins=50, color='skyblue')\n",
    "axes[0][0].set_xlabel('Length of samples')\n",
    "axes[0][0].set_ylabel('Number of samples')\n",
    "axes[0][0].set_title('협박 대화')\n",
    "\n",
    "# 갈취 대화\n",
    "axes[0][1].hist([len(s) for s in train_data['conversation'][train_data['class']=='갈취 대화']],\n",
    "                bins=50, color='salmon')\n",
    "axes[0][1].set_xlabel('Length of samples')\n",
    "axes[0][1].set_ylabel('Number of samples')\n",
    "axes[0][1].set_title('갈취 대화')\n",
    "\n",
    "# 직장 내 괴롭힘 대화\n",
    "axes[1][0].hist([len(s) for s in train_data['conversation'][train_data['class']=='직장 내 괴롭힘 대화']],\n",
    "                bins=50, color='lightgreen')\n",
    "axes[1][0].set_xlabel('Length of samples')\n",
    "axes[1][0].set_ylabel('Number of samples')\n",
    "axes[1][0].set_title('직장 내 괴롭힘 대화')\n",
    "\n",
    "# 기타 괴롭힘 대화\n",
    "axes[1][1].hist([len(s) for s in train_data['conversation'][train_data['class']=='기타 괴롭힘 대화']],\n",
    "                bins=50, color='orchid')\n",
    "axes[1][1].set_xlabel('Length of samples')\n",
    "axes[1][1].set_ylabel('Number of samples')\n",
    "axes[1][1].set_title('기타 괴롭힘 대화')\n",
    "\n",
    "plt.subplots_adjust(wspace=0.3, hspace=0.5)\n",
    "plt.show()"
   ]
  },
  {
   "cell_type": "markdown",
   "id": "63a37fbb",
   "metadata": {},
   "source": [
    "### 단어 기준 분석\n",
    "Okt 토크나이저로 형태소 분석"
   ]
  },
  {
   "cell_type": "code",
   "execution_count": 8,
   "id": "08820ed5",
   "metadata": {},
   "outputs": [],
   "source": [
    "# Okt 토크나이저 활용하여 단어 추출\n",
    "okt=Okt()"
   ]
  },
  {
   "cell_type": "markdown",
   "id": "f55e08fc",
   "metadata": {},
   "source": [
    "형태소 추출 함수 정의"
   ]
  },
  {
   "cell_type": "code",
   "execution_count": 9,
   "id": "27fdac58",
   "metadata": {},
   "outputs": [],
   "source": [
    "# 텍스트 전처리 함수 정의하기 (특수문자 제거하기)\n",
    "# 전처리 없이 토큰화할 경우 상위 토큰들이 대부분 특수문자였음\n",
    "def preprocess_text(text):\n",
    "    # 특수문자를 공백으로 바꾸기\n",
    "    text = re.sub(r\"([\\n?.!,])\", \" \", text)\n",
    "    \n",
    "    # (ㄱ-ㅎ, ㅏ-ㅣ)를 제외한 모든 문자를 없애기\n",
    "    text = re.sub(\"[^ㄱ-ㅣ가-힣]\", \"\", text)\n",
    "    return text"
   ]
  },
  {
   "cell_type": "code",
   "execution_count": 10,
   "id": "47fc28cd",
   "metadata": {},
   "outputs": [],
   "source": [
    "# 형태소를 추출하는 함수 정의하기\n",
    "def extract_morphs(conversations):\n",
    "    all_morphs = []\n",
    "    for conversation in conversations:\n",
    "        conversation = preprocess_text(conversation)\n",
    "        morphs = okt.morphs(conversation)\n",
    "        all_morphs.extend(morphs)\n",
    "    morph_counter = Counter(all_morphs)\n",
    "    return morph_counter"
   ]
  },
  {
   "cell_type": "code",
   "execution_count": 11,
   "id": "0c0cb2f4",
   "metadata": {},
   "outputs": [],
   "source": [
    "# 명사를 추출하는 함수 정의하기\n",
    "def extract_nouns(conversations):\n",
    "    all_nouns = []\n",
    "    for conversation in conversations:\n",
    "        conversation = preprocess_text(conversation)\n",
    "        nouns = okt.nouns(conversation)\n",
    "        all_nouns.extend(nouns)\n",
    "    noun_counter = Counter(all_nouns)\n",
    "    return noun_counter"
   ]
  },
  {
   "cell_type": "code",
   "execution_count": 12,
   "id": "4894e022",
   "metadata": {},
   "outputs": [],
   "source": [
    "# 상위 10개의 명사와 형태소를 시각화하는 함수\n",
    "def plot_top_10(noun_data, morph_data, title_noun, title_morph):\n",
    "    fig, axs = plt.subplots(1, 2, figsize=(14, 6))\n",
    "\n",
    "    # 상위 10개의 명사\n",
    "    top_10_nouns = noun_data.head(10)\n",
    "    axs[0].bar(top_10_nouns['Noun'], top_10_nouns['Frequency'], color='skyblue')\n",
    "    axs[0].set_title(title_noun)\n",
    "    axs[0].set_xlabel('Noun')\n",
    "    axs[0].set_ylabel('Frequency')\n",
    "    axs[0].tick_params(axis='x', rotation=45)\n",
    "\n",
    "    # 상위 10개의 형태소\n",
    "    top_10_morphs = morph_data.head(10)\n",
    "    axs[1].bar(top_10_morphs['Morph'], top_10_morphs['Frequency'], color='lightgreen')\n",
    "    axs[1].set_title(title_morph)\n",
    "    axs[1].set_xlabel('Morph')\n",
    "    axs[1].set_ylabel('Frequency')\n",
    "    axs[1].tick_params(axis='x', rotation=45)\n",
    "\n",
    "    plt.tight_layout()\n",
    "    plt.show()"
   ]
  },
  {
   "cell_type": "markdown",
   "id": "8af91d59",
   "metadata": {},
   "source": [
    "#### 클래스 별 사용 단어 비교"
   ]
  },
  {
   "cell_type": "code",
   "execution_count": 13,
   "id": "a82a54c1",
   "metadata": {},
   "outputs": [],
   "source": [
    "# 대화 데이터를 각 클래스별로 나누기\n",
    "classes = ['협박 대화', '갈취 대화', '직장 내 괴롭힘 대화', '기타 괴롭힘 대화']\n",
    "class_data = {cls: train_data[train_data['class'] == cls] for cls in classes}"
   ]
  },
  {
   "cell_type": "code",
   "execution_count": 14,
   "id": "ed422b1c",
   "metadata": {},
   "outputs": [
    {
     "ename": "KeyboardInterrupt",
     "evalue": "",
     "output_type": "error",
     "traceback": [
      "\u001b[0;31m---------------------------------------------------------------------------\u001b[0m",
      "\u001b[0;31mKeyboardInterrupt\u001b[0m                         Traceback (most recent call last)",
      "\u001b[0;32m/tmp/ipykernel_3499/2775632578.py\u001b[0m in \u001b[0;36m<module>\u001b[0;34m\u001b[0m\n\u001b[1;32m      1\u001b[0m \u001b[0;31m# 각 클래스별 명사와 형태소를 추출\u001b[0m\u001b[0;34m\u001b[0m\u001b[0;34m\u001b[0m\u001b[0m\n\u001b[0;32m----> 2\u001b[0;31m \u001b[0mclass_noun_counters\u001b[0m \u001b[0;34m=\u001b[0m \u001b[0;34m{\u001b[0m\u001b[0mcls\u001b[0m\u001b[0;34m:\u001b[0m \u001b[0mextract_nouns\u001b[0m\u001b[0;34m(\u001b[0m\u001b[0mdata\u001b[0m\u001b[0;34m[\u001b[0m\u001b[0;34m'conversation'\u001b[0m\u001b[0;34m]\u001b[0m\u001b[0;34m)\u001b[0m \u001b[0;32mfor\u001b[0m \u001b[0mcls\u001b[0m\u001b[0;34m,\u001b[0m \u001b[0mdata\u001b[0m \u001b[0;32min\u001b[0m \u001b[0mclass_data\u001b[0m\u001b[0;34m.\u001b[0m\u001b[0mitems\u001b[0m\u001b[0;34m(\u001b[0m\u001b[0;34m)\u001b[0m\u001b[0;34m}\u001b[0m\u001b[0;34m\u001b[0m\u001b[0;34m\u001b[0m\u001b[0m\n\u001b[0m\u001b[1;32m      3\u001b[0m \u001b[0mclass_morph_counters\u001b[0m \u001b[0;34m=\u001b[0m \u001b[0;34m{\u001b[0m\u001b[0mcls\u001b[0m\u001b[0;34m:\u001b[0m \u001b[0mextract_morphs\u001b[0m\u001b[0;34m(\u001b[0m\u001b[0mdata\u001b[0m\u001b[0;34m[\u001b[0m\u001b[0;34m'conversation'\u001b[0m\u001b[0;34m]\u001b[0m\u001b[0;34m)\u001b[0m \u001b[0;32mfor\u001b[0m \u001b[0mcls\u001b[0m\u001b[0;34m,\u001b[0m \u001b[0mdata\u001b[0m \u001b[0;32min\u001b[0m \u001b[0mclass_data\u001b[0m\u001b[0;34m.\u001b[0m\u001b[0mitems\u001b[0m\u001b[0;34m(\u001b[0m\u001b[0;34m)\u001b[0m\u001b[0;34m}\u001b[0m\u001b[0;34m\u001b[0m\u001b[0;34m\u001b[0m\u001b[0m\n",
      "\u001b[0;32m/tmp/ipykernel_3499/2775632578.py\u001b[0m in \u001b[0;36m<dictcomp>\u001b[0;34m(.0)\u001b[0m\n\u001b[1;32m      1\u001b[0m \u001b[0;31m# 각 클래스별 명사와 형태소를 추출\u001b[0m\u001b[0;34m\u001b[0m\u001b[0;34m\u001b[0m\u001b[0m\n\u001b[0;32m----> 2\u001b[0;31m \u001b[0mclass_noun_counters\u001b[0m \u001b[0;34m=\u001b[0m \u001b[0;34m{\u001b[0m\u001b[0mcls\u001b[0m\u001b[0;34m:\u001b[0m \u001b[0mextract_nouns\u001b[0m\u001b[0;34m(\u001b[0m\u001b[0mdata\u001b[0m\u001b[0;34m[\u001b[0m\u001b[0;34m'conversation'\u001b[0m\u001b[0;34m]\u001b[0m\u001b[0;34m)\u001b[0m \u001b[0;32mfor\u001b[0m \u001b[0mcls\u001b[0m\u001b[0;34m,\u001b[0m \u001b[0mdata\u001b[0m \u001b[0;32min\u001b[0m \u001b[0mclass_data\u001b[0m\u001b[0;34m.\u001b[0m\u001b[0mitems\u001b[0m\u001b[0;34m(\u001b[0m\u001b[0;34m)\u001b[0m\u001b[0;34m}\u001b[0m\u001b[0;34m\u001b[0m\u001b[0;34m\u001b[0m\u001b[0m\n\u001b[0m\u001b[1;32m      3\u001b[0m \u001b[0mclass_morph_counters\u001b[0m \u001b[0;34m=\u001b[0m \u001b[0;34m{\u001b[0m\u001b[0mcls\u001b[0m\u001b[0;34m:\u001b[0m \u001b[0mextract_morphs\u001b[0m\u001b[0;34m(\u001b[0m\u001b[0mdata\u001b[0m\u001b[0;34m[\u001b[0m\u001b[0;34m'conversation'\u001b[0m\u001b[0;34m]\u001b[0m\u001b[0;34m)\u001b[0m \u001b[0;32mfor\u001b[0m \u001b[0mcls\u001b[0m\u001b[0;34m,\u001b[0m \u001b[0mdata\u001b[0m \u001b[0;32min\u001b[0m \u001b[0mclass_data\u001b[0m\u001b[0;34m.\u001b[0m\u001b[0mitems\u001b[0m\u001b[0;34m(\u001b[0m\u001b[0;34m)\u001b[0m\u001b[0;34m}\u001b[0m\u001b[0;34m\u001b[0m\u001b[0;34m\u001b[0m\u001b[0m\n",
      "\u001b[0;32m/tmp/ipykernel_3499/988672285.py\u001b[0m in \u001b[0;36mextract_nouns\u001b[0;34m(conversations)\u001b[0m\n\u001b[1;32m      4\u001b[0m     \u001b[0;32mfor\u001b[0m \u001b[0mconversation\u001b[0m \u001b[0;32min\u001b[0m \u001b[0mconversations\u001b[0m\u001b[0;34m:\u001b[0m\u001b[0;34m\u001b[0m\u001b[0;34m\u001b[0m\u001b[0m\n\u001b[1;32m      5\u001b[0m         \u001b[0mconversation\u001b[0m \u001b[0;34m=\u001b[0m \u001b[0mpreprocess_text\u001b[0m\u001b[0;34m(\u001b[0m\u001b[0mconversation\u001b[0m\u001b[0;34m)\u001b[0m\u001b[0;34m\u001b[0m\u001b[0;34m\u001b[0m\u001b[0m\n\u001b[0;32m----> 6\u001b[0;31m         \u001b[0mnouns\u001b[0m \u001b[0;34m=\u001b[0m \u001b[0mokt\u001b[0m\u001b[0;34m.\u001b[0m\u001b[0mnouns\u001b[0m\u001b[0;34m(\u001b[0m\u001b[0mconversation\u001b[0m\u001b[0;34m)\u001b[0m\u001b[0;34m\u001b[0m\u001b[0;34m\u001b[0m\u001b[0m\n\u001b[0m\u001b[1;32m      7\u001b[0m         \u001b[0mall_nouns\u001b[0m\u001b[0;34m.\u001b[0m\u001b[0mextend\u001b[0m\u001b[0;34m(\u001b[0m\u001b[0mnouns\u001b[0m\u001b[0;34m)\u001b[0m\u001b[0;34m\u001b[0m\u001b[0;34m\u001b[0m\u001b[0m\n\u001b[1;32m      8\u001b[0m     \u001b[0mnoun_counter\u001b[0m \u001b[0;34m=\u001b[0m \u001b[0mCounter\u001b[0m\u001b[0;34m(\u001b[0m\u001b[0mall_nouns\u001b[0m\u001b[0;34m)\u001b[0m\u001b[0;34m\u001b[0m\u001b[0;34m\u001b[0m\u001b[0m\n",
      "\u001b[0;32m/opt/conda/lib/python3.9/site-packages/konlpy/tag/_okt.py\u001b[0m in \u001b[0;36mnouns\u001b[0;34m(self, phrase)\u001b[0m\n\u001b[1;32m     70\u001b[0m         \u001b[0;34m\"\"\"Noun extractor.\"\"\"\u001b[0m\u001b[0;34m\u001b[0m\u001b[0;34m\u001b[0m\u001b[0m\n\u001b[1;32m     71\u001b[0m \u001b[0;34m\u001b[0m\u001b[0m\n\u001b[0;32m---> 72\u001b[0;31m         \u001b[0mtagged\u001b[0m \u001b[0;34m=\u001b[0m \u001b[0mself\u001b[0m\u001b[0;34m.\u001b[0m\u001b[0mpos\u001b[0m\u001b[0;34m(\u001b[0m\u001b[0mphrase\u001b[0m\u001b[0;34m)\u001b[0m\u001b[0;34m\u001b[0m\u001b[0;34m\u001b[0m\u001b[0m\n\u001b[0m\u001b[1;32m     73\u001b[0m         \u001b[0;32mreturn\u001b[0m \u001b[0;34m[\u001b[0m\u001b[0ms\u001b[0m \u001b[0;32mfor\u001b[0m \u001b[0ms\u001b[0m\u001b[0;34m,\u001b[0m \u001b[0mt\u001b[0m \u001b[0;32min\u001b[0m \u001b[0mtagged\u001b[0m \u001b[0;32mif\u001b[0m \u001b[0mt\u001b[0m \u001b[0;34m==\u001b[0m \u001b[0;34m'Noun'\u001b[0m\u001b[0;34m]\u001b[0m\u001b[0;34m\u001b[0m\u001b[0;34m\u001b[0m\u001b[0m\n\u001b[1;32m     74\u001b[0m \u001b[0;34m\u001b[0m\u001b[0m\n",
      "\u001b[0;32m/opt/conda/lib/python3.9/site-packages/konlpy/tag/_okt.py\u001b[0m in \u001b[0;36mpos\u001b[0;34m(self, phrase, norm, stem, join)\u001b[0m\n\u001b[1;32m     58\u001b[0m         \"\"\"\n\u001b[1;32m     59\u001b[0m \u001b[0;34m\u001b[0m\u001b[0m\n\u001b[0;32m---> 60\u001b[0;31m         tokens = self.jki.tokenize(\n\u001b[0m\u001b[1;32m     61\u001b[0m                     \u001b[0mphrase\u001b[0m\u001b[0;34m,\u001b[0m\u001b[0;34m\u001b[0m\u001b[0;34m\u001b[0m\u001b[0m\n\u001b[1;32m     62\u001b[0m                     \u001b[0mjpype\u001b[0m\u001b[0;34m.\u001b[0m\u001b[0mjava\u001b[0m\u001b[0;34m.\u001b[0m\u001b[0mlang\u001b[0m\u001b[0;34m.\u001b[0m\u001b[0mBoolean\u001b[0m\u001b[0;34m(\u001b[0m\u001b[0mnorm\u001b[0m\u001b[0;34m)\u001b[0m\u001b[0;34m,\u001b[0m\u001b[0;34m\u001b[0m\u001b[0;34m\u001b[0m\u001b[0m\n",
      "\u001b[0;31mKeyboardInterrupt\u001b[0m: "
     ]
    }
   ],
   "source": [
    "# 각 클래스별 명사와 형태소를 추출\n",
    "class_noun_counters = {cls: extract_nouns(data['conversation']) for cls, data in class_data.items()}\n",
    "class_morph_counters = {cls: extract_morphs(data['conversation']) for cls, data in class_data.items()}"
   ]
  },
  {
   "cell_type": "code",
   "execution_count": null,
   "id": "7886576d",
   "metadata": {},
   "outputs": [],
   "source": [
    "# 각 클래스별 명사와 형태소 통계를 데이터프레임으로 전환하기\n",
    "class_noun_stats = {cls: pd.DataFrame(counter.items(), columns=['Noun', 'Frequency']).sort_values(by='Frequency', ascending=False) for cls, counter in class_noun_counters.items()}\n",
    "class_morph_stats = {cls: pd.DataFrame(counter.items(), columns=['Morph', 'Frequency']).sort_values(by='Frequency', ascending=False) for cls, counter in class_morph_counters.items()}"
   ]
  },
  {
   "cell_type": "code",
   "execution_count": null,
   "id": "c5323269",
   "metadata": {},
   "outputs": [],
   "source": [
    "# 각 클래스별 상위 10개의 명사와 형태소를 2x2 서브플롯 형태로 시각화하기\n",
    "fig, axs = plt.subplots(2, 2, figsize=(20, 12))\n",
    "plot_titles = {\n",
    "    '협박 대화': ['Top 10 Nouns in Threatening Conversation', 'Top 10 Morphs in Threatening Conversation'],\n",
    "    '갈취 대화': ['Top 10 Nouns in Extortion Conversation', 'Top 10 Morphs in Extortion Conversation'],\n",
    "    '직장 내 괴롭힘 대화': ['Top 10 Nouns in Workplace Harassment', 'Top 10 Morphs in Workplace Harassment'],\n",
    "    '기타 괴롭힘 대화': ['Top 10 Nouns in Other Harassment', 'Top 10 Morphs in Other Harassment']\n",
    "}\n",
    "\n",
    "for i, (cls, noun_data) in enumerate(class_noun_stats.items()):\n",
    "    morph_data = class_morph_stats[cls]\n",
    "    plot_top_10(noun_data, morph_data, plot_titles[cls][0], plot_titles[cls][1])\n",
    "\n",
    "plt.tight_layout()\n",
    "plt.show()"
   ]
  },
  {
   "cell_type": "markdown",
   "id": "353e0abd",
   "metadata": {
    "id": "1e11f330"
   },
   "source": [
    "#### 화자 별 사용 단어 비교"
   ]
  },
  {
   "cell_type": "markdown",
   "id": "4d90f154",
   "metadata": {},
   "source": [
    "화자 A, B 두 명이라고 가정. 각각이 사용한 명사, 형태소 비교"
   ]
  },
  {
   "cell_type": "code",
   "execution_count": null,
   "id": "41eb7cae",
   "metadata": {
    "id": "32O8COJDAIPQ"
   },
   "outputs": [],
   "source": [
    "# A와 B의 대화를 담을 리스트 초기화하기\n",
    "A_conversations = []\n",
    "B_conversations = []"
   ]
  },
  {
   "cell_type": "code",
   "execution_count": null,
   "id": "f1f64596",
   "metadata": {
    "id": "v6Lrkm1vCNYq"
   },
   "outputs": [],
   "source": [
    "# 대화 열을 반복하면서 각 대화를 분할하기\n",
    "for conversation in train_data['conversation']:\n",
    "    try:\n",
    "        lines = conversation.split('\\n')\n",
    "        # 홀수 줄은 A, 짝수 줄은 B에 추가하기\n",
    "        A_conv = '\\n'.join([line for idx, line in enumerate(lines) if idx % 2 == 0])\n",
    "        B_conv = '\\n'.join([line for idx, line in enumerate(lines) if idx % 2 == 1])\n",
    "        A_conversations.append(A_conv)\n",
    "        B_conversations.append(B_conv)\n",
    "    except ValueError:\n",
    "        # 대화가 정확히 두 부분으로 나뉘지 않는 경우 처리하기\n",
    "        A_conversations.append(conversation)\n",
    "        B_conversations.append('')"
   ]
  },
  {
   "cell_type": "code",
   "execution_count": null,
   "id": "a71d8ed4",
   "metadata": {
    "id": "DKZu5DEkCSdx"
   },
   "outputs": [],
   "source": [
    "# A와 B를 위한 새로운 데이터프레임 생성하기\n",
    "A_data = pd.DataFrame({'idx': train_data['idx'], 'class': train_data['class'], 'conversation': A_conversations})\n",
    "B_data = pd.DataFrame({'idx': train_data['idx'], 'class': train_data['class'], 'conversation': B_conversations})"
   ]
  },
  {
   "cell_type": "code",
   "execution_count": null,
   "id": "4483eb14",
   "metadata": {
    "colab": {
     "base_uri": "https://localhost:8080/"
    },
    "id": "CVyoSDyeCUMU",
    "outputId": "0ab01503-89ec-4b9e-c74c-cc7821fa31ac"
   },
   "outputs": [],
   "source": [
    "# A의 head() 출력하기\n",
    "print(\"A 데이터셋의 첫 5개 행:\")\n",
    "A_data.head()"
   ]
  },
  {
   "cell_type": "code",
   "execution_count": null,
   "id": "e9ce24b1",
   "metadata": {
    "colab": {
     "base_uri": "https://localhost:8080/"
    },
    "id": "pd-QkkAPDnl4",
    "outputId": "dd539e0a-57f8-43e0-9de7-b03f3e2c49f5"
   },
   "outputs": [],
   "source": [
    "# B의 head() 출력하기\n",
    "print(\"B 데이터셋의 첫 5개 행:\")\n",
    "B_data.head()"
   ]
  },
  {
   "cell_type": "code",
   "execution_count": null,
   "id": "6012685d",
   "metadata": {},
   "outputs": [],
   "source": [
    "# A와 B의 명사 추출하기\n",
    "A_noun_counters = {cls: extract_nouns(A_data['conversation']) for cls, data in class_data.items()}\n",
    "B_noun_counters = {cls: extract_nouns(B_data['conversation']) for cls, data in class_data.items()}"
   ]
  },
  {
   "cell_type": "code",
   "execution_count": null,
   "id": "d1971ac7",
   "metadata": {},
   "outputs": [],
   "source": [
    "# A와 B의 형태소 추출하기\n",
    "A_morph_counters = {cls: extract_morphs(A_data['conversation']) for cls, data in class_data.items()}\n",
    "B_morph_counters = {cls: extract_morphs(B_data['conversation']) for cls, data in class_data.items()}"
   ]
  },
  {
   "cell_type": "code",
   "execution_count": null,
   "id": "182c134b",
   "metadata": {},
   "outputs": [],
   "source": [
    "# 명사 통계를 데이터프레임으로 전환하기\n",
    "A_noun_stats = {cls: pd.DataFrame(A_noun_counters.items(), columns=['Noun', 'Frequency']).sort_values(by='Frequency', ascending=False) for cls, counter in class_noun_counters.items()}\n",
    "B_noun_stats = {cls: pd.DataFrame(B_noun_counters.items(), columns=['Morph', 'Frequency']).sort_values(by='Frequency', ascending=False) for cls, counter in class_morph_counters.items()}"
   ]
  },
  {
   "cell_type": "code",
   "execution_count": null,
   "id": "71a60559",
   "metadata": {},
   "outputs": [],
   "source": [
    "# 형태소 통계를 데이터프레임으로 전환하기\n",
    "A_morph_stats = {cls: pd.DataFrame(A_noun_counters.items(), columns=['Morph', 'Frequency']).sort_values(by='Frequency', ascending=False) for cls, counter in class_morph_counters.items()}\n",
    "B_morph_stats = {cls: pd.DataFrame(B_noun_counters.items(), columns=['Morph', 'Frequency']).sort_values(by='Frequency', ascending=False) for cls, counter in class_morph_counters.items()}"
   ]
  },
  {
   "cell_type": "code",
   "execution_count": null,
   "id": "65e81b5a",
   "metadata": {},
   "outputs": [],
   "source": [
    "# A와 B 데이터의 상위 10개 명사 및 형태소 시각화\n",
    "# A 데이터의 상위 10개의 명사와 형태소를 서브플롯으로 그리기\n",
    "plot_top_10(A_noun_stats, A_morph_stats, 'Top 10 Nouns in A Data', 'Top 10 Morphs in A Data')\n",
    "plot_top_10(B_noun_stats, B_morph_stats, 'Top 10 Nouns in B Data', 'Top 10 Morphs in B Data')"
   ]
  },
  {
   "cell_type": "markdown",
   "id": "3838641f",
   "metadata": {},
   "source": [
    "#### 분석 결과 바탕으로 불용어 리스트 생성"
   ]
  },
  {
   "cell_type": "markdown",
   "id": "a7b35e70",
   "metadata": {},
   "source": [
    "기존 불용어 리스트"
   ]
  },
  {
   "cell_type": "code",
   "execution_count": null,
   "id": "da738725",
   "metadata": {},
   "outputs": [],
   "source": [
    "# 불용어 리스트 불러오기\n",
    "origin_stopwords_path = \"stopwords.txt\"\n",
    "with open(stopwords_path, 'r', encoding='utf-8') as file:\n",
    "    stopwords = file.read().splitlines()\n",
    "stopwords"
   ]
  },
  {
   "cell_type": "markdown",
   "id": "bb3578a2",
   "metadata": {},
   "source": [
    "추가 불용어 리스트"
   ]
  },
  {
   "cell_type": "code",
   "execution_count": null,
   "id": "efd11245",
   "metadata": {},
   "outputs": [],
   "source": [
    "# 추가 불용어 목록\n",
    "additional_stopwords = [\n",
    "    '것', '안', '못', '왜', '이', '저', '그', '사람', '너', '저희', '우리', '나', '너희', '당신',\n",
    "    '하지만', '그리고', '거나', '그러나', '그러면', '그런데', '그러므로', '그래서', '그럼', '근데', '그래',\n",
    "    '즉', '따라서', '이와', '여기', '저기', '거기', '이곳', '그곳', '저곳', '거기', '하나', '둘', '셋', '넷',\n",
    "]\n",
    "# 추가 불용어를 기본 불용어 사전에 추가하기\n",
    "stopwords.update(additional_stopwords)"
   ]
  },
  {
   "cell_type": "code",
   "execution_count": null,
   "id": "535006a9",
   "metadata": {},
   "outputs": [],
   "source": [
    "stopwords_path = \"ko_stopwords.txt\"\n",
    "with open(stopwords_path, 'r', encoding='utf-8') as file:\n",
    "    stopwords = file.read().splitlines()\n",
    "stopwords"
   ]
  },
  {
   "cell_type": "markdown",
   "id": "1a73ed92",
   "metadata": {
    "id": "a2dc1dd9"
   },
   "source": [
    "## 전처리"
   ]
  },
  {
   "cell_type": "markdown",
   "id": "3b570755",
   "metadata": {
    "id": "01b2fd43"
   },
   "source": [
    "### 기본 전처리"
   ]
  },
  {
   "cell_type": "markdown",
   "id": "0db5c194",
   "metadata": {
    "id": "OYxUovemAv20"
   },
   "source": [
    "#### 중복값 여부 찾아보기"
   ]
  },
  {
   "cell_type": "code",
   "execution_count": null,
   "id": "81d91b12",
   "metadata": {
    "colab": {
     "base_uri": "https://localhost:8080/",
     "height": 89
    },
    "id": "cB1L0F_TAi_C",
    "outputId": "b61694e1-9aab-493d-92b0-2d51a5c1a8a8"
   },
   "outputs": [],
   "source": [
    "# 중복값 찾기\n",
    "duplicates = train_data[train_data.duplicated()]\n",
    "duplicates"
   ]
  },
  {
   "cell_type": "markdown",
   "id": "26cea8e8",
   "metadata": {},
   "source": [
    "중복값 없음"
   ]
  },
  {
   "cell_type": "markdown",
   "id": "f5643201",
   "metadata": {
    "id": "j0pOinZUARe5"
   },
   "source": [
    "#### 결측치 여부 확인하기"
   ]
  },
  {
   "cell_type": "code",
   "execution_count": null,
   "id": "1d75bcf1",
   "metadata": {
    "colab": {
     "base_uri": "https://localhost:8080/"
    },
    "id": "f5JBxYdiAMVC",
    "outputId": "e600fe25-72c4-47c4-e687-cacd5a91e6f9"
   },
   "outputs": [],
   "source": [
    "# 결측치 여부 확인하기\n",
    "train_data.isnull().sum()"
   ]
  },
  {
   "cell_type": "markdown",
   "id": "f4d27c8d",
   "metadata": {},
   "source": [
    "결측치 없음"
   ]
  },
  {
   "cell_type": "markdown",
   "id": "e2b662dd",
   "metadata": {
    "id": "5StEP_y9HGHC"
   },
   "source": [
    "#### 클래스 컬럼 인코딩하기"
   ]
  },
  {
   "cell_type": "code",
   "execution_count": null,
   "id": "4d8d6e02",
   "metadata": {
    "id": "GjX684X4HDdT"
   },
   "outputs": [],
   "source": [
    "# 'class'를 'type'으로 매핑하는 딕셔너리 생성하기\n",
    "class_to_type = {\n",
    "    '협박 대화': 0,\n",
    "    '갈취 대화': 1,\n",
    "    '직장 내 괴롭힘 대화': 2,\n",
    "    '기타 괴롭힘 대화': 3,\n",
    "    '일반 대화': 4\n",
    "}"
   ]
  },
  {
   "cell_type": "code",
   "execution_count": null,
   "id": "d7613a27",
   "metadata": {
    "id": "xRYGA8ftH-4V"
   },
   "outputs": [],
   "source": [
    "# 'class' 열을 기반으로 새로운 'type' 열 추가하기\n",
    "train_data['type'] = train_data['class'].map(class_to_type)"
   ]
  },
  {
   "cell_type": "code",
   "execution_count": null,
   "id": "90953377",
   "metadata": {
    "colab": {
     "base_uri": "https://localhost:8080/",
     "height": 206
    },
    "id": "EtcFaPyJIHGk",
    "outputId": "d67bb466-6612-4dd5-e289-4031489f5299"
   },
   "outputs": [],
   "source": [
    "# type 열 추가했는지 확인하기\n",
    "train_data.head()"
   ]
  },
  {
   "cell_type": "code",
   "execution_count": null,
   "id": "05cc95f6",
   "metadata": {
    "id": "A1jo-6qkHstg"
   },
   "outputs": [],
   "source": [
    "# 기존 idx, class 컬럼 삭제하기\n",
    "new_train_data = train_data.drop(['idx', 'class'], axis=1)\n",
    "# idx, class 컬럼 삭제했는지 확인하기\n",
    "new_train_data.head()"
   ]
  },
  {
   "cell_type": "code",
   "execution_count": null,
   "id": "ac8c989d",
   "metadata": {
    "id": "bPud0R2yIasN"
   },
   "outputs": [],
   "source": [
    "# new_train_data를 train_data에 덮어 씌우기\n",
    "train_data = new_train_data"
   ]
  },
  {
   "cell_type": "markdown",
   "id": "807b1b11",
   "metadata": {
    "id": "62e949ca"
   },
   "source": [
    "### 텍스트 전처리"
   ]
  },
  {
   "cell_type": "markdown",
   "id": "41131261",
   "metadata": {},
   "source": [
    "#### 한글 외 문자 삭제\n",
    "한글, '?', '!', '.', '.', 공백 유지"
   ]
  },
  {
   "cell_type": "code",
   "execution_count": null,
   "id": "6bf399ed",
   "metadata": {},
   "outputs": [],
   "source": [
    "# 전처리 함수\n",
    "def preprocess_sentence(sentence): \n",
    "    # \\n을 공백으로 바꾸기\n",
    "    sentence = re.sub(\"\\n\", \" \", sentence)\n",
    "    \n",
    "    # (ㄱ-ㅎ, ㅏ-ㅣ, \".\", \"?\", \"!\", \",\", ' ')를 제외한 모든 문자를 없애기\n",
    "    sentence = re.sub(\"[^ㄱ-ㅣ가-힣.?!, ]\", \"\", sentence)\n",
    "    \n",
    "    # 단어와 구두점(punctuation) 사이에 공백 추가\n",
    "    sentence = re.sub(r\"([?.!,])\", r\" \\1 \", sentence)\n",
    "    \n",
    "    return sentence"
   ]
  },
  {
   "cell_type": "code",
   "execution_count": null,
   "id": "b992bac6",
   "metadata": {},
   "outputs": [],
   "source": [
    "# 전처리 데이터 새로운 column에 저장\n",
    "train_data['preprocessed'] = train_data['conversation'].apply(preprocess_sentence)\n",
    "train_data['preprocessed']"
   ]
  },
  {
   "cell_type": "code",
   "execution_count": null,
   "id": "fbc52dab",
   "metadata": {},
   "outputs": [],
   "source": [
    "# 기존 'conversation' column 전처리한 데이터로 바꾸기\n",
    "train_data['conversation'] = train_data['preprocessed']\n",
    "train_data.drop('preprocessed', axis=1)"
   ]
  },
  {
   "cell_type": "markdown",
   "id": "b94d2b8f",
   "metadata": {},
   "source": [
    "#### 불용어 삭제\n",
    "[불용어 리스트 출처](https://www.ranks.nl/stopwords/korean)"
   ]
  },
  {
   "cell_type": "code",
   "execution_count": null,
   "id": "95529206",
   "metadata": {},
   "outputs": [],
   "source": [
    "# 불용어 리스트 불러오기\n",
    "stopwords_path = \"ko_stopwords.txt\"\n",
    "with open(stopwords_path, 'r', encoding='utf-8') as file:\n",
    "    stopwords = file.read().splitlines()"
   ]
  },
  {
   "cell_type": "markdown",
   "id": "cb8ac592",
   "metadata": {
    "id": "f2e6fa92"
   },
   "source": [
    "#### 토큰화"
   ]
  },
  {
   "cell_type": "markdown",
   "id": "bc89cabb",
   "metadata": {},
   "source": [
    "```!pip install sentencepiece```  \n",
    "```!pip install konlpy```"
   ]
  },
  {
   "cell_type": "code",
   "execution_count": null,
   "id": "05ce83b5",
   "metadata": {},
   "outputs": [],
   "source": [
    "# 단어사전 크기 20000으로 제한\n",
    "VOCAB_SIZE=20000"
   ]
  },
  {
   "cell_type": "markdown",
   "id": "c55e570e",
   "metadata": {},
   "source": [
    "토크나이저 선정\n",
    "1. SentencePiece  \n",
    "[ref](https://wikidocs.net/86657)"
   ]
  },
  {
   "cell_type": "code",
   "execution_count": null,
   "id": "98581f43",
   "metadata": {},
   "outputs": [],
   "source": [
    "# sentencePiece의 입력으로 사용하기 위해서 데이터를 txt 파일로 저장\n",
    "with open('conversations.txt', 'w', encoding='utf8') as f:\n",
    "    f.write('\\n'.join(train_data['conversation']))\n",
    "\n",
    "spm.SentencePieceTrainer.Train(\n",
    "    '--input=conversations.txt ' + \n",
    "    '--model_prefix=dktc ' +\n",
    "    f'--vocab_size={VOCAB_SIZE} ' +\n",
    "    '--model_type=bpe ' + \n",
    "    '--pad_id=0 --pad_piece=<pad> ' +\n",
    "    '--unk_id=1 --unk_piece=<unk> ' +\n",
    "    '--bos_id=2 --bos_piece=<sos> ' +\n",
    "    '--eos_id=3 --eos_piece=<eos> ' + \n",
    "    '--max_sentence_length=9999'\n",
    ")"
   ]
  },
  {
   "cell_type": "code",
   "execution_count": null,
   "id": "f59ca654",
   "metadata": {},
   "outputs": [],
   "source": [
    "word_index_df = pd.read_csv('dktc.vocab', sep='\\t', header=None, quoting=csv.QUOTE_NONE)\n",
    "word_index_df.columns=['words', 'idx']\n",
    "word_index_df['idx'] = np.arrange(len(word_index_df))\n",
    "word_to_index = word_index_df.to_dict()"
   ]
  },
  {
   "cell_type": "code",
   "execution_count": null,
   "id": "a58e7573",
   "metadata": {},
   "outputs": [],
   "source": [
    "word_to_index"
   ]
  },
  {
   "cell_type": "markdown",
   "id": "92481f42",
   "metadata": {},
   "source": [
    "2. konlpy  \n",
    "1) Okt  \n",
    "2) Mecab"
   ]
  },
  {
   "cell_type": "code",
   "execution_count": null,
   "id": "b42f074b",
   "metadata": {},
   "outputs": [],
   "source": [
    "# Okt로 토큰화\n",
    "tokenizer=Okt()\n",
    "#tokenizer=Mecab()\n",
    "\n",
    "def tokenize(conversation, tokenizer):\n",
    "    return [token for token in tokenizer.morphs(conversation) if token not in stopwords]\n",
    "\n",
    "# 각 conversation을 토큰화하여 새로운 열 'tokenized'에 저장\n",
    "train_data['tokenized'] = train_data['conversation'].apply(lambda x: tokenize(x, tokenizer))"
   ]
  },
  {
   "cell_type": "markdown",
   "id": "39925326",
   "metadata": {},
   "source": [
    "#### 시작 토큰, 종료 토큰 추가"
   ]
  },
  {
   "cell_type": "code",
   "execution_count": null,
   "id": "26f1c1f0",
   "metadata": {},
   "outputs": [],
   "source": [
    "special_tokens = ['<pad>', '<unk>', '<sos>', '<eos>']\n",
    "\n",
    "# 시작 토큰과 종료 토큰을 추가하는 함수 정의\n",
    "def add_special_tokens(tokens):\n",
    "    return [special_tokens[2]] + tokens + [special_tokens[3]]\n",
    "\n",
    "# 'tokenized' 열에 함수 적용하여 시작 토큰과 종료 토큰 추가\n",
    "train_data['tokenized'] = train_data['tokenized'].apply(add_special_tokens)"
   ]
  },
  {
   "cell_type": "code",
   "execution_count": null,
   "id": "bc745293",
   "metadata": {},
   "outputs": [],
   "source": [
    "# 토큰화된 단어 확인\n",
    "train_data['tokenized']"
   ]
  },
  {
   "cell_type": "markdown",
   "id": "ca35f745",
   "metadata": {},
   "source": [
    "#### 단어사전 생성"
   ]
  },
  {
   "cell_type": "code",
   "execution_count": null,
   "id": "f5142055",
   "metadata": {},
   "outputs": [],
   "source": [
    "# 'tokenized' 열의 모든 토큰을 모아 등장 빈도 계산\n",
    "all_tokens = [token for tokens in train_data['tokenized'] for token in tokens]\n",
    "counter = Counter(all_tokens)\n",
    "# 가장 많이 등장하는 단어 vocab_size 개수만큼 남기기\n",
    "counter = counter.most_common(VOCAB_SIZE)"
   ]
  },
  {
   "cell_type": "code",
   "execution_count": null,
   "id": "7acdbb0e",
   "metadata": {},
   "outputs": [],
   "source": [
    "# vocabulary 파일로 저장\n",
    "word_to_index_path = './vocab.txt'\n",
    "\n",
    "def save_word_index(counter):\n",
    "    with open(word_to_index_path, 'w') as f:\n",
    "        for idx, (word, _) in enumerate(counter):\n",
    "            line = f\"{word}: {idx}\\n\"\n",
    "            f.write(line)\n",
    "            \n",
    "#save_word_index(counter)"
   ]
  },
  {
   "cell_type": "code",
   "execution_count": null,
   "id": "0a1530f2",
   "metadata": {},
   "outputs": [],
   "source": [
    "word_to_index = {token: idx for idx, token in enumerate(special_tokens[:2])}\n",
    "word_to_index.update({token: idx + len(special_tokens[:2]) for idx, (token, _) in enumerate(counter)})"
   ]
  },
  {
   "cell_type": "code",
   "execution_count": null,
   "id": "2973c325",
   "metadata": {},
   "outputs": [],
   "source": [
    "word_to_index"
   ]
  },
  {
   "cell_type": "markdown",
   "id": "34274f19",
   "metadata": {},
   "source": [
    "#### 정수인코딩"
   ]
  },
  {
   "cell_type": "code",
   "execution_count": null,
   "id": "9f8bc9b8",
   "metadata": {},
   "outputs": [],
   "source": [
    "# 'tokenized' 열의 데이터를 정수 인코딩\n",
    "def encode_tokens(tokens, word_to_index):\n",
    "    unk_index = word_to_index['<unk>']\n",
    "    return [word_to_index.get(token, unk_index) for token in tokens]\n",
    "\n",
    "train_data['encoded'] = train_data['tokenized'].apply(lambda x: encode_tokens(x, word_to_index))"
   ]
  },
  {
   "cell_type": "code",
   "execution_count": null,
   "id": "62f32710",
   "metadata": {},
   "outputs": [],
   "source": [
    "train_data.sample(3)"
   ]
  },
  {
   "cell_type": "markdown",
   "id": "37b1c307",
   "metadata": {
    "id": "e970c394"
   },
   "source": [
    "## 전처리 후 분석"
   ]
  },
  {
   "cell_type": "markdown",
   "id": "9cd462ea",
   "metadata": {},
   "source": [
    "#### 토큰화된 데이터 길이 확인"
   ]
  },
  {
   "cell_type": "code",
   "execution_count": null,
   "id": "af7ea319",
   "metadata": {},
   "outputs": [],
   "source": [
    "# 'encoded' 열의 각 리스트의 길이 계산\n",
    "lengths = train_data['encoded'].apply(len)\n",
    "\n",
    "print(f\"최대 길이: {lengths.max()}\")\n",
    "print(f\"최소 길이: {lengths.min()}\")\n",
    "print(f\"평균 길이: {lengths.mean()}\")\n",
    "print(f\"표준편차: {lengths.std()}\")\n",
    "\n",
    "# 길이 분포 시각화\n",
    "plt.hist(lengths, bins=50, color='skyblue')\n",
    "plt.show()"
   ]
  },
  {
   "cell_type": "markdown",
   "id": "8bd805f8",
   "metadata": {},
   "source": [
    "#### 패딩 적용"
   ]
  },
  {
   "cell_type": "code",
   "execution_count": null,
   "id": "f622c46c",
   "metadata": {},
   "outputs": [],
   "source": [
    "# 대화 최대 길이 150으로 설정\n",
    "MAX_LENGTH = 150"
   ]
  },
  {
   "cell_type": "code",
   "execution_count": null,
   "id": "020fb70c",
   "metadata": {},
   "outputs": [],
   "source": [
    "train_data['encoded'] = pad_sequences(train_data['encoded'], maxlen=MAX_LENGTH, padding='post', truncating='post')"
   ]
  },
  {
   "cell_type": "markdown",
   "id": "94596bf7",
   "metadata": {
    "id": "0b636ead"
   },
   "source": [
    "## 데이터 분할"
   ]
  },
  {
   "cell_type": "code",
   "execution_count": null,
   "id": "b859dd33",
   "metadata": {},
   "outputs": [],
   "source": [
    "X = train_data['encoded']\n",
    "y = train_data['type']\n",
    "\n",
    "X_train, X_val, y_train, y_val = train_test_split(X, y, test_size=0.2, shuffle=True, random_state=42)\n",
    "X_val, X_test, y_val, y_test = train_test_split(X_val, y_val, test_size=0.5, shuffle=True, random_state=42)\n",
    "\n",
    "print('훈련 데이터의 개수 :', len(X_train))\n",
    "print('훈련 레이블의 개수 :', len(y_train))\n",
    "print('검증 데이터의 개수 :', len(X_val))\n",
    "print('검증 레이블의 개수 :', len(y_val))\n",
    "print('테스트 데이터의 개수 :', len(X_test))\n",
    "print('테스트 레이블의 개수 :', len(y_test))"
   ]
  },
  {
   "cell_type": "markdown",
   "id": "88da97e6",
   "metadata": {},
   "source": [
    "# 모델링"
   ]
  },
  {
   "cell_type": "markdown",
   "id": "c43c19c5",
   "metadata": {},
   "source": [
    "```!pip install wandb==0.16.0```"
   ]
  },
  {
   "cell_type": "code",
   "execution_count": null,
   "id": "be18e6dd",
   "metadata": {},
   "outputs": [],
   "source": [
    "import wandb\n",
    "from wandb.keras import WandbCallback\n",
    "\n",
    "wandb.login(key = '809618c39f10bc0019fd6fd710cb28c698c30197')"
   ]
  },
  {
   "cell_type": "code",
   "execution_count": null,
   "id": "04a5741f",
   "metadata": {},
   "outputs": [],
   "source": [
    "sweep_config = {\n",
    "    \"name\": \"sweep_test_nlp\",\n",
    "    \"metric\": {\"name\": \"val_loss\", \"goal\": \"minimize\"},\n",
    "    \"method\": \"random\",\n",
    "    \"parameters\": {\n",
    "        \"learning_rate\" : {\n",
    "            \"min\" : 0.001,\n",
    "            \"max\" : 0.1\n",
    "            },\n",
    "        \"epoch\" : {\n",
    "            \"distribution\" : \"int_uniform\",\n",
    "            \"min\" : 5,\n",
    "            \"max\" : 10\n",
    "            }\n",
    "                    \n",
    "        }\n",
    "    }"
   ]
  },
  {
   "cell_type": "code",
   "execution_count": null,
   "id": "82663388",
   "metadata": {},
   "outputs": [],
   "source": [
    "from sklearn.metrics import f1_score\n",
    "\n",
    "def train():\n",
    "    default_config = {\n",
    "        \"vocab\" : 20000,\n",
    "        \"embeddings\" : 64,\n",
    "        \"units_1\" : 256,\n",
    "        \"units_2\" : 256,\n",
    "        \"units_3\" : 1024,\n",
    "        \"class_num\" : 5,\n",
    "        \"learning_rate\" : 0.005,\n",
    "        \"optimizer\" : \"adam\",\n",
    "        \"loss\" : \"sparse_categorical_crossentropy\",\n",
    "        \"metrics\" : [\"accuracy\"],\n",
    "        \"epoch\" : 5,\n",
    "        \"batch_size\" : 32\n",
    "    }\n",
    "\n",
    "    wandb.init(config = default_config)\n",
    "    config = wandb.config\n",
    "\n",
    "    # Model\n",
    "\n",
    "    model=keras.models.Sequential()\n",
    "    model.add(keras.layers.Embedding(config.vocab, config.embeddings))\n",
    "    model.add(keras.layers.GRU(units = config.units_1, return_sequences = True))\n",
    "    model.add(keras.layers.GRU(units = config.units_2))\n",
    "    model.add(keras.layers.Dense(config.units_3, activation='relu'))\n",
    "    model.add(keras.layers.Dense(config.class_num, activation='softmax'))\n",
    "\n",
    "    # 머신 러닝 학습때 여러가지 optimzier를 사용할 경우나 learning rate를 조절할 경우에는 아래와 같은 형태의 코드를 응용합니다.\n",
    "\n",
    "    if config.optimizer == 'adam':\n",
    "        optimizer = keras.optimizers.Adam(learning_rate = config.learning_rate)\n",
    "    \n",
    "    model.compile(optimizer = optimizer,\n",
    "                  loss = config.loss,\n",
    "                  metrics = config.metrics)\n",
    "\n",
    "    # WandbCallback 함수는 후술합니다.\n",
    "    \n",
    "    model.fit(X_train, y_train,\n",
    "              epochs = config.epoch,\n",
    "              batch_size = config.batch_size,\n",
    "              validation_data = (X_val, y_val),\n",
    "              callbacks = [WandbCallback()])\n",
    "    \n",
    "    test_loss, test_accuracy, test_fs = model.evaluate(X_test, y_test, verbose=2)\n",
    "\n",
    "    y_pred = model.predict(X_test)\n",
    "    y_pred_classes = tf.argmax(y_pred, axis=1)\n",
    "    test_f1 = f1_score(y_test, y_pred_classes, average='weighted')\n",
    "    \n",
    "    # wandb.log 함수 안에 기록하고 싶은 정보를 담습니다.\n",
    "    \n",
    "    wandb.log({\"Test Accuracy Rate: \" : round(test_accuracy * 100, 2),\n",
    "               \"Test F1 Score\": round(test_f1 * 100, 2)})"
   ]
  },
  {
   "cell_type": "code",
   "execution_count": null,
   "id": "dc423633",
   "metadata": {
    "scrolled": false
   },
   "outputs": [],
   "source": [
    "# entity와 project에 본인의 아이디와 프로젝트명을 입력하세요\n",
    "\n",
    "sweep_id = wandb.sweep(sweep_config,\n",
    "                       entity = '4-rldur0',\n",
    "                       project = 'test')\n",
    "\n",
    "# run the sweep\n",
    "wandb.agent(sweep_id,\n",
    "            function=train,\n",
    "            count=10)"
   ]
  }
 ],
 "metadata": {
  "colab": {
   "provenance": []
  },
  "kernelspec": {
   "display_name": "Python 3 (ipykernel)",
   "language": "python",
   "name": "python3"
  },
  "language_info": {
   "codemirror_mode": {
    "name": "ipython",
    "version": 3
   },
   "file_extension": ".py",
   "mimetype": "text/x-python",
   "name": "python",
   "nbconvert_exporter": "python",
   "pygments_lexer": "ipython3",
   "version": "3.9.7"
  }
 },
 "nbformat": 4,
 "nbformat_minor": 5
}
