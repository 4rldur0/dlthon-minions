{
 "cells": [
  {
   "cell_type": "markdown",
   "id": "23a130d6",
   "metadata": {
    "id": "a63262ad"
   },
   "source": [
    "# 데이터"
   ]
  },
  {
   "cell_type": "code",
   "execution_count": 1,
   "id": "13c7de5c",
   "metadata": {
    "id": "cf7ba9f6"
   },
   "outputs": [],
   "source": [
    "# 라이브러리 불러오기\n",
    "import os\n",
    "import numpy as np\n",
    "import pandas as pd\n",
    "import matplotlib.pyplot as plt\n",
    "import seaborn as sns\n",
    "import tensorflow as tf\n",
    "from tensorflow import keras\n",
    "\n",
    "import re\n",
    "from collections import Counter\n",
    "import sentencepiece as spm\n",
    "from konlpy.tag import Okt\n",
    "from konlpy.tag import Mecab\n",
    "import csv \n",
    "from tensorflow.keras.preprocessing.sequence import pad_sequences\n",
    "from sklearn.model_selection import train_test_split"
   ]
  },
  {
   "cell_type": "code",
   "execution_count": 2,
   "id": "a46cbf80",
   "metadata": {
    "id": "SlAOhRs09rt2"
   },
   "outputs": [],
   "source": [
    "# 한글 폰트에 문제가 생겼을 때\n",
    "\n",
    "# 한글 폰트 설치\n",
    "!apt-get update -qq\n",
    "!apt-get install -qq fonts-nanum\n",
    "\n",
    "# 설치한 폰트를 matplotlib에서 사용할 수 있도록 설정\n",
    "import matplotlib.font_manager as fm\n",
    "import matplotlib.pyplot as plt\n",
    "\n",
    "# 나눔 폰트 경로 설정\n",
    "font_path = '/usr/share/fonts/truetype/nanum/NanumGothic.ttf'\n",
    "\n",
    "# 폰트 매니저에 폰트 추가\n",
    "fm.fontManager.addfont(font_path)\n",
    "plt.rc('font', family='NanumGothic')  # 폰트 설정"
   ]
  },
  {
   "cell_type": "markdown",
   "id": "6784a003",
   "metadata": {
    "id": "482d4066"
   },
   "source": [
    "## 데이터 업로드"
   ]
  },
  {
   "cell_type": "markdown",
   "id": "83630ca4",
   "metadata": {
    "id": "7ae4fc0d"
   },
   "source": [
    "#### 학습 데이터 불러오기\n",
    "\n",
    "프롬프트로 생성된 '일반 대화' 합성 데이터와 원본 데이터가 합쳐진 파일"
   ]
  },
  {
   "cell_type": "code",
   "execution_count": 3,
   "id": "9100dfdb",
   "metadata": {
    "id": "b13d6792"
   },
   "outputs": [],
   "source": [
    "train_data_path =\"../data/conversations.csv\"\n",
    "train_data = pd.read_csv(train_data_path)\n",
    "# 원본 데이터 저장\n",
    "origin_data = train_data"
   ]
  },
  {
   "cell_type": "code",
   "execution_count": 4,
   "id": "3a5e1d75",
   "metadata": {
    "colab": {
     "base_uri": "https://localhost:8080/",
     "height": 362
    },
    "id": "960aefbc",
    "outputId": "0a63c37c-ea2e-465c-830f-f36405289505"
   },
   "outputs": [
    {
     "data": {
      "text/html": [
       "<div>\n",
       "<style scoped>\n",
       "    .dataframe tbody tr th:only-of-type {\n",
       "        vertical-align: middle;\n",
       "    }\n",
       "\n",
       "    .dataframe tbody tr th {\n",
       "        vertical-align: top;\n",
       "    }\n",
       "\n",
       "    .dataframe thead th {\n",
       "        text-align: right;\n",
       "    }\n",
       "</style>\n",
       "<table border=\"1\" class=\"dataframe\">\n",
       "  <thead>\n",
       "    <tr style=\"text-align: right;\">\n",
       "      <th></th>\n",
       "      <th>idx</th>\n",
       "      <th>class</th>\n",
       "      <th>conversation</th>\n",
       "    </tr>\n",
       "  </thead>\n",
       "  <tbody>\n",
       "    <tr>\n",
       "      <th>322</th>\n",
       "      <td>322</td>\n",
       "      <td>기타 괴롭힘 대화</td>\n",
       "      <td>원숭이 엉덩이는 빨개 빨가면 사과 사과는 맛있어 맛있으면 바나나 야 홍당무 사과는 ...</td>\n",
       "    </tr>\n",
       "    <tr>\n",
       "      <th>3994</th>\n",
       "      <td>3994</td>\n",
       "      <td>갈취 대화</td>\n",
       "      <td>야 꼬마\\n네? 저요? \\n그래 너\\n왜. 왜요? \\n왜요? 말 다 했냐 지금. 나...</td>\n",
       "    </tr>\n",
       "    <tr>\n",
       "      <th>404</th>\n",
       "      <td>404</td>\n",
       "      <td>협박 대화</td>\n",
       "      <td>지금 핵무기발사 비밀번호를 말해라\\n나는 절대 핵무기발사 비밀번호를 알려줄수 없다\\...</td>\n",
       "    </tr>\n",
       "    <tr>\n",
       "      <th>351</th>\n",
       "      <td>351</td>\n",
       "      <td>직장 내 괴롭힘 대화</td>\n",
       "      <td>김대리 이따가 퇴근 후에 뭐 일 있나?\\n할 일이 조금 있기는 합니다\\n그건 다음으...</td>\n",
       "    </tr>\n",
       "    <tr>\n",
       "      <th>4360</th>\n",
       "      <td>4360</td>\n",
       "      <td>일반 대화</td>\n",
       "      <td>주말에 주로 뭐 해?\\n집에서 쉬거나 산책해.\\n주말에 주로 뭐 해?\\n집에서 쉬거...</td>\n",
       "    </tr>\n",
       "    <tr>\n",
       "      <th>372</th>\n",
       "      <td>372</td>\n",
       "      <td>갈취 대화</td>\n",
       "      <td>조용히 해. 소리 지르면 죽는다.\\n누.누구.세요? 왜 이러세요.\\n닥치고 당장 뒤...</td>\n",
       "    </tr>\n",
       "    <tr>\n",
       "      <th>4795</th>\n",
       "      <td>4795</td>\n",
       "      <td>직장 내 괴롭힘 대화</td>\n",
       "      <td>요즘 신입은 왜들이래?\\n네?\\n선배 어려워하지도 않고 요즘은 다들 말대답이나 하고...</td>\n",
       "    </tr>\n",
       "    <tr>\n",
       "      <th>3699</th>\n",
       "      <td>3699</td>\n",
       "      <td>직장 내 괴롭힘 대화</td>\n",
       "      <td>이게 보고서라고 들고온거야?\\n말씀해주신 내용은 다 적었습니다. 수정할게 있으시면 ...</td>\n",
       "    </tr>\n",
       "    <tr>\n",
       "      <th>552</th>\n",
       "      <td>552</td>\n",
       "      <td>협박 대화</td>\n",
       "      <td>지금 남자친구랑 헤어지고 나한테 돌아와.\\n내가 왜? 싫어. 지금 남자친구랑 안헤어...</td>\n",
       "    </tr>\n",
       "    <tr>\n",
       "      <th>1631</th>\n",
       "      <td>1631</td>\n",
       "      <td>직장 내 괴롭힘 대화</td>\n",
       "      <td>이거 급한거니까 최대한 빨리 처리해줘\\n아.네.\\n이제 퇴근시간이 되어서 저 퇴근해...</td>\n",
       "    </tr>\n",
       "  </tbody>\n",
       "</table>\n",
       "</div>"
      ],
      "text/plain": [
       "       idx        class                                       conversation\n",
       "322    322    기타 괴롭힘 대화  원숭이 엉덩이는 빨개 빨가면 사과 사과는 맛있어 맛있으면 바나나 야 홍당무 사과는 ...\n",
       "3994  3994        갈취 대화  야 꼬마\\n네? 저요? \\n그래 너\\n왜. 왜요? \\n왜요? 말 다 했냐 지금. 나...\n",
       "404    404        협박 대화  지금 핵무기발사 비밀번호를 말해라\\n나는 절대 핵무기발사 비밀번호를 알려줄수 없다\\...\n",
       "351    351  직장 내 괴롭힘 대화  김대리 이따가 퇴근 후에 뭐 일 있나?\\n할 일이 조금 있기는 합니다\\n그건 다음으...\n",
       "4360  4360        일반 대화  주말에 주로 뭐 해?\\n집에서 쉬거나 산책해.\\n주말에 주로 뭐 해?\\n집에서 쉬거...\n",
       "372    372        갈취 대화  조용히 해. 소리 지르면 죽는다.\\n누.누구.세요? 왜 이러세요.\\n닥치고 당장 뒤...\n",
       "4795  4795  직장 내 괴롭힘 대화  요즘 신입은 왜들이래?\\n네?\\n선배 어려워하지도 않고 요즘은 다들 말대답이나 하고...\n",
       "3699  3699  직장 내 괴롭힘 대화  이게 보고서라고 들고온거야?\\n말씀해주신 내용은 다 적었습니다. 수정할게 있으시면 ...\n",
       "552    552        협박 대화  지금 남자친구랑 헤어지고 나한테 돌아와.\\n내가 왜? 싫어. 지금 남자친구랑 안헤어...\n",
       "1631  1631  직장 내 괴롭힘 대화  이거 급한거니까 최대한 빨리 처리해줘\\n아.네.\\n이제 퇴근시간이 되어서 저 퇴근해..."
      ]
     },
     "execution_count": 4,
     "metadata": {},
     "output_type": "execute_result"
    }
   ],
   "source": [
    "train_data.sample(10)"
   ]
  },
  {
   "cell_type": "code",
   "execution_count": 5,
   "id": "ac4c2513",
   "metadata": {
    "colab": {
     "base_uri": "https://localhost:8080/"
    },
    "id": "662ed8cb",
    "outputId": "bf7af049-16d1-411f-e51b-7e2388e895c9"
   },
   "outputs": [
    {
     "name": "stdout",
     "output_type": "stream",
     "text": [
      "<class 'pandas.core.frame.DataFrame'>\n",
      "RangeIndex: 4950 entries, 0 to 4949\n",
      "Data columns (total 3 columns):\n",
      " #   Column        Non-Null Count  Dtype \n",
      "---  ------        --------------  ----- \n",
      " 0   idx           4950 non-null   int64 \n",
      " 1   class         4950 non-null   object\n",
      " 2   conversation  4950 non-null   object\n",
      "dtypes: int64(1), object(2)\n",
      "memory usage: 116.1+ KB\n"
     ]
    }
   ],
   "source": [
    "train_data.info()"
   ]
  },
  {
   "cell_type": "markdown",
   "id": "7d4cd5ab",
   "metadata": {
    "id": "48b08735"
   },
   "source": [
    "## EDA\n",
    "### 문장 기준 분석"
   ]
  },
  {
   "cell_type": "code",
   "execution_count": 6,
   "id": "d60a450a",
   "metadata": {
    "colab": {
     "base_uri": "https://localhost:8080/"
    },
    "id": "6ilpz-Cj86KD",
    "outputId": "b72bbfd4-de19-4fe5-d443-2142e78dc73f"
   },
   "outputs": [
    {
     "data": {
      "text/plain": [
       "class\n",
       "갈취 대화           981\n",
       "기타 괴롭힘 대화      1094\n",
       "일반 대화          1000\n",
       "직장 내 괴롭힘 대화     979\n",
       "협박 대화           896\n",
       "dtype: int64"
      ]
     },
     "execution_count": 6,
     "metadata": {},
     "output_type": "execute_result"
    }
   ],
   "source": [
    "# 클래스 별 대화 확인해보기\n",
    "class_counts = train_data.groupby('class').size()\n",
    "class_counts"
   ]
  },
  {
   "cell_type": "code",
   "execution_count": 7,
   "id": "5d2cdb2a",
   "metadata": {
    "id": "kZRNBoKk8uLo"
   },
   "outputs": [],
   "source": [
    "# 대화(X)와 레이블(y)로 나누기\n",
    "X_train = train_data['conversation']\n",
    "y_train = train_data['class']"
   ]
  },
  {
   "cell_type": "markdown",
   "id": "6cc713d1",
   "metadata": {
    "id": "50394866"
   },
   "source": [
    "#### 길이 분포 확인"
   ]
  },
  {
   "cell_type": "code",
   "execution_count": 8,
   "id": "c2188f6e",
   "metadata": {
    "colab": {
     "base_uri": "https://localhost:8080/"
    },
    "id": "789c8471",
    "outputId": "edcddeab-5d34-48f1-d839-4bbf3a1af1f1"
   },
   "outputs": [
    {
     "name": "stdout",
     "output_type": "stream",
     "text": [
      "Data Information\n",
      "--------------------------------------------------\n",
      "Conversations : (4950,)\n",
      "Label : (4950,)\n",
      "Label Type: {'협박 대화', '일반 대화', '기타 괴롭힘 대화', '갈취 대화', '직장 내 괴롭힘 대화'}\n",
      "--------------------------------------------------\n",
      "The number of classes : 4\n",
      "--------------------------------------------------\n",
      "Max Length :874\n",
      "Average Length :232.0210101010101\n"
     ]
    }
   ],
   "source": [
    "# 길이 분포 확인하기\n",
    "print('Data Information')\n",
    "print('-'*50)\n",
    "print('Conversations :',X_train.shape)\n",
    "print('Label :',y_train.shape)\n",
    "print('Label Type:', set(y_train))\n",
    "print('-'*50)\n",
    "num_classes = 4\n",
    "print('The number of classes : {}'.format(num_classes))\n",
    "print('-'*50)\n",
    "print('Max Length :{}'.format(max(len(l) for l in X_train)))\n",
    "print('Average Length :{}'.format(sum(map(len, X_train))/len(X_train)))"
   ]
  },
  {
   "cell_type": "markdown",
   "id": "dec8839a",
   "metadata": {
    "id": "e7831dd6"
   },
   "source": [
    "#### 클래스 별 분포 확인"
   ]
  },
  {
   "cell_type": "code",
   "execution_count": 9,
   "id": "e1aa5b17",
   "metadata": {
    "colab": {
     "base_uri": "https://localhost:8080/",
     "height": 456
    },
    "id": "99b138fb",
    "outputId": "99861275-04b9-473b-dc9c-93adea1ccc65"
   },
   "outputs": [
    {
     "data": {
      "image/png": "[encoded data removed]",
      "text/plain": [
       "<Figure size 1080x360 with 2 Axes>"
      ]
     },
     "metadata": {
      "needs_background": "light"
     },
     "output_type": "display_data"
    }
   ],
   "source": [
    "# 두 서브플롯 생성하기\n",
    "fig, axes = plt.subplots(nrows=1, ncols=2, figsize=(15, 5))\n",
    "\n",
    "# 샘플 길이의 히스토그램\n",
    "axes[0].hist([len(s) for s in X_train], bins=50, color='skyblue')\n",
    "axes[0].set_xlabel('Length of samples')\n",
    "axes[0].set_ylabel('Number of samples')\n",
    "axes[0].set_title('Sample Length Distribution')\n",
    "\n",
    "# 클래스별 샘플 수 플롯\n",
    "sns.countplot(x=y_train, ax=axes[1], palette='pastel')\n",
    "axes[1].set_title('Class Distribution')\n",
    "\n",
    "# 레이아웃 조정하기\n",
    "plt.tight_layout()\n",
    "\n",
    "# 플롯 표시하기\n",
    "plt.show()"
   ]
  },
  {
   "cell_type": "markdown",
   "id": "afa8164e",
   "metadata": {
    "id": "083e9cfa"
   },
   "source": [
    "#### 클래스 별 길이 분포 확인"
   ]
  },
  {
   "cell_type": "code",
   "execution_count": 10,
   "id": "40c1ccb4",
   "metadata": {
    "colab": {
     "base_uri": "https://localhost:8080/",
     "height": 707
    },
    "id": "3aea02f8",
    "outputId": "7e8737ff-8668-4128-ffe2-2f19119cf183"
   },
   "outputs": [
    {
     "data": {
      "image/png": "[encoded data removed]",
      "text/plain": [
       "<Figure size 1080x720 with 4 Axes>"
      ]
     },
     "metadata": {
      "needs_background": "light"
     },
     "output_type": "display_data"
    }
   ],
   "source": [
    "# 서브플롯 생성하기\n",
    "fig, axes = plt.subplots(nrows=2, ncols=2, figsize=(15, 10))\n",
    "\n",
    "# 샘플 길이의 히스토그램 그리기\n",
    "\n",
    "# 협박 대화\n",
    "axes[0][0].hist([len(s) for s in train_data['conversation'][train_data['class']=='협박 대화']],\n",
    "                bins=50, color='skyblue')\n",
    "axes[0][0].set_xlabel('Length of samples')\n",
    "axes[0][0].set_ylabel('Number of samples')\n",
    "axes[0][0].set_title('협박 대화')\n",
    "\n",
    "# 갈취 대화\n",
    "axes[0][1].hist([len(s) for s in train_data['conversation'][train_data['class']=='갈취 대화']],\n",
    "                bins=50, color='salmon')\n",
    "axes[0][1].set_xlabel('Length of samples')\n",
    "axes[0][1].set_ylabel('Number of samples')\n",
    "axes[0][1].set_title('갈취 대화')\n",
    "\n",
    "# 직장 내 괴롭힘 대화\n",
    "axes[1][0].hist([len(s) for s in train_data['conversation'][train_data['class']=='직장 내 괴롭힘 대화']],\n",
    "                bins=50, color='lightgreen')\n",
    "axes[1][0].set_xlabel('Length of samples')\n",
    "axes[1][0].set_ylabel('Number of samples')\n",
    "axes[1][0].set_title('직장 내 괴롭힘 대화')\n",
    "\n",
    "# 기타 괴롭힘 대화\n",
    "axes[1][1].hist([len(s) for s in train_data['conversation'][train_data['class']=='기타 괴롭힘 대화']],\n",
    "                bins=50, color='orchid')\n",
    "axes[1][1].set_xlabel('Length of samples')\n",
    "axes[1][1].set_ylabel('Number of samples')\n",
    "axes[1][1].set_title('기타 괴롭힘 대화')\n",
    "\n",
    "plt.subplots_adjust(wspace=0.3, hspace=0.5)\n",
    "plt.show()"
   ]
  },
  {
   "cell_type": "markdown",
   "id": "9082c463",
   "metadata": {},
   "source": [
    "### 단어 기준 분석\n",
    "Okt 토크나이저로 형태소 분석"
   ]
  },
  {
   "cell_type": "code",
   "execution_count": 11,
   "id": "98ffd4da",
   "metadata": {},
   "outputs": [],
   "source": [
    "# Okt 토크나이저 활용하여 단어 추출\n",
    "okt=Okt()"
   ]
  },
  {
   "cell_type": "markdown",
   "id": "9dc9e4e8",
   "metadata": {},
   "source": [
    "형태소 추출 함수 정의"
   ]
  },
  {
   "cell_type": "code",
   "execution_count": 12,
   "id": "1e028e68",
   "metadata": {},
   "outputs": [],
   "source": [
    "# 텍스트 전처리 함수 정의하기 (특수문자 제거하기)\n",
    "# 전처리 없이 토큰화할 경우 상위 토큰들이 대부분 특수문자였음\n",
    "def preprocess_text(text):\n",
    "    # 특수문자를 공백으로 바꾸기\n",
    "    text = re.sub(r\"([\\n?.!,])\", \" \", text)\n",
    "    \n",
    "    # (ㄱ-ㅎ, ㅏ-ㅣ)를 제외한 모든 문자를 없애기\n",
    "    text = re.sub(\"[^ㄱ-ㅣ가-힣]\", \"\", text)\n",
    "    return text"
   ]
  },
  {
   "cell_type": "code",
   "execution_count": 13,
   "id": "e6d47620",
   "metadata": {},
   "outputs": [],
   "source": [
    "# 형태소를 추출하는 함수 정의하기\n",
    "def extract_morphs(conversations):\n",
    "    all_morphs = []\n",
    "    for conversation in conversations:\n",
    "        conversation = preprocess_text(conversation)\n",
    "        morphs = okt.morphs(conversation)\n",
    "        all_morphs.extend(morphs)\n",
    "    morph_counter = Counter(all_morphs)\n",
    "    return morph_counter"
   ]
  },
  {
   "cell_type": "code",
   "execution_count": 14,
   "id": "0104fc22",
   "metadata": {},
   "outputs": [],
   "source": [
    "# 명사를 추출하는 함수 정의하기\n",
    "def extract_nouns(conversations):\n",
    "    all_nouns = []\n",
    "    for conversation in conversations:\n",
    "        conversation = preprocess_text(conversation)\n",
    "        nouns = okt.nouns(conversation)\n",
    "        all_nouns.extend(nouns)\n",
    "    noun_counter = Counter(all_nouns)\n",
    "    return noun_counter"
   ]
  },
  {
   "cell_type": "code",
   "execution_count": 15,
   "id": "6813aba5",
   "metadata": {},
   "outputs": [],
   "source": [
    "# 상위 10개의 명사와 형태소를 시각화하는 함수\n",
    "def plot_top_10(noun_data, morph_data, title_noun, title_morph):\n",
    "    fig, axs = plt.subplots(1, 2, figsize=(14, 6))\n",
    "\n",
    "    # 상위 10개의 명사\n",
    "    top_10_nouns = noun_data.head(10)\n",
    "    axs[0].bar(top_10_nouns['Noun'], top_10_nouns['Frequency'], color='skyblue')\n",
    "    axs[0].set_title(title_noun)\n",
    "    axs[0].set_xlabel('Noun')\n",
    "    axs[0].set_ylabel('Frequency')\n",
    "    axs[0].tick_params(axis='x', rotation=45)\n",
    "\n",
    "    # 상위 10개의 형태소\n",
    "    top_10_morphs = morph_data.head(10)\n",
    "    axs[1].bar(top_10_morphs['Morph'], top_10_morphs['Frequency'], color='lightgreen')\n",
    "    axs[1].set_title(title_morph)\n",
    "    axs[1].set_xlabel('Morph')\n",
    "    axs[1].set_ylabel('Frequency')\n",
    "    axs[1].tick_params(axis='x', rotation=45)\n",
    "\n",
    "    plt.tight_layout()\n",
    "    plt.show()"
   ]
  },
  {
   "cell_type": "markdown",
   "id": "410ab892",
   "metadata": {},
   "source": [
    "#### 클래스 별 사용 단어 비교"
   ]
  },
  {
   "cell_type": "code",
   "execution_count": 16,
   "id": "d75de0f3",
   "metadata": {},
   "outputs": [],
   "source": [
    "# 대화 데이터를 각 클래스별로 나누기\n",
    "classes = ['협박 대화', '갈취 대화', '직장 내 괴롭힘 대화', '기타 괴롭힘 대화']\n",
    "class_data = {cls: train_data[train_data['class'] == cls] for cls in classes}"
   ]
  },
  {
   "cell_type": "code",
   "execution_count": null,
   "id": "6acc0f0b",
   "metadata": {},
   "outputs": [],
   "source": [
    "# 각 클래스별 명사와 형태소를 추출\n",
    "class_noun_counters = {cls: extract_nouns(data['conversation']) for cls, data in class_data.items()}\n",
    "class_morph_counters = {cls: extract_morphs(data['conversation']) for cls, data in class_data.items()}"
   ]
  },
  {
   "cell_type": "code",
   "execution_count": null,
   "id": "00281f74",
   "metadata": {},
   "outputs": [],
   "source": [
    "# 각 클래스별 명사와 형태소 통계를 데이터프레임으로 전환하기\n",
    "class_noun_stats = {cls: pd.DataFrame(counter.items(), columns=['Noun', 'Frequency']).sort_values(by='Frequency', ascending=False) for cls, counter in class_noun_counters.items()}\n",
    "class_morph_stats = {cls: pd.DataFrame(counter.items(), columns=['Morph', 'Frequency']).sort_values(by='Frequency', ascending=False) for cls, counter in class_morph_counters.items()}"
   ]
  },
  {
   "cell_type": "code",
   "execution_count": null,
   "id": "8948bdc7",
   "metadata": {},
   "outputs": [],
   "source": [
    "# 각 클래스별 상위 10개의 명사와 형태소를 2x2 서브플롯 형태로 시각화하기\n",
    "fig, axs = plt.subplots(2, 2, figsize=(20, 12))\n",
    "plot_titles = {\n",
    "    '협박 대화': ['Top 10 Nouns in Threatening Conversation', 'Top 10 Morphs in Threatening Conversation'],\n",
    "    '갈취 대화': ['Top 10 Nouns in Extortion Conversation', 'Top 10 Morphs in Extortion Conversation'],\n",
    "    '직장 내 괴롭힘 대화': ['Top 10 Nouns in Workplace Harassment', 'Top 10 Morphs in Workplace Harassment'],\n",
    "    '기타 괴롭힘 대화': ['Top 10 Nouns in Other Harassment', 'Top 10 Morphs in Other Harassment']\n",
    "}\n",
    "\n",
    "for i, (cls, noun_data) in enumerate(class_noun_stats.items()):\n",
    "    morph_data = class_morph_stats[cls]\n",
    "    plot_top_10(noun_data, morph_data, plot_titles[cls][0], plot_titles[cls][1])\n",
    "\n",
    "plt.tight_layout()\n",
    "plt.show()"
   ]
  },
  {
   "cell_type": "markdown",
   "id": "30e558b6",
   "metadata": {
    "id": "1e11f330"
   },
   "source": [
    "#### 화자 별 사용 단어 비교"
   ]
  },
  {
   "cell_type": "markdown",
   "id": "26a92f95",
   "metadata": {},
   "source": [
    "화자 A, B 두 명이라고 가정. 각각이 사용한 명사, 형태소 비교"
   ]
  },
  {
   "cell_type": "code",
   "execution_count": null,
   "id": "b5ae4b86",
   "metadata": {
    "id": "32O8COJDAIPQ"
   },
   "outputs": [],
   "source": [
    "# A와 B의 대화를 담을 리스트 초기화하기\n",
    "A_conversations = []\n",
    "B_conversations = []"
   ]
  },
  {
   "cell_type": "code",
   "execution_count": null,
   "id": "4cb9b2de",
   "metadata": {
    "id": "v6Lrkm1vCNYq"
   },
   "outputs": [],
   "source": [
    "# 대화 열을 반복하면서 각 대화를 분할하기\n",
    "for conversation in train_data['conversation']:\n",
    "    try:\n",
    "        lines = conversation.split('\\n')\n",
    "        # 홀수 줄은 A, 짝수 줄은 B에 추가하기\n",
    "        A_conv = '\\n'.join([line for idx, line in enumerate(lines) if idx % 2 == 0])\n",
    "        B_conv = '\\n'.join([line for idx, line in enumerate(lines) if idx % 2 == 1])\n",
    "        A_conversations.append(A_conv)\n",
    "        B_conversations.append(B_conv)\n",
    "    except ValueError:\n",
    "        # 대화가 정확히 두 부분으로 나뉘지 않는 경우 처리하기\n",
    "        A_conversations.append(conversation)\n",
    "        B_conversations.append('')"
   ]
  },
  {
   "cell_type": "code",
   "execution_count": null,
   "id": "4837edc9",
   "metadata": {
    "id": "DKZu5DEkCSdx"
   },
   "outputs": [],
   "source": [
    "# A와 B를 위한 새로운 데이터프레임 생성하기\n",
    "A_data = pd.DataFrame({'idx': train_data['idx'], 'class': train_data['class'], 'conversation': A_conversations})\n",
    "B_data = pd.DataFrame({'idx': train_data['idx'], 'class': train_data['class'], 'conversation': B_conversations})"
   ]
  },
  {
   "cell_type": "code",
   "execution_count": null,
   "id": "91bee83a",
   "metadata": {
    "colab": {
     "base_uri": "https://localhost:8080/"
    },
    "id": "CVyoSDyeCUMU",
    "outputId": "0ab01503-89ec-4b9e-c74c-cc7821fa31ac"
   },
   "outputs": [],
   "source": [
    "# A의 head() 출력하기\n",
    "print(\"A 데이터셋의 첫 5개 행:\")\n",
    "A_data.head()"
   ]
  },
  {
   "cell_type": "code",
   "execution_count": null,
   "id": "678a0853",
   "metadata": {
    "colab": {
     "base_uri": "https://localhost:8080/"
    },
    "id": "pd-QkkAPDnl4",
    "outputId": "dd539e0a-57f8-43e0-9de7-b03f3e2c49f5"
   },
   "outputs": [],
   "source": [
    "# B의 head() 출력하기\n",
    "print(\"B 데이터셋의 첫 5개 행:\")\n",
    "B_data.head()"
   ]
  },
  {
   "cell_type": "code",
   "execution_count": null,
   "id": "5ff17076",
   "metadata": {},
   "outputs": [],
   "source": [
    "# A와 B의 명사 추출하기\n",
    "A_noun_counters = {cls: extract_nouns(A_data['conversation']) for cls, data in class_data.items()}\n",
    "B_noun_counters = {cls: extract_nouns(B_data['conversation']) for cls, data in class_data.items()}"
   ]
  },
  {
   "cell_type": "code",
   "execution_count": null,
   "id": "2f5adafc",
   "metadata": {},
   "outputs": [],
   "source": [
    "# A와 B의 형태소 추출하기\n",
    "A_morph_counters = {cls: extract_morphs(A_data['conversation']) for cls, data in class_data.items()}\n",
    "B_morph_counters = {cls: extract_morphs(B_data['conversation']) for cls, data in class_data.items()}"
   ]
  },
  {
   "cell_type": "code",
   "execution_count": null,
   "id": "cbb557f5",
   "metadata": {},
   "outputs": [],
   "source": [
    "# 명사 통계를 데이터프레임으로 전환하기\n",
    "A_noun_stats = {cls: pd.DataFrame(A_noun_counters.items(), columns=['Noun', 'Frequency']).sort_values(by='Frequency', ascending=False) for cls, counter in class_noun_counters.items()}\n",
    "B_noun_stats = {cls: pd.DataFrame(B_noun_counters.items(), columns=['Morph', 'Frequency']).sort_values(by='Frequency', ascending=False) for cls, counter in class_morph_counters.items()}"
   ]
  },
  {
   "cell_type": "code",
   "execution_count": null,
   "id": "ae7e0f43",
   "metadata": {},
   "outputs": [],
   "source": [
    "# 형태소 통계를 데이터프레임으로 전환하기\n",
    "A_morph_stats = {cls: pd.DataFrame(A_noun_counters.items(), columns=['Morph', 'Frequency']).sort_values(by='Frequency', ascending=False) for cls, counter in class_morph_counters.items()}\n",
    "B_morph_stats = {cls: pd.DataFrame(B_noun_counters.items(), columns=['Morph', 'Frequency']).sort_values(by='Frequency', ascending=False) for cls, counter in class_morph_counters.items()}"
   ]
  },
  {
   "cell_type": "code",
   "execution_count": null,
   "id": "72ed8bfb",
   "metadata": {},
   "outputs": [],
   "source": [
    "# A와 B 데이터의 상위 10개 명사 및 형태소 시각화\n",
    "# A 데이터의 상위 10개의 명사와 형태소를 서브플롯으로 그리기\n",
    "plot_top_10(A_noun_stats, A_morph_stats, 'Top 10 Nouns in A Data', 'Top 10 Morphs in A Data')\n",
    "plot_top_10(B_noun_stats, B_morph_stats, 'Top 10 Nouns in B Data', 'Top 10 Morphs in B Data')"
   ]
  },
  {
   "cell_type": "markdown",
   "id": "9c4506e7",
   "metadata": {},
   "source": [
    "#### 분석 결과 바탕으로 불용어 리스트 생성"
   ]
  },
  {
   "cell_type": "markdown",
   "id": "cd4b3ad5",
   "metadata": {},
   "source": [
    "기존 불용어 리스트"
   ]
  },
  {
   "cell_type": "code",
   "execution_count": null,
   "id": "4ee88b91",
   "metadata": {},
   "outputs": [],
   "source": [
    "# 불용어 리스트 불러오기\n",
    "origin_stopwords_path = \"stopwords.txt\"\n",
    "with open(stopwords_path, 'r', encoding='utf-8') as file:\n",
    "    stopwords = file.read().splitlines()\n",
    "stopwords"
   ]
  },
  {
   "cell_type": "markdown",
   "id": "63535a0a",
   "metadata": {},
   "source": [
    "추가 불용어 리스트"
   ]
  },
  {
   "cell_type": "code",
   "execution_count": null,
   "id": "97cc97ed",
   "metadata": {},
   "outputs": [],
   "source": [
    "# 추가 불용어 목록\n",
    "additional_stopwords = [\n",
    "    '것', '안', '못', '왜', '이', '저', '그', '사람', '너', '저희', '우리', '나', '너희', '당신',\n",
    "    '하지만', '그리고', '거나', '그러나', '그러면', '그런데', '그러므로', '그래서', '그럼', '근데', '그래',\n",
    "    '즉', '따라서', '이와', '여기', '저기', '거기', '이곳', '그곳', '저곳', '거기', '하나', '둘', '셋', '넷',\n",
    "]\n",
    "# 추가 불용어를 기본 불용어 사전에 추가하기\n",
    "stopwords.update(additional_stopwords)"
   ]
  },
  {
   "cell_type": "code",
   "execution_count": null,
   "id": "39ca3359",
   "metadata": {},
   "outputs": [],
   "source": [
    "stopwords_path = \"ko_stopwords.txt\"\n",
    "with open(stopwords_path, 'r', encoding='utf-8') as file:\n",
    "    stopwords = file.read().splitlines()\n",
    "stopwords"
   ]
  }
 ],
 "metadata": {
  "colab": {
   "provenance": []
  },
  "kernelspec": {
   "display_name": "Python 3 (ipykernel)",
   "language": "python",
   "name": "python3"
  },
  "language_info": {
   "codemirror_mode": {
    "name": "ipython",
    "version": 3
   },
   "file_extension": ".py",
   "mimetype": "text/x-python",
   "name": "python",
   "nbconvert_exporter": "python",
   "pygments_lexer": "ipython3",
   "version": "3.9.7"
  }
 },
 "nbformat": 4,
 "nbformat_minor": 5
}
